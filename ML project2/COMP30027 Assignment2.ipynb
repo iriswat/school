{
 "cells": [
  {
   "cell_type": "code",
   "execution_count": 110,
   "metadata": {
    "collapsed": true
   },
   "outputs": [],
   "source": [
    "import pandas as pd\n",
    "import numpy as np\n",
    "import seaborn as sns\n",
    "import matplotlib.pyplot as plt\n",
    "from sklearn.ensemble import RandomForestClassifier\n",
    "from sklearn.svm import SVC\n",
    "from sklearn.linear_model import SGDClassifier\n",
    "from sklearn.metrics import confusion_matrix, classification_report\n",
    "from sklearn.preprocessing import StandardScaler, LabelEncoder\n",
    "from sklearn.model_selection import train_test_split, GridSearchCV, cross_val_score\n",
    "%matplotlib inline"
   ]
  },
  {
   "cell_type": "code",
   "execution_count": 111,
   "metadata": {
    "collapsed": false
   },
   "outputs": [],
   "source": [
    "train = pd.read_csv('train_raw.csv')\n",
    "train.columns = ['User_ID', 'Gender', 'Age', 'Occupation', 'Star_Sign', 'Date', 'Text']\n",
    "\n",
    "test = pd.read_csv('dev_raw.csv')\n",
    "test.columns = ['User_ID', 'Gender', 'Age', 'Occupation', 'Star_Sign', 'Date', 'Text']"
   ]
  },
  {
   "cell_type": "code",
   "execution_count": 112,
   "metadata": {
    "collapsed": true
   },
   "outputs": [],
   "source": [
    "train_top10 = pd.read_csv('train_top10.csv')\n",
    "test_top10 = pd.read_csv('dev_top10.csv')"
   ]
  },
  {
   "cell_type": "code",
   "execution_count": 113,
   "metadata": {
    "collapsed": false
   },
   "outputs": [],
   "source": [
    "from sklearn.feature_extraction.text import CountVectorizer\n",
    "from sklearn.feature_extraction.text import TfidfTransformer\n",
    "from sklearn.naive_bayes import MultinomialNB\n",
    "from sklearn.pipeline import Pipeline\n",
    "from sklearn.metrics import precision_score, recall_score, f1_score, mean_squared_error, r2_score"
   ]
  },
  {
   "cell_type": "code",
   "execution_count": 114,
   "metadata": {
    "collapsed": false
   },
   "outputs": [
    {
     "data": {
      "text/html": [
       "<div>\n",
       "<style scoped>\n",
       "    .dataframe tbody tr th:only-of-type {\n",
       "        vertical-align: middle;\n",
       "    }\n",
       "\n",
       "    .dataframe tbody tr th {\n",
       "        vertical-align: top;\n",
       "    }\n",
       "\n",
       "    .dataframe thead th {\n",
       "        text-align: right;\n",
       "    }\n",
       "</style>\n",
       "<table border=\"1\" class=\"dataframe\">\n",
       "  <thead>\n",
       "    <tr style=\"text-align: right;\">\n",
       "      <th></th>\n",
       "      <th>User_ID</th>\n",
       "      <th>Gender</th>\n",
       "      <th>Age</th>\n",
       "      <th>Occupation</th>\n",
       "      <th>Star_Sign</th>\n",
       "      <th>Date</th>\n",
       "      <th>Text</th>\n",
       "      <th>Age_range</th>\n",
       "    </tr>\n",
       "  </thead>\n",
       "  <tbody>\n",
       "    <tr>\n",
       "      <th>0</th>\n",
       "      <td>5114</td>\n",
       "      <td>male</td>\n",
       "      <td>25</td>\n",
       "      <td>indUnk</td>\n",
       "      <td>Scorpio</td>\n",
       "      <td>01,May,2001</td>\n",
       "      <td>I'm DSLless for 10 days.  I suppo...</td>\n",
       "      <td>24-26</td>\n",
       "    </tr>\n",
       "    <tr>\n",
       "      <th>1</th>\n",
       "      <td>5114</td>\n",
       "      <td>male</td>\n",
       "      <td>25</td>\n",
       "      <td>indUnk</td>\n",
       "      <td>Scorpio</td>\n",
       "      <td>01,October,2001</td>\n",
       "      <td>Crap.  I ordered the new Citizen ...</td>\n",
       "      <td>24-26</td>\n",
       "    </tr>\n",
       "    <tr>\n",
       "      <th>2</th>\n",
       "      <td>5114</td>\n",
       "      <td>male</td>\n",
       "      <td>25</td>\n",
       "      <td>indUnk</td>\n",
       "      <td>Scorpio</td>\n",
       "      <td>01,October,2002</td>\n",
       "      <td>I can't get enough of CBC's  urlL...</td>\n",
       "      <td>24-26</td>\n",
       "    </tr>\n",
       "    <tr>\n",
       "      <th>3</th>\n",
       "      <td>5114</td>\n",
       "      <td>male</td>\n",
       "      <td>25</td>\n",
       "      <td>indUnk</td>\n",
       "      <td>Scorpio</td>\n",
       "      <td>01,October,2002</td>\n",
       "      <td>In case anyone's sitting on the e...</td>\n",
       "      <td>24-26</td>\n",
       "    </tr>\n",
       "    <tr>\n",
       "      <th>4</th>\n",
       "      <td>5114</td>\n",
       "      <td>male</td>\n",
       "      <td>25</td>\n",
       "      <td>indUnk</td>\n",
       "      <td>Scorpio</td>\n",
       "      <td>02,April,2001</td>\n",
       "      <td>urlLink 'We reinvented culture t...</td>\n",
       "      <td>24-26</td>\n",
       "    </tr>\n",
       "    <tr>\n",
       "      <th>5</th>\n",
       "      <td>5114</td>\n",
       "      <td>male</td>\n",
       "      <td>25</td>\n",
       "      <td>indUnk</td>\n",
       "      <td>Scorpio</td>\n",
       "      <td>02,April,2001</td>\n",
       "      <td>urlLink There's a great article ...</td>\n",
       "      <td>24-26</td>\n",
       "    </tr>\n",
       "    <tr>\n",
       "      <th>6</th>\n",
       "      <td>5114</td>\n",
       "      <td>male</td>\n",
       "      <td>25</td>\n",
       "      <td>indUnk</td>\n",
       "      <td>Scorpio</td>\n",
       "      <td>02,December,2001</td>\n",
       "      <td>I'm the top left corner on Cory D...</td>\n",
       "      <td>24-26</td>\n",
       "    </tr>\n",
       "    <tr>\n",
       "      <th>7</th>\n",
       "      <td>5114</td>\n",
       "      <td>male</td>\n",
       "      <td>25</td>\n",
       "      <td>indUnk</td>\n",
       "      <td>Scorpio</td>\n",
       "      <td>02,December,2003</td>\n",
       "      <td>I've started a film blog:   urlLi...</td>\n",
       "      <td>24-26</td>\n",
       "    </tr>\n",
       "    <tr>\n",
       "      <th>8</th>\n",
       "      <td>5114</td>\n",
       "      <td>male</td>\n",
       "      <td>25</td>\n",
       "      <td>indUnk</td>\n",
       "      <td>Scorpio</td>\n",
       "      <td>02,June,2001</td>\n",
       "      <td>urlLink Great roadtrip article b...</td>\n",
       "      <td>24-26</td>\n",
       "    </tr>\n",
       "    <tr>\n",
       "      <th>9</th>\n",
       "      <td>5114</td>\n",
       "      <td>male</td>\n",
       "      <td>25</td>\n",
       "      <td>indUnk</td>\n",
       "      <td>Scorpio</td>\n",
       "      <td>02,March,2002</td>\n",
       "      <td>urlLink Daily Relay  is finally ...</td>\n",
       "      <td>24-26</td>\n",
       "    </tr>\n",
       "    <tr>\n",
       "      <th>10</th>\n",
       "      <td>5114</td>\n",
       "      <td>male</td>\n",
       "      <td>25</td>\n",
       "      <td>indUnk</td>\n",
       "      <td>Scorpio</td>\n",
       "      <td>02,November,2001</td>\n",
       "      <td>Here's what the Slashdot effect l...</td>\n",
       "      <td>24-26</td>\n",
       "    </tr>\n",
       "    <tr>\n",
       "      <th>11</th>\n",
       "      <td>5114</td>\n",
       "      <td>male</td>\n",
       "      <td>25</td>\n",
       "      <td>indUnk</td>\n",
       "      <td>Scorpio</td>\n",
       "      <td>03,April,2001</td>\n",
       "      <td>urlLink Home of the Underdogs  i...</td>\n",
       "      <td>24-26</td>\n",
       "    </tr>\n",
       "    <tr>\n",
       "      <th>12</th>\n",
       "      <td>5114</td>\n",
       "      <td>male</td>\n",
       "      <td>25</td>\n",
       "      <td>indUnk</td>\n",
       "      <td>Scorpio</td>\n",
       "      <td>03,April,2001</td>\n",
       "      <td>urlLink Mikel.org  pointed me to...</td>\n",
       "      <td>24-26</td>\n",
       "    </tr>\n",
       "    <tr>\n",
       "      <th>13</th>\n",
       "      <td>5114</td>\n",
       "      <td>male</td>\n",
       "      <td>25</td>\n",
       "      <td>indUnk</td>\n",
       "      <td>Scorpio</td>\n",
       "      <td>03,April,2003</td>\n",
       "      <td>This is incredible.  Scientists...</td>\n",
       "      <td>24-26</td>\n",
       "    </tr>\n",
       "    <tr>\n",
       "      <th>14</th>\n",
       "      <td>5114</td>\n",
       "      <td>male</td>\n",
       "      <td>25</td>\n",
       "      <td>indUnk</td>\n",
       "      <td>Scorpio</td>\n",
       "      <td>03,February,2002</td>\n",
       "      <td>There's a great little Chinese gr...</td>\n",
       "      <td>24-26</td>\n",
       "    </tr>\n",
       "    <tr>\n",
       "      <th>15</th>\n",
       "      <td>5114</td>\n",
       "      <td>male</td>\n",
       "      <td>25</td>\n",
       "      <td>indUnk</td>\n",
       "      <td>Scorpio</td>\n",
       "      <td>03,February,2002</td>\n",
       "      <td>Who'd have thought Mattel is stil...</td>\n",
       "      <td>24-26</td>\n",
       "    </tr>\n",
       "    <tr>\n",
       "      <th>16</th>\n",
       "      <td>5114</td>\n",
       "      <td>male</td>\n",
       "      <td>25</td>\n",
       "      <td>indUnk</td>\n",
       "      <td>Scorpio</td>\n",
       "      <td>03,February,2003</td>\n",
       "      <td>urlLink Deepsky  have posted the...</td>\n",
       "      <td>24-26</td>\n",
       "    </tr>\n",
       "    <tr>\n",
       "      <th>17</th>\n",
       "      <td>5114</td>\n",
       "      <td>male</td>\n",
       "      <td>25</td>\n",
       "      <td>indUnk</td>\n",
       "      <td>Scorpio</td>\n",
       "      <td>03,July,2001</td>\n",
       "      <td>urlLink Mindjack is back  and th...</td>\n",
       "      <td>24-26</td>\n",
       "    </tr>\n",
       "    <tr>\n",
       "      <th>18</th>\n",
       "      <td>5114</td>\n",
       "      <td>male</td>\n",
       "      <td>25</td>\n",
       "      <td>indUnk</td>\n",
       "      <td>Scorpio</td>\n",
       "      <td>03,July,2001</td>\n",
       "      <td>Man.  I uninstalled McAfee Virusc...</td>\n",
       "      <td>24-26</td>\n",
       "    </tr>\n",
       "    <tr>\n",
       "      <th>19</th>\n",
       "      <td>5114</td>\n",
       "      <td>male</td>\n",
       "      <td>25</td>\n",
       "      <td>indUnk</td>\n",
       "      <td>Scorpio</td>\n",
       "      <td>04,November,2002</td>\n",
       "      <td>Cory Doctorow  urlLink reviews Sm...</td>\n",
       "      <td>24-26</td>\n",
       "    </tr>\n",
       "    <tr>\n",
       "      <th>20</th>\n",
       "      <td>5114</td>\n",
       "      <td>male</td>\n",
       "      <td>25</td>\n",
       "      <td>indUnk</td>\n",
       "      <td>Scorpio</td>\n",
       "      <td>04,November,2002</td>\n",
       "      <td>There's a  urlLink new trailer  f...</td>\n",
       "      <td>24-26</td>\n",
       "    </tr>\n",
       "    <tr>\n",
       "      <th>21</th>\n",
       "      <td>5114</td>\n",
       "      <td>male</td>\n",
       "      <td>25</td>\n",
       "      <td>indUnk</td>\n",
       "      <td>Scorpio</td>\n",
       "      <td>04,October,2001</td>\n",
       "      <td>Redesigned.  Again.</td>\n",
       "      <td>24-26</td>\n",
       "    </tr>\n",
       "    <tr>\n",
       "      <th>22</th>\n",
       "      <td>5114</td>\n",
       "      <td>male</td>\n",
       "      <td>25</td>\n",
       "      <td>indUnk</td>\n",
       "      <td>Scorpio</td>\n",
       "      <td>05,April,2001</td>\n",
       "      <td>Something screwy's going on with ...</td>\n",
       "      <td>24-26</td>\n",
       "    </tr>\n",
       "    <tr>\n",
       "      <th>23</th>\n",
       "      <td>5114</td>\n",
       "      <td>male</td>\n",
       "      <td>25</td>\n",
       "      <td>indUnk</td>\n",
       "      <td>Scorpio</td>\n",
       "      <td>05,June,2001</td>\n",
       "      <td>Jason Kottke has some  urlLink gr...</td>\n",
       "      <td>24-26</td>\n",
       "    </tr>\n",
       "    <tr>\n",
       "      <th>24</th>\n",
       "      <td>5114</td>\n",
       "      <td>male</td>\n",
       "      <td>25</td>\n",
       "      <td>indUnk</td>\n",
       "      <td>Scorpio</td>\n",
       "      <td>05,March,2001</td>\n",
       "      <td>urlLink It looks like  there's s...</td>\n",
       "      <td>24-26</td>\n",
       "    </tr>\n",
       "    <tr>\n",
       "      <th>25</th>\n",
       "      <td>5114</td>\n",
       "      <td>male</td>\n",
       "      <td>25</td>\n",
       "      <td>indUnk</td>\n",
       "      <td>Scorpio</td>\n",
       "      <td>05,March,2001</td>\n",
       "      <td>The new issue of  urlLink Mindjac...</td>\n",
       "      <td>24-26</td>\n",
       "    </tr>\n",
       "    <tr>\n",
       "      <th>26</th>\n",
       "      <td>5114</td>\n",
       "      <td>male</td>\n",
       "      <td>25</td>\n",
       "      <td>indUnk</td>\n",
       "      <td>Scorpio</td>\n",
       "      <td>05,March,2002</td>\n",
       "      <td>Everyone's favorite Cory Doctorow...</td>\n",
       "      <td>24-26</td>\n",
       "    </tr>\n",
       "    <tr>\n",
       "      <th>27</th>\n",
       "      <td>5114</td>\n",
       "      <td>male</td>\n",
       "      <td>25</td>\n",
       "      <td>indUnk</td>\n",
       "      <td>Scorpio</td>\n",
       "      <td>05,October,2002</td>\n",
       "      <td>I'm kicking myself for missing th...</td>\n",
       "      <td>24-26</td>\n",
       "    </tr>\n",
       "    <tr>\n",
       "      <th>28</th>\n",
       "      <td>5114</td>\n",
       "      <td>male</td>\n",
       "      <td>25</td>\n",
       "      <td>indUnk</td>\n",
       "      <td>Scorpio</td>\n",
       "      <td>06,April,2001</td>\n",
       "      <td>Justin's  urlLink back from Japan...</td>\n",
       "      <td>24-26</td>\n",
       "    </tr>\n",
       "    <tr>\n",
       "      <th>29</th>\n",
       "      <td>5114</td>\n",
       "      <td>male</td>\n",
       "      <td>25</td>\n",
       "      <td>indUnk</td>\n",
       "      <td>Scorpio</td>\n",
       "      <td>06,April,2004</td>\n",
       "      <td>I'm looking for someone to be Adv...</td>\n",
       "      <td>24-26</td>\n",
       "    </tr>\n",
       "    <tr>\n",
       "      <th>...</th>\n",
       "      <td>...</td>\n",
       "      <td>...</td>\n",
       "      <td>...</td>\n",
       "      <td>...</td>\n",
       "      <td>...</td>\n",
       "      <td>...</td>\n",
       "      <td>...</td>\n",
       "      <td>...</td>\n",
       "    </tr>\n",
       "    <tr>\n",
       "      <th>276384</th>\n",
       "      <td>4326637</td>\n",
       "      <td>female</td>\n",
       "      <td>25</td>\n",
       "      <td>Consulting</td>\n",
       "      <td>Pisces</td>\n",
       "      <td>24,August,2004</td>\n",
       "      <td>Woohoo, how exciting! My very first...</td>\n",
       "      <td>24-26</td>\n",
       "    </tr>\n",
       "    <tr>\n",
       "      <th>276385</th>\n",
       "      <td>4326637</td>\n",
       "      <td>female</td>\n",
       "      <td>25</td>\n",
       "      <td>Consulting</td>\n",
       "      <td>Pisces</td>\n",
       "      <td>25,August,2004</td>\n",
       "      <td>Dear R,I had so much fun last night...</td>\n",
       "      <td>24-26</td>\n",
       "    </tr>\n",
       "    <tr>\n",
       "      <th>276386</th>\n",
       "      <td>4327103</td>\n",
       "      <td>female</td>\n",
       "      <td>26</td>\n",
       "      <td>Non-Profit</td>\n",
       "      <td>Aquarius</td>\n",
       "      <td>24,August,2004</td>\n",
       "      <td>Last night Robert and I went...</td>\n",
       "      <td>24-26</td>\n",
       "    </tr>\n",
       "    <tr>\n",
       "      <th>276387</th>\n",
       "      <td>4327698</td>\n",
       "      <td>male</td>\n",
       "      <td>24</td>\n",
       "      <td>InvestmentBanking</td>\n",
       "      <td>Cancer</td>\n",
       "      <td>24,August,2004</td>\n",
       "      <td>urlLink Sports - World record for Mich...</td>\n",
       "      <td>24-26</td>\n",
       "    </tr>\n",
       "    <tr>\n",
       "      <th>276388</th>\n",
       "      <td>4327698</td>\n",
       "      <td>male</td>\n",
       "      <td>24</td>\n",
       "      <td>InvestmentBanking</td>\n",
       "      <td>Cancer</td>\n",
       "      <td>24,August,2004</td>\n",
       "      <td>I decided to start my first Blog...  It...</td>\n",
       "      <td>24-26</td>\n",
       "    </tr>\n",
       "    <tr>\n",
       "      <th>276389</th>\n",
       "      <td>4327698</td>\n",
       "      <td>male</td>\n",
       "      <td>24</td>\n",
       "      <td>InvestmentBanking</td>\n",
       "      <td>Cancer</td>\n",
       "      <td>24,August,2004</td>\n",
       "      <td>I went to see Jeanesse who needed someo...</td>\n",
       "      <td>24-26</td>\n",
       "    </tr>\n",
       "    <tr>\n",
       "      <th>276390</th>\n",
       "      <td>4329299</td>\n",
       "      <td>male</td>\n",
       "      <td>16</td>\n",
       "      <td>Student</td>\n",
       "      <td>Virgo</td>\n",
       "      <td>24,August,2004</td>\n",
       "      <td>ugh, the first post of many, I guess.....</td>\n",
       "      <td>14-16</td>\n",
       "    </tr>\n",
       "    <tr>\n",
       "      <th>276391</th>\n",
       "      <td>4329299</td>\n",
       "      <td>male</td>\n",
       "      <td>16</td>\n",
       "      <td>Student</td>\n",
       "      <td>Virgo</td>\n",
       "      <td>24,August,2004</td>\n",
       "      <td>this is where i started on the last pos...</td>\n",
       "      <td>14-16</td>\n",
       "    </tr>\n",
       "    <tr>\n",
       "      <th>276392</th>\n",
       "      <td>4330137</td>\n",
       "      <td>male</td>\n",
       "      <td>26</td>\n",
       "      <td>Law</td>\n",
       "      <td>Gemini</td>\n",
       "      <td>24,August,2004</td>\n",
       "      <td>Welcome!   As soon as we can, Jon and ...</td>\n",
       "      <td>24-26</td>\n",
       "    </tr>\n",
       "    <tr>\n",
       "      <th>276393</th>\n",
       "      <td>4330137</td>\n",
       "      <td>male</td>\n",
       "      <td>26</td>\n",
       "      <td>Law</td>\n",
       "      <td>Gemini</td>\n",
       "      <td>24,August,2004</td>\n",
       "      <td>Hi gang -- Greetings from the land of t...</td>\n",
       "      <td>24-26</td>\n",
       "    </tr>\n",
       "    <tr>\n",
       "      <th>276394</th>\n",
       "      <td>4330295</td>\n",
       "      <td>female</td>\n",
       "      <td>16</td>\n",
       "      <td>Student</td>\n",
       "      <td>Taurus</td>\n",
       "      <td>24,August,2004</td>\n",
       "      <td>Me, being random and all decided that I ne...</td>\n",
       "      <td>14-16</td>\n",
       "    </tr>\n",
       "    <tr>\n",
       "      <th>276395</th>\n",
       "      <td>4330295</td>\n",
       "      <td>female</td>\n",
       "      <td>16</td>\n",
       "      <td>Student</td>\n",
       "      <td>Taurus</td>\n",
       "      <td>24,August,2004</td>\n",
       "      <td>Due to the school season beginning again, (...</td>\n",
       "      <td>14-16</td>\n",
       "    </tr>\n",
       "    <tr>\n",
       "      <th>276396</th>\n",
       "      <td>4330562</td>\n",
       "      <td>male</td>\n",
       "      <td>15</td>\n",
       "      <td>Student</td>\n",
       "      <td>Virgo</td>\n",
       "      <td>25,August,2004</td>\n",
       "      <td>After that hard work of finish's Dift's...</td>\n",
       "      <td>14-16</td>\n",
       "    </tr>\n",
       "    <tr>\n",
       "      <th>276397</th>\n",
       "      <td>4331320</td>\n",
       "      <td>male</td>\n",
       "      <td>15</td>\n",
       "      <td>Student</td>\n",
       "      <td>Sagittarius</td>\n",
       "      <td>24,August,2004</td>\n",
       "      <td>Britney &amp; Beau's Video Wedding(E! Onlin...</td>\n",
       "      <td>14-16</td>\n",
       "    </tr>\n",
       "    <tr>\n",
       "      <th>276398</th>\n",
       "      <td>4331320</td>\n",
       "      <td>male</td>\n",
       "      <td>15</td>\n",
       "      <td>Student</td>\n",
       "      <td>Sagittarius</td>\n",
       "      <td>24,August,2004</td>\n",
       "      <td>Destiny child's is planning to make a b...</td>\n",
       "      <td>14-16</td>\n",
       "    </tr>\n",
       "    <tr>\n",
       "      <th>276399</th>\n",
       "      <td>4331320</td>\n",
       "      <td>male</td>\n",
       "      <td>15</td>\n",
       "      <td>Student</td>\n",
       "      <td>Sagittarius</td>\n",
       "      <td>24,August,2004</td>\n",
       "      <td>Hey guys today I had a good day. I am t...</td>\n",
       "      <td>14-16</td>\n",
       "    </tr>\n",
       "    <tr>\n",
       "      <th>276400</th>\n",
       "      <td>4331320</td>\n",
       "      <td>male</td>\n",
       "      <td>15</td>\n",
       "      <td>Student</td>\n",
       "      <td>Sagittarius</td>\n",
       "      <td>24,August,2004</td>\n",
       "      <td>Jay-Z and R. Kelly Plan Fall Tour(AP, 0...</td>\n",
       "      <td>14-16</td>\n",
       "    </tr>\n",
       "    <tr>\n",
       "      <th>276401</th>\n",
       "      <td>4331320</td>\n",
       "      <td>male</td>\n",
       "      <td>15</td>\n",
       "      <td>Student</td>\n",
       "      <td>Sagittarius</td>\n",
       "      <td>24,August,2004</td>\n",
       "      <td>LUKAS SCHWARZACHER (Variety) TOKYO Trad...</td>\n",
       "      <td>14-16</td>\n",
       "    </tr>\n",
       "    <tr>\n",
       "      <th>276402</th>\n",
       "      <td>4331320</td>\n",
       "      <td>male</td>\n",
       "      <td>15</td>\n",
       "      <td>Student</td>\n",
       "      <td>Sagittarius</td>\n",
       "      <td>24,August,2004</td>\n",
       "      <td>Today I am working on a Forum skin desi...</td>\n",
       "      <td>14-16</td>\n",
       "    </tr>\n",
       "    <tr>\n",
       "      <th>276403</th>\n",
       "      <td>4332352</td>\n",
       "      <td>male</td>\n",
       "      <td>26</td>\n",
       "      <td>Communications-Media</td>\n",
       "      <td>Libra</td>\n",
       "      <td>24,August,2004</td>\n",
       "      <td>The first post is the first impre...</td>\n",
       "      <td>24-26</td>\n",
       "    </tr>\n",
       "    <tr>\n",
       "      <th>276404</th>\n",
       "      <td>4332352</td>\n",
       "      <td>male</td>\n",
       "      <td>26</td>\n",
       "      <td>Communications-Media</td>\n",
       "      <td>Libra</td>\n",
       "      <td>24,August,2004</td>\n",
       "      <td>This is the game-by-game predicti...</td>\n",
       "      <td>24-26</td>\n",
       "    </tr>\n",
       "    <tr>\n",
       "      <th>276405</th>\n",
       "      <td>4332599</td>\n",
       "      <td>female</td>\n",
       "      <td>26</td>\n",
       "      <td>Accounting</td>\n",
       "      <td>Sagittarius</td>\n",
       "      <td>24,August,2004</td>\n",
       "      <td>Hmm, now that I have did all the ...</td>\n",
       "      <td>24-26</td>\n",
       "    </tr>\n",
       "    <tr>\n",
       "      <th>276406</th>\n",
       "      <td>4333502</td>\n",
       "      <td>female</td>\n",
       "      <td>25</td>\n",
       "      <td>indUnk</td>\n",
       "      <td>Scorpio</td>\n",
       "      <td>24,August,2004</td>\n",
       "      <td>For some reason, I'm obsessed...</td>\n",
       "      <td>24-26</td>\n",
       "    </tr>\n",
       "    <tr>\n",
       "      <th>276407</th>\n",
       "      <td>4334776</td>\n",
       "      <td>male</td>\n",
       "      <td>24</td>\n",
       "      <td>Engineering</td>\n",
       "      <td>Aquarius</td>\n",
       "      <td>24,August,2004</td>\n",
       "      <td>I’m pissed off at this movie and at M. ...</td>\n",
       "      <td>24-26</td>\n",
       "    </tr>\n",
       "    <tr>\n",
       "      <th>276408</th>\n",
       "      <td>4334776</td>\n",
       "      <td>male</td>\n",
       "      <td>24</td>\n",
       "      <td>Engineering</td>\n",
       "      <td>Aquarius</td>\n",
       "      <td>24,August,2004</td>\n",
       "      <td>Just posting something so I can muck ar...</td>\n",
       "      <td>24-26</td>\n",
       "    </tr>\n",
       "    <tr>\n",
       "      <th>276409</th>\n",
       "      <td>4334776</td>\n",
       "      <td>male</td>\n",
       "      <td>24</td>\n",
       "      <td>Engineering</td>\n",
       "      <td>Aquarius</td>\n",
       "      <td>24,August,2004</td>\n",
       "      <td>Was there any doubt?  Yes some….but non...</td>\n",
       "      <td>24-26</td>\n",
       "    </tr>\n",
       "    <tr>\n",
       "      <th>276410</th>\n",
       "      <td>4334776</td>\n",
       "      <td>male</td>\n",
       "      <td>24</td>\n",
       "      <td>Engineering</td>\n",
       "      <td>Aquarius</td>\n",
       "      <td>24,August,2004</td>\n",
       "      <td>Where is my damned wallet?  I couldn't ...</td>\n",
       "      <td>24-26</td>\n",
       "    </tr>\n",
       "    <tr>\n",
       "      <th>276411</th>\n",
       "      <td>4334802</td>\n",
       "      <td>female</td>\n",
       "      <td>15</td>\n",
       "      <td>Arts</td>\n",
       "      <td>Libra</td>\n",
       "      <td>24,August,2004</td>\n",
       "      <td>This may be a bit of a rush; after all,...</td>\n",
       "      <td>14-16</td>\n",
       "    </tr>\n",
       "    <tr>\n",
       "      <th>276412</th>\n",
       "      <td>4334802</td>\n",
       "      <td>female</td>\n",
       "      <td>15</td>\n",
       "      <td>Arts</td>\n",
       "      <td>Libra</td>\n",
       "      <td>25,August,2004</td>\n",
       "      <td>He never saw it coming And look where...</td>\n",
       "      <td>14-16</td>\n",
       "    </tr>\n",
       "    <tr>\n",
       "      <th>276413</th>\n",
       "      <td>4334925</td>\n",
       "      <td>female</td>\n",
       "      <td>24</td>\n",
       "      <td>indUnk</td>\n",
       "      <td>Virgo</td>\n",
       "      <td>24,August,2004</td>\n",
       "      <td>It has been said the most importa...</td>\n",
       "      <td>24-26</td>\n",
       "    </tr>\n",
       "  </tbody>\n",
       "</table>\n",
       "<p>276414 rows × 8 columns</p>\n",
       "</div>"
      ],
      "text/plain": [
       "        User_ID  Gender  Age            Occupation    Star_Sign  \\\n",
       "0          5114    male   25                indUnk      Scorpio   \n",
       "1          5114    male   25                indUnk      Scorpio   \n",
       "2          5114    male   25                indUnk      Scorpio   \n",
       "3          5114    male   25                indUnk      Scorpio   \n",
       "4          5114    male   25                indUnk      Scorpio   \n",
       "5          5114    male   25                indUnk      Scorpio   \n",
       "6          5114    male   25                indUnk      Scorpio   \n",
       "7          5114    male   25                indUnk      Scorpio   \n",
       "8          5114    male   25                indUnk      Scorpio   \n",
       "9          5114    male   25                indUnk      Scorpio   \n",
       "10         5114    male   25                indUnk      Scorpio   \n",
       "11         5114    male   25                indUnk      Scorpio   \n",
       "12         5114    male   25                indUnk      Scorpio   \n",
       "13         5114    male   25                indUnk      Scorpio   \n",
       "14         5114    male   25                indUnk      Scorpio   \n",
       "15         5114    male   25                indUnk      Scorpio   \n",
       "16         5114    male   25                indUnk      Scorpio   \n",
       "17         5114    male   25                indUnk      Scorpio   \n",
       "18         5114    male   25                indUnk      Scorpio   \n",
       "19         5114    male   25                indUnk      Scorpio   \n",
       "20         5114    male   25                indUnk      Scorpio   \n",
       "21         5114    male   25                indUnk      Scorpio   \n",
       "22         5114    male   25                indUnk      Scorpio   \n",
       "23         5114    male   25                indUnk      Scorpio   \n",
       "24         5114    male   25                indUnk      Scorpio   \n",
       "25         5114    male   25                indUnk      Scorpio   \n",
       "26         5114    male   25                indUnk      Scorpio   \n",
       "27         5114    male   25                indUnk      Scorpio   \n",
       "28         5114    male   25                indUnk      Scorpio   \n",
       "29         5114    male   25                indUnk      Scorpio   \n",
       "...         ...     ...  ...                   ...          ...   \n",
       "276384  4326637  female   25            Consulting       Pisces   \n",
       "276385  4326637  female   25            Consulting       Pisces   \n",
       "276386  4327103  female   26            Non-Profit     Aquarius   \n",
       "276387  4327698    male   24     InvestmentBanking       Cancer   \n",
       "276388  4327698    male   24     InvestmentBanking       Cancer   \n",
       "276389  4327698    male   24     InvestmentBanking       Cancer   \n",
       "276390  4329299    male   16               Student        Virgo   \n",
       "276391  4329299    male   16               Student        Virgo   \n",
       "276392  4330137    male   26                   Law       Gemini   \n",
       "276393  4330137    male   26                   Law       Gemini   \n",
       "276394  4330295  female   16               Student       Taurus   \n",
       "276395  4330295  female   16               Student       Taurus   \n",
       "276396  4330562    male   15               Student        Virgo   \n",
       "276397  4331320    male   15               Student  Sagittarius   \n",
       "276398  4331320    male   15               Student  Sagittarius   \n",
       "276399  4331320    male   15               Student  Sagittarius   \n",
       "276400  4331320    male   15               Student  Sagittarius   \n",
       "276401  4331320    male   15               Student  Sagittarius   \n",
       "276402  4331320    male   15               Student  Sagittarius   \n",
       "276403  4332352    male   26  Communications-Media        Libra   \n",
       "276404  4332352    male   26  Communications-Media        Libra   \n",
       "276405  4332599  female   26            Accounting  Sagittarius   \n",
       "276406  4333502  female   25                indUnk      Scorpio   \n",
       "276407  4334776    male   24           Engineering     Aquarius   \n",
       "276408  4334776    male   24           Engineering     Aquarius   \n",
       "276409  4334776    male   24           Engineering     Aquarius   \n",
       "276410  4334776    male   24           Engineering     Aquarius   \n",
       "276411  4334802  female   15                  Arts        Libra   \n",
       "276412  4334802  female   15                  Arts        Libra   \n",
       "276413  4334925  female   24                indUnk        Virgo   \n",
       "\n",
       "                    Date                                               Text  \\\n",
       "0            01,May,2001               I'm DSLless for 10 days.  I suppo...   \n",
       "1        01,October,2001               Crap.  I ordered the new Citizen ...   \n",
       "2        01,October,2002               I can't get enough of CBC's  urlL...   \n",
       "3        01,October,2002               In case anyone's sitting on the e...   \n",
       "4          02,April,2001                urlLink 'We reinvented culture t...   \n",
       "5          02,April,2001                urlLink There's a great article ...   \n",
       "6       02,December,2001               I'm the top left corner on Cory D...   \n",
       "7       02,December,2003               I've started a film blog:   urlLi...   \n",
       "8           02,June,2001                urlLink Great roadtrip article b...   \n",
       "9          02,March,2002                urlLink Daily Relay  is finally ...   \n",
       "10      02,November,2001               Here's what the Slashdot effect l...   \n",
       "11         03,April,2001                urlLink Home of the Underdogs  i...   \n",
       "12         03,April,2001                urlLink Mikel.org  pointed me to...   \n",
       "13         03,April,2003                 This is incredible.  Scientists...   \n",
       "14      03,February,2002               There's a great little Chinese gr...   \n",
       "15      03,February,2002               Who'd have thought Mattel is stil...   \n",
       "16      03,February,2003                urlLink Deepsky  have posted the...   \n",
       "17          03,July,2001                urlLink Mindjack is back  and th...   \n",
       "18          03,July,2001               Man.  I uninstalled McAfee Virusc...   \n",
       "19      04,November,2002               Cory Doctorow  urlLink reviews Sm...   \n",
       "20      04,November,2002               There's a  urlLink new trailer  f...   \n",
       "21       04,October,2001                       Redesigned.  Again.            \n",
       "22         05,April,2001               Something screwy's going on with ...   \n",
       "23          05,June,2001               Jason Kottke has some  urlLink gr...   \n",
       "24         05,March,2001                urlLink It looks like  there's s...   \n",
       "25         05,March,2001               The new issue of  urlLink Mindjac...   \n",
       "26         05,March,2002               Everyone's favorite Cory Doctorow...   \n",
       "27       05,October,2002               I'm kicking myself for missing th...   \n",
       "28         06,April,2001               Justin's  urlLink back from Japan...   \n",
       "29         06,April,2004               I'm looking for someone to be Adv...   \n",
       "...                  ...                                                ...   \n",
       "276384    24,August,2004             Woohoo, how exciting! My very first...   \n",
       "276385    25,August,2004             Dear R,I had so much fun last night...   \n",
       "276386    24,August,2004                    Last night Robert and I went...   \n",
       "276387    24,August,2004          urlLink Sports - World record for Mich...   \n",
       "276388    24,August,2004         I decided to start my first Blog...  It...   \n",
       "276389    24,August,2004         I went to see Jeanesse who needed someo...   \n",
       "276390    24,August,2004          ugh, the first post of many, I guess.....   \n",
       "276391    24,August,2004         this is where i started on the last pos...   \n",
       "276392    24,August,2004          Welcome!   As soon as we can, Jon and ...   \n",
       "276393    24,August,2004         Hi gang -- Greetings from the land of t...   \n",
       "276394    24,August,2004      Me, being random and all decided that I ne...   \n",
       "276395    24,August,2004     Due to the school season beginning again, (...   \n",
       "276396    25,August,2004         After that hard work of finish's Dift's...   \n",
       "276397    24,August,2004         Britney & Beau's Video Wedding(E! Onlin...   \n",
       "276398    24,August,2004         Destiny child's is planning to make a b...   \n",
       "276399    24,August,2004         Hey guys today I had a good day. I am t...   \n",
       "276400    24,August,2004         Jay-Z and R. Kelly Plan Fall Tour(AP, 0...   \n",
       "276401    24,August,2004         LUKAS SCHWARZACHER (Variety) TOKYO Trad...   \n",
       "276402    24,August,2004         Today I am working on a Forum skin desi...   \n",
       "276403    24,August,2004               The first post is the first impre...   \n",
       "276404    24,August,2004               This is the game-by-game predicti...   \n",
       "276405    24,August,2004               Hmm, now that I have did all the ...   \n",
       "276406    24,August,2004                   For some reason, I'm obsessed...   \n",
       "276407    24,August,2004         I’m pissed off at this movie and at M. ...   \n",
       "276408    24,August,2004         Just posting something so I can muck ar...   \n",
       "276409    24,August,2004         Was there any doubt?  Yes some….but non...   \n",
       "276410    24,August,2004         Where is my damned wallet?  I couldn't ...   \n",
       "276411    24,August,2004         This may be a bit of a rush; after all,...   \n",
       "276412    25,August,2004           He never saw it coming And look where...   \n",
       "276413    24,August,2004               It has been said the most importa...   \n",
       "\n",
       "       Age_range  \n",
       "0          24-26  \n",
       "1          24-26  \n",
       "2          24-26  \n",
       "3          24-26  \n",
       "4          24-26  \n",
       "5          24-26  \n",
       "6          24-26  \n",
       "7          24-26  \n",
       "8          24-26  \n",
       "9          24-26  \n",
       "10         24-26  \n",
       "11         24-26  \n",
       "12         24-26  \n",
       "13         24-26  \n",
       "14         24-26  \n",
       "15         24-26  \n",
       "16         24-26  \n",
       "17         24-26  \n",
       "18         24-26  \n",
       "19         24-26  \n",
       "20         24-26  \n",
       "21         24-26  \n",
       "22         24-26  \n",
       "23         24-26  \n",
       "24         24-26  \n",
       "25         24-26  \n",
       "26         24-26  \n",
       "27         24-26  \n",
       "28         24-26  \n",
       "29         24-26  \n",
       "...          ...  \n",
       "276384     24-26  \n",
       "276385     24-26  \n",
       "276386     24-26  \n",
       "276387     24-26  \n",
       "276388     24-26  \n",
       "276389     24-26  \n",
       "276390     14-16  \n",
       "276391     14-16  \n",
       "276392     24-26  \n",
       "276393     24-26  \n",
       "276394     14-16  \n",
       "276395     14-16  \n",
       "276396     14-16  \n",
       "276397     14-16  \n",
       "276398     14-16  \n",
       "276399     14-16  \n",
       "276400     14-16  \n",
       "276401     14-16  \n",
       "276402     14-16  \n",
       "276403     24-26  \n",
       "276404     24-26  \n",
       "276405     24-26  \n",
       "276406     24-26  \n",
       "276407     24-26  \n",
       "276408     24-26  \n",
       "276409     24-26  \n",
       "276410     24-26  \n",
       "276411     14-16  \n",
       "276412     14-16  \n",
       "276413     24-26  \n",
       "\n",
       "[276414 rows x 8 columns]"
      ]
     },
     "execution_count": 114,
     "metadata": {},
     "output_type": "execute_result"
    }
   ],
   "source": [
    "train['Age_range'] = train.Age.map({14: \"14-16\", 15: \"14-16\", 16:\"14-16\", 24:\"24-26\", 25:\"24-26\", 26:\"24-26\", 34:\"34-36\", 35:\"34-36\", 36:\"34-36\", 44:\"44-46\", 45: \"44-46\", 46:\"44-46\"})\n",
    "train"
   ]
  },
  {
   "cell_type": "code",
   "execution_count": 115,
   "metadata": {
    "collapsed": false
   },
   "outputs": [
    {
     "data": {
      "text/html": [
       "<div>\n",
       "<style scoped>\n",
       "    .dataframe tbody tr th:only-of-type {\n",
       "        vertical-align: middle;\n",
       "    }\n",
       "\n",
       "    .dataframe tbody tr th {\n",
       "        vertical-align: top;\n",
       "    }\n",
       "\n",
       "    .dataframe thead th {\n",
       "        text-align: right;\n",
       "    }\n",
       "</style>\n",
       "<table border=\"1\" class=\"dataframe\">\n",
       "  <thead>\n",
       "    <tr style=\"text-align: right;\">\n",
       "      <th></th>\n",
       "      <th>User_ID</th>\n",
       "      <th>Gender</th>\n",
       "      <th>Age</th>\n",
       "      <th>Occupation</th>\n",
       "      <th>Star_Sign</th>\n",
       "      <th>Date</th>\n",
       "      <th>Text</th>\n",
       "      <th>Age_range</th>\n",
       "    </tr>\n",
       "  </thead>\n",
       "  <tbody>\n",
       "    <tr>\n",
       "      <th>0</th>\n",
       "      <td>11253</td>\n",
       "      <td>male</td>\n",
       "      <td>26</td>\n",
       "      <td>Technology</td>\n",
       "      <td>Aquarius</td>\n",
       "      <td>08,July,2004</td>\n",
       "      <td>Induction, on Monday, was in a buil...</td>\n",
       "      <td>24-26</td>\n",
       "    </tr>\n",
       "    <tr>\n",
       "      <th>1</th>\n",
       "      <td>11253</td>\n",
       "      <td>male</td>\n",
       "      <td>26</td>\n",
       "      <td>Technology</td>\n",
       "      <td>Aquarius</td>\n",
       "      <td>09,July,2004</td>\n",
       "      <td>At last back to a normal company wh...</td>\n",
       "      <td>24-26</td>\n",
       "    </tr>\n",
       "    <tr>\n",
       "      <th>2</th>\n",
       "      <td>11253</td>\n",
       "      <td>male</td>\n",
       "      <td>26</td>\n",
       "      <td>Technology</td>\n",
       "      <td>Aquarius</td>\n",
       "      <td>11,July,2004</td>\n",
       "      <td>Can't the  urlLink weather  just so...</td>\n",
       "      <td>24-26</td>\n",
       "    </tr>\n",
       "    <tr>\n",
       "      <th>3</th>\n",
       "      <td>11253</td>\n",
       "      <td>male</td>\n",
       "      <td>26</td>\n",
       "      <td>Technology</td>\n",
       "      <td>Aquarius</td>\n",
       "      <td>12,July,2004</td>\n",
       "      <td>...is a guy painting a blue wall bl...</td>\n",
       "      <td>24-26</td>\n",
       "    </tr>\n",
       "    <tr>\n",
       "      <th>4</th>\n",
       "      <td>11253</td>\n",
       "      <td>male</td>\n",
       "      <td>26</td>\n",
       "      <td>Technology</td>\n",
       "      <td>Aquarius</td>\n",
       "      <td>14,July,2004</td>\n",
       "      <td>My Dad has always wanted to go to  ...</td>\n",
       "      <td>24-26</td>\n",
       "    </tr>\n",
       "    <tr>\n",
       "      <th>5</th>\n",
       "      <td>11253</td>\n",
       "      <td>male</td>\n",
       "      <td>26</td>\n",
       "      <td>Technology</td>\n",
       "      <td>Aquarius</td>\n",
       "      <td>20,July,2004</td>\n",
       "      <td>About to go t bed late (again) got ...</td>\n",
       "      <td>24-26</td>\n",
       "    </tr>\n",
       "    <tr>\n",
       "      <th>6</th>\n",
       "      <td>46465</td>\n",
       "      <td>male</td>\n",
       "      <td>25</td>\n",
       "      <td>Internet</td>\n",
       "      <td>Virgo</td>\n",
       "      <td>01,August,2004</td>\n",
       "      <td>The Ultimate Death Survey  What do you...</td>\n",
       "      <td>24-26</td>\n",
       "    </tr>\n",
       "    <tr>\n",
       "      <th>7</th>\n",
       "      <td>46465</td>\n",
       "      <td>male</td>\n",
       "      <td>25</td>\n",
       "      <td>Internet</td>\n",
       "      <td>Virgo</td>\n",
       "      <td>01,August,2004</td>\n",
       "      <td>The Ultimate Politics Survey  Describe...</td>\n",
       "      <td>24-26</td>\n",
       "    </tr>\n",
       "    <tr>\n",
       "      <th>8</th>\n",
       "      <td>46465</td>\n",
       "      <td>male</td>\n",
       "      <td>25</td>\n",
       "      <td>Internet</td>\n",
       "      <td>Virgo</td>\n",
       "      <td>01,August,2004</td>\n",
       "      <td>After an exotic meal of macaroni &amp;amp; ...</td>\n",
       "      <td>24-26</td>\n",
       "    </tr>\n",
       "    <tr>\n",
       "      <th>9</th>\n",
       "      <td>46465</td>\n",
       "      <td>male</td>\n",
       "      <td>25</td>\n",
       "      <td>Internet</td>\n",
       "      <td>Virgo</td>\n",
       "      <td>02,August,2004</td>\n",
       "      <td>My sister is leaving me! Now I dont hav...</td>\n",
       "      <td>24-26</td>\n",
       "    </tr>\n",
       "    <tr>\n",
       "      <th>10</th>\n",
       "      <td>46465</td>\n",
       "      <td>male</td>\n",
       "      <td>25</td>\n",
       "      <td>Internet</td>\n",
       "      <td>Virgo</td>\n",
       "      <td>04,August,2004</td>\n",
       "      <td>Today I went and saw Faranheit 9/11 all...</td>\n",
       "      <td>24-26</td>\n",
       "    </tr>\n",
       "    <tr>\n",
       "      <th>11</th>\n",
       "      <td>46465</td>\n",
       "      <td>male</td>\n",
       "      <td>25</td>\n",
       "      <td>Internet</td>\n",
       "      <td>Virgo</td>\n",
       "      <td>06,July,2004</td>\n",
       "      <td>In 1982 (the year you were born)...</td>\n",
       "      <td>24-26</td>\n",
       "    </tr>\n",
       "    <tr>\n",
       "      <th>12</th>\n",
       "      <td>46465</td>\n",
       "      <td>male</td>\n",
       "      <td>25</td>\n",
       "      <td>Internet</td>\n",
       "      <td>Virgo</td>\n",
       "      <td>06,July,2004</td>\n",
       "      <td>So I left Sacramento on the 17th, very ...</td>\n",
       "      <td>24-26</td>\n",
       "    </tr>\n",
       "    <tr>\n",
       "      <th>13</th>\n",
       "      <td>46465</td>\n",
       "      <td>male</td>\n",
       "      <td>25</td>\n",
       "      <td>Internet</td>\n",
       "      <td>Virgo</td>\n",
       "      <td>06,July,2004</td>\n",
       "      <td>Yo voy de Julio el 17 para el County de...</td>\n",
       "      <td>24-26</td>\n",
       "    </tr>\n",
       "    <tr>\n",
       "      <th>14</th>\n",
       "      <td>46465</td>\n",
       "      <td>male</td>\n",
       "      <td>25</td>\n",
       "      <td>Internet</td>\n",
       "      <td>Virgo</td>\n",
       "      <td>12,June,2004</td>\n",
       "      <td>just seeing how it all looks.   cheers</td>\n",
       "      <td>24-26</td>\n",
       "    </tr>\n",
       "    <tr>\n",
       "      <th>15</th>\n",
       "      <td>46465</td>\n",
       "      <td>male</td>\n",
       "      <td>25</td>\n",
       "      <td>Internet</td>\n",
       "      <td>Virgo</td>\n",
       "      <td>12,May,2004</td>\n",
       "      <td>another test...</td>\n",
       "      <td>24-26</td>\n",
       "    </tr>\n",
       "    <tr>\n",
       "      <th>16</th>\n",
       "      <td>46465</td>\n",
       "      <td>male</td>\n",
       "      <td>25</td>\n",
       "      <td>Internet</td>\n",
       "      <td>Virgo</td>\n",
       "      <td>12,May,2004</td>\n",
       "      <td>test post 1...</td>\n",
       "      <td>24-26</td>\n",
       "    </tr>\n",
       "    <tr>\n",
       "      <th>17</th>\n",
       "      <td>46465</td>\n",
       "      <td>male</td>\n",
       "      <td>25</td>\n",
       "      <td>Internet</td>\n",
       "      <td>Virgo</td>\n",
       "      <td>17,June,2004</td>\n",
       "      <td>Okay, this is my first entry of what is...</td>\n",
       "      <td>24-26</td>\n",
       "    </tr>\n",
       "    <tr>\n",
       "      <th>18</th>\n",
       "      <td>46465</td>\n",
       "      <td>male</td>\n",
       "      <td>25</td>\n",
       "      <td>Internet</td>\n",
       "      <td>Virgo</td>\n",
       "      <td>17,June,2004</td>\n",
       "      <td>Yay! Thanks for this blog...i cant wait...</td>\n",
       "      <td>24-26</td>\n",
       "    </tr>\n",
       "    <tr>\n",
       "      <th>19</th>\n",
       "      <td>46465</td>\n",
       "      <td>male</td>\n",
       "      <td>25</td>\n",
       "      <td>Internet</td>\n",
       "      <td>Virgo</td>\n",
       "      <td>24,July,2004</td>\n",
       "      <td>So i passed out fairly intoxicated last...</td>\n",
       "      <td>24-26</td>\n",
       "    </tr>\n",
       "    <tr>\n",
       "      <th>20</th>\n",
       "      <td>46465</td>\n",
       "      <td>male</td>\n",
       "      <td>25</td>\n",
       "      <td>Internet</td>\n",
       "      <td>Virgo</td>\n",
       "      <td>27,July,2004</td>\n",
       "      <td>urlLink    mimosa morning 2 (i screwed...</td>\n",
       "      <td>24-26</td>\n",
       "    </tr>\n",
       "    <tr>\n",
       "      <th>21</th>\n",
       "      <td>46465</td>\n",
       "      <td>male</td>\n",
       "      <td>25</td>\n",
       "      <td>Internet</td>\n",
       "      <td>Virgo</td>\n",
       "      <td>29,July,2004</td>\n",
       "      <td>Ohmigod ....I'm leaving  next friday ...</td>\n",
       "      <td>24-26</td>\n",
       "    </tr>\n",
       "    <tr>\n",
       "      <th>22</th>\n",
       "      <td>46465</td>\n",
       "      <td>male</td>\n",
       "      <td>25</td>\n",
       "      <td>Internet</td>\n",
       "      <td>Virgo</td>\n",
       "      <td>29,July,2004</td>\n",
       "      <td>urlLink    Grrrr..dont mess with me, f...</td>\n",
       "      <td>24-26</td>\n",
       "    </tr>\n",
       "    <tr>\n",
       "      <th>23</th>\n",
       "      <td>46465</td>\n",
       "      <td>male</td>\n",
       "      <td>25</td>\n",
       "      <td>Internet</td>\n",
       "      <td>Virgo</td>\n",
       "      <td>30,July,2004</td>\n",
       "      <td>The Pink Kitty has arrived! For the wit...</td>\n",
       "      <td>24-26</td>\n",
       "    </tr>\n",
       "    <tr>\n",
       "      <th>24</th>\n",
       "      <td>46465</td>\n",
       "      <td>male</td>\n",
       "      <td>25</td>\n",
       "      <td>Internet</td>\n",
       "      <td>Virgo</td>\n",
       "      <td>31,July,2004</td>\n",
       "      <td>Last night mi madre cooked the best che...</td>\n",
       "      <td>24-26</td>\n",
       "    </tr>\n",
       "    <tr>\n",
       "      <th>25</th>\n",
       "      <td>99382</td>\n",
       "      <td>male</td>\n",
       "      <td>25</td>\n",
       "      <td>indUnk</td>\n",
       "      <td>Aquarius</td>\n",
       "      <td>02,June,2004</td>\n",
       "      <td></td>\n",
       "      <td>24-26</td>\n",
       "    </tr>\n",
       "    <tr>\n",
       "      <th>26</th>\n",
       "      <td>99382</td>\n",
       "      <td>male</td>\n",
       "      <td>25</td>\n",
       "      <td>indUnk</td>\n",
       "      <td>Aquarius</td>\n",
       "      <td>02,June,2004</td>\n",
       "      <td></td>\n",
       "      <td>24-26</td>\n",
       "    </tr>\n",
       "    <tr>\n",
       "      <th>27</th>\n",
       "      <td>99382</td>\n",
       "      <td>male</td>\n",
       "      <td>25</td>\n",
       "      <td>indUnk</td>\n",
       "      <td>Aquarius</td>\n",
       "      <td>02,June,2004</td>\n",
       "      <td></td>\n",
       "      <td>24-26</td>\n",
       "    </tr>\n",
       "    <tr>\n",
       "      <th>28</th>\n",
       "      <td>99382</td>\n",
       "      <td>male</td>\n",
       "      <td>25</td>\n",
       "      <td>indUnk</td>\n",
       "      <td>Aquarius</td>\n",
       "      <td>02,June,2004</td>\n",
       "      <td>urlLink I have Spawn action figure...</td>\n",
       "      <td>24-26</td>\n",
       "    </tr>\n",
       "    <tr>\n",
       "      <th>29</th>\n",
       "      <td>99382</td>\n",
       "      <td>male</td>\n",
       "      <td>25</td>\n",
       "      <td>indUnk</td>\n",
       "      <td>Aquarius</td>\n",
       "      <td>02,June,2004</td>\n",
       "      <td>urlLink This  here is reasons I de...</td>\n",
       "      <td>24-26</td>\n",
       "    </tr>\n",
       "    <tr>\n",
       "      <th>...</th>\n",
       "      <td>...</td>\n",
       "      <td>...</td>\n",
       "      <td>...</td>\n",
       "      <td>...</td>\n",
       "      <td>...</td>\n",
       "      <td>...</td>\n",
       "      <td>...</td>\n",
       "      <td>...</td>\n",
       "    </tr>\n",
       "    <tr>\n",
       "      <th>45301</th>\n",
       "      <td>4309190</td>\n",
       "      <td>male</td>\n",
       "      <td>46</td>\n",
       "      <td>Consulting</td>\n",
       "      <td>Gemini</td>\n",
       "      <td>22,August,2004</td>\n",
       "      <td>Hi, and welcome to the Personal Per...</td>\n",
       "      <td>44-46</td>\n",
       "    </tr>\n",
       "    <tr>\n",
       "      <th>45302</th>\n",
       "      <td>4309190</td>\n",
       "      <td>male</td>\n",
       "      <td>46</td>\n",
       "      <td>Consulting</td>\n",
       "      <td>Gemini</td>\n",
       "      <td>22,August,2004</td>\n",
       "      <td>Valuable advice:   'That is goal ob...</td>\n",
       "      <td>44-46</td>\n",
       "    </tr>\n",
       "    <tr>\n",
       "      <th>45303</th>\n",
       "      <td>4312505</td>\n",
       "      <td>female</td>\n",
       "      <td>27</td>\n",
       "      <td>indUnk</td>\n",
       "      <td>Gemini</td>\n",
       "      <td>23,August,2004</td>\n",
       "      <td>urlLink    Me on my very first vacatio...</td>\n",
       "      <td>?</td>\n",
       "    </tr>\n",
       "    <tr>\n",
       "      <th>45304</th>\n",
       "      <td>4312505</td>\n",
       "      <td>female</td>\n",
       "      <td>27</td>\n",
       "      <td>indUnk</td>\n",
       "      <td>Gemini</td>\n",
       "      <td>23,August,2004</td>\n",
       "      <td>Okay - so here's the deal - this is not...</td>\n",
       "      <td>?</td>\n",
       "    </tr>\n",
       "    <tr>\n",
       "      <th>45305</th>\n",
       "      <td>4312505</td>\n",
       "      <td>female</td>\n",
       "      <td>27</td>\n",
       "      <td>indUnk</td>\n",
       "      <td>Gemini</td>\n",
       "      <td>23,August,2004</td>\n",
       "      <td>Okay, so Jared is / was not the only re...</td>\n",
       "      <td>?</td>\n",
       "    </tr>\n",
       "    <tr>\n",
       "      <th>45306</th>\n",
       "      <td>4312505</td>\n",
       "      <td>female</td>\n",
       "      <td>27</td>\n",
       "      <td>indUnk</td>\n",
       "      <td>Gemini</td>\n",
       "      <td>23,August,2004</td>\n",
       "      <td>So as I'm sure you've all heard from me...</td>\n",
       "      <td>?</td>\n",
       "    </tr>\n",
       "    <tr>\n",
       "      <th>45307</th>\n",
       "      <td>4312505</td>\n",
       "      <td>female</td>\n",
       "      <td>27</td>\n",
       "      <td>indUnk</td>\n",
       "      <td>Gemini</td>\n",
       "      <td>23,August,2004</td>\n",
       "      <td>So as most of you know, I have been ext...</td>\n",
       "      <td>?</td>\n",
       "    </tr>\n",
       "    <tr>\n",
       "      <th>45308</th>\n",
       "      <td>4312505</td>\n",
       "      <td>female</td>\n",
       "      <td>27</td>\n",
       "      <td>indUnk</td>\n",
       "      <td>Gemini</td>\n",
       "      <td>23,August,2004</td>\n",
       "      <td>You know, you would think that download...</td>\n",
       "      <td>?</td>\n",
       "    </tr>\n",
       "    <tr>\n",
       "      <th>45309</th>\n",
       "      <td>4312505</td>\n",
       "      <td>female</td>\n",
       "      <td>27</td>\n",
       "      <td>indUnk</td>\n",
       "      <td>Gemini</td>\n",
       "      <td>24,August,2004</td>\n",
       "      <td>I don't even know if that's a word...bu...</td>\n",
       "      <td>?</td>\n",
       "    </tr>\n",
       "    <tr>\n",
       "      <th>45310</th>\n",
       "      <td>4313749</td>\n",
       "      <td>female</td>\n",
       "      <td>25</td>\n",
       "      <td>indUnk</td>\n",
       "      <td>Taurus</td>\n",
       "      <td>22,August,2004</td>\n",
       "      <td>Hello again, y'all.  I can't resi...</td>\n",
       "      <td>24-26</td>\n",
       "    </tr>\n",
       "    <tr>\n",
       "      <th>45311</th>\n",
       "      <td>4313749</td>\n",
       "      <td>female</td>\n",
       "      <td>25</td>\n",
       "      <td>indUnk</td>\n",
       "      <td>Taurus</td>\n",
       "      <td>22,August,2004</td>\n",
       "      <td>Ah yes, the summer Olympics are no...</td>\n",
       "      <td>24-26</td>\n",
       "    </tr>\n",
       "    <tr>\n",
       "      <th>45312</th>\n",
       "      <td>4313749</td>\n",
       "      <td>female</td>\n",
       "      <td>25</td>\n",
       "      <td>indUnk</td>\n",
       "      <td>Taurus</td>\n",
       "      <td>22,August,2004</td>\n",
       "      <td>Mornin', Y'all.      Six a.m. and ...</td>\n",
       "      <td>24-26</td>\n",
       "    </tr>\n",
       "    <tr>\n",
       "      <th>45313</th>\n",
       "      <td>4313749</td>\n",
       "      <td>female</td>\n",
       "      <td>25</td>\n",
       "      <td>indUnk</td>\n",
       "      <td>Taurus</td>\n",
       "      <td>22,August,2004</td>\n",
       "      <td>urlLink    Me. A doggy bed. Need I...</td>\n",
       "      <td>24-26</td>\n",
       "    </tr>\n",
       "    <tr>\n",
       "      <th>45314</th>\n",
       "      <td>4313749</td>\n",
       "      <td>female</td>\n",
       "      <td>25</td>\n",
       "      <td>indUnk</td>\n",
       "      <td>Taurus</td>\n",
       "      <td>23,August,2004</td>\n",
       "      <td>I'll be posting a link to my Ofoto...</td>\n",
       "      <td>24-26</td>\n",
       "    </tr>\n",
       "    <tr>\n",
       "      <th>45315</th>\n",
       "      <td>4313749</td>\n",
       "      <td>female</td>\n",
       "      <td>25</td>\n",
       "      <td>indUnk</td>\n",
       "      <td>Taurus</td>\n",
       "      <td>24,August,2004</td>\n",
       "      <td>Mornin, y'all.      Interesting bi...</td>\n",
       "      <td>24-26</td>\n",
       "    </tr>\n",
       "    <tr>\n",
       "      <th>45316</th>\n",
       "      <td>4320353</td>\n",
       "      <td>female</td>\n",
       "      <td>23</td>\n",
       "      <td>Military</td>\n",
       "      <td>Virgo</td>\n",
       "      <td>23,August,2004</td>\n",
       "      <td>I have decided to take the rest of the...</td>\n",
       "      <td>?</td>\n",
       "    </tr>\n",
       "    <tr>\n",
       "      <th>45317</th>\n",
       "      <td>4320353</td>\n",
       "      <td>female</td>\n",
       "      <td>23</td>\n",
       "      <td>Military</td>\n",
       "      <td>Virgo</td>\n",
       "      <td>23,August,2004</td>\n",
       "      <td>So here I am sitting on my couch, think...</td>\n",
       "      <td>?</td>\n",
       "    </tr>\n",
       "    <tr>\n",
       "      <th>45318</th>\n",
       "      <td>4320353</td>\n",
       "      <td>female</td>\n",
       "      <td>23</td>\n",
       "      <td>Military</td>\n",
       "      <td>Virgo</td>\n",
       "      <td>24,August,2004</td>\n",
       "      <td></td>\n",
       "      <td>?</td>\n",
       "    </tr>\n",
       "    <tr>\n",
       "      <th>45319</th>\n",
       "      <td>4320731</td>\n",
       "      <td>male</td>\n",
       "      <td>36</td>\n",
       "      <td>Consulting</td>\n",
       "      <td>Virgo</td>\n",
       "      <td>23,August,2004</td>\n",
       "      <td>urlLink Iranian girl is executed for '...</td>\n",
       "      <td>34-36</td>\n",
       "    </tr>\n",
       "    <tr>\n",
       "      <th>45320</th>\n",
       "      <td>4320731</td>\n",
       "      <td>male</td>\n",
       "      <td>36</td>\n",
       "      <td>Consulting</td>\n",
       "      <td>Virgo</td>\n",
       "      <td>23,August,2004</td>\n",
       "      <td>Now with a title like that, I know you,...</td>\n",
       "      <td>34-36</td>\n",
       "    </tr>\n",
       "    <tr>\n",
       "      <th>45321</th>\n",
       "      <td>4321513</td>\n",
       "      <td>male</td>\n",
       "      <td>16</td>\n",
       "      <td>Student</td>\n",
       "      <td>Taurus</td>\n",
       "      <td>23,August,2004</td>\n",
       "      <td>I have failed myself...again.  I succum...</td>\n",
       "      <td>14-16</td>\n",
       "    </tr>\n",
       "    <tr>\n",
       "      <th>45322</th>\n",
       "      <td>4321513</td>\n",
       "      <td>male</td>\n",
       "      <td>16</td>\n",
       "      <td>Student</td>\n",
       "      <td>Taurus</td>\n",
       "      <td>24,August,2004</td>\n",
       "      <td>I hate expectations. Today, in first pe...</td>\n",
       "      <td>14-16</td>\n",
       "    </tr>\n",
       "    <tr>\n",
       "      <th>45323</th>\n",
       "      <td>4323147</td>\n",
       "      <td>male</td>\n",
       "      <td>15</td>\n",
       "      <td>Agriculture</td>\n",
       "      <td>Capricorn</td>\n",
       "      <td>23,August,2004</td>\n",
       "      <td>Hey whats happening, this shit is ...</td>\n",
       "      <td>14-16</td>\n",
       "    </tr>\n",
       "    <tr>\n",
       "      <th>45324</th>\n",
       "      <td>4323865</td>\n",
       "      <td>female</td>\n",
       "      <td>33</td>\n",
       "      <td>indUnk</td>\n",
       "      <td>Libra</td>\n",
       "      <td>23,August,2004</td>\n",
       "      <td>This is my first post so bea...</td>\n",
       "      <td>?</td>\n",
       "    </tr>\n",
       "    <tr>\n",
       "      <th>45325</th>\n",
       "      <td>4323865</td>\n",
       "      <td>female</td>\n",
       "      <td>33</td>\n",
       "      <td>indUnk</td>\n",
       "      <td>Libra</td>\n",
       "      <td>24,August,2004</td>\n",
       "      <td>Today was an intresting day ...</td>\n",
       "      <td>?</td>\n",
       "    </tr>\n",
       "    <tr>\n",
       "      <th>45326</th>\n",
       "      <td>4323930</td>\n",
       "      <td>male</td>\n",
       "      <td>16</td>\n",
       "      <td>indUnk</td>\n",
       "      <td>Virgo</td>\n",
       "      <td>23,August,2004</td>\n",
       "      <td>Hey, life. I am kinda sceptical about ...</td>\n",
       "      <td>14-16</td>\n",
       "    </tr>\n",
       "    <tr>\n",
       "      <th>45327</th>\n",
       "      <td>4323930</td>\n",
       "      <td>male</td>\n",
       "      <td>16</td>\n",
       "      <td>indUnk</td>\n",
       "      <td>Virgo</td>\n",
       "      <td>23,August,2004</td>\n",
       "      <td>Ok, so just to sum up a couple of thing...</td>\n",
       "      <td>14-16</td>\n",
       "    </tr>\n",
       "    <tr>\n",
       "      <th>45328</th>\n",
       "      <td>4333855</td>\n",
       "      <td>male</td>\n",
       "      <td>14</td>\n",
       "      <td>indUnk</td>\n",
       "      <td>Libra</td>\n",
       "      <td>24,August,2004</td>\n",
       "      <td>I'm starting over again, sharing this...</td>\n",
       "      <td>14-16</td>\n",
       "    </tr>\n",
       "    <tr>\n",
       "      <th>45329</th>\n",
       "      <td>4333855</td>\n",
       "      <td>male</td>\n",
       "      <td>14</td>\n",
       "      <td>indUnk</td>\n",
       "      <td>Libra</td>\n",
       "      <td>24,August,2004</td>\n",
       "      <td>This is really cool. Wow! I'm making a ...</td>\n",
       "      <td>14-16</td>\n",
       "    </tr>\n",
       "    <tr>\n",
       "      <th>45330</th>\n",
       "      <td>4336651</td>\n",
       "      <td>female</td>\n",
       "      <td>25</td>\n",
       "      <td>Tourism</td>\n",
       "      <td>Sagittarius</td>\n",
       "      <td>24,August,2004</td>\n",
       "      <td>Not really to state that I am an expert...</td>\n",
       "      <td>24-26</td>\n",
       "    </tr>\n",
       "  </tbody>\n",
       "</table>\n",
       "<p>45331 rows × 8 columns</p>\n",
       "</div>"
      ],
      "text/plain": [
       "       User_ID  Gender  Age   Occupation    Star_Sign            Date  \\\n",
       "0        11253    male   26   Technology     Aquarius    08,July,2004   \n",
       "1        11253    male   26   Technology     Aquarius    09,July,2004   \n",
       "2        11253    male   26   Technology     Aquarius    11,July,2004   \n",
       "3        11253    male   26   Technology     Aquarius    12,July,2004   \n",
       "4        11253    male   26   Technology     Aquarius    14,July,2004   \n",
       "5        11253    male   26   Technology     Aquarius    20,July,2004   \n",
       "6        46465    male   25     Internet        Virgo  01,August,2004   \n",
       "7        46465    male   25     Internet        Virgo  01,August,2004   \n",
       "8        46465    male   25     Internet        Virgo  01,August,2004   \n",
       "9        46465    male   25     Internet        Virgo  02,August,2004   \n",
       "10       46465    male   25     Internet        Virgo  04,August,2004   \n",
       "11       46465    male   25     Internet        Virgo    06,July,2004   \n",
       "12       46465    male   25     Internet        Virgo    06,July,2004   \n",
       "13       46465    male   25     Internet        Virgo    06,July,2004   \n",
       "14       46465    male   25     Internet        Virgo    12,June,2004   \n",
       "15       46465    male   25     Internet        Virgo     12,May,2004   \n",
       "16       46465    male   25     Internet        Virgo     12,May,2004   \n",
       "17       46465    male   25     Internet        Virgo    17,June,2004   \n",
       "18       46465    male   25     Internet        Virgo    17,June,2004   \n",
       "19       46465    male   25     Internet        Virgo    24,July,2004   \n",
       "20       46465    male   25     Internet        Virgo    27,July,2004   \n",
       "21       46465    male   25     Internet        Virgo    29,July,2004   \n",
       "22       46465    male   25     Internet        Virgo    29,July,2004   \n",
       "23       46465    male   25     Internet        Virgo    30,July,2004   \n",
       "24       46465    male   25     Internet        Virgo    31,July,2004   \n",
       "25       99382    male   25       indUnk     Aquarius    02,June,2004   \n",
       "26       99382    male   25       indUnk     Aquarius    02,June,2004   \n",
       "27       99382    male   25       indUnk     Aquarius    02,June,2004   \n",
       "28       99382    male   25       indUnk     Aquarius    02,June,2004   \n",
       "29       99382    male   25       indUnk     Aquarius    02,June,2004   \n",
       "...        ...     ...  ...          ...          ...             ...   \n",
       "45301  4309190    male   46   Consulting       Gemini  22,August,2004   \n",
       "45302  4309190    male   46   Consulting       Gemini  22,August,2004   \n",
       "45303  4312505  female   27       indUnk       Gemini  23,August,2004   \n",
       "45304  4312505  female   27       indUnk       Gemini  23,August,2004   \n",
       "45305  4312505  female   27       indUnk       Gemini  23,August,2004   \n",
       "45306  4312505  female   27       indUnk       Gemini  23,August,2004   \n",
       "45307  4312505  female   27       indUnk       Gemini  23,August,2004   \n",
       "45308  4312505  female   27       indUnk       Gemini  23,August,2004   \n",
       "45309  4312505  female   27       indUnk       Gemini  24,August,2004   \n",
       "45310  4313749  female   25       indUnk       Taurus  22,August,2004   \n",
       "45311  4313749  female   25       indUnk       Taurus  22,August,2004   \n",
       "45312  4313749  female   25       indUnk       Taurus  22,August,2004   \n",
       "45313  4313749  female   25       indUnk       Taurus  22,August,2004   \n",
       "45314  4313749  female   25       indUnk       Taurus  23,August,2004   \n",
       "45315  4313749  female   25       indUnk       Taurus  24,August,2004   \n",
       "45316  4320353  female   23     Military        Virgo  23,August,2004   \n",
       "45317  4320353  female   23     Military        Virgo  23,August,2004   \n",
       "45318  4320353  female   23     Military        Virgo  24,August,2004   \n",
       "45319  4320731    male   36   Consulting        Virgo  23,August,2004   \n",
       "45320  4320731    male   36   Consulting        Virgo  23,August,2004   \n",
       "45321  4321513    male   16      Student       Taurus  23,August,2004   \n",
       "45322  4321513    male   16      Student       Taurus  24,August,2004   \n",
       "45323  4323147    male   15  Agriculture    Capricorn  23,August,2004   \n",
       "45324  4323865  female   33       indUnk        Libra  23,August,2004   \n",
       "45325  4323865  female   33       indUnk        Libra  24,August,2004   \n",
       "45326  4323930    male   16       indUnk        Virgo  23,August,2004   \n",
       "45327  4323930    male   16       indUnk        Virgo  23,August,2004   \n",
       "45328  4333855    male   14       indUnk        Libra  24,August,2004   \n",
       "45329  4333855    male   14       indUnk        Libra  24,August,2004   \n",
       "45330  4336651  female   25      Tourism  Sagittarius  24,August,2004   \n",
       "\n",
       "                                                    Text Age_range  \n",
       "0                 Induction, on Monday, was in a buil...     24-26  \n",
       "1                 At last back to a normal company wh...     24-26  \n",
       "2                 Can't the  urlLink weather  just so...     24-26  \n",
       "3                 ...is a guy painting a blue wall bl...     24-26  \n",
       "4                 My Dad has always wanted to go to  ...     24-26  \n",
       "5                 About to go t bed late (again) got ...     24-26  \n",
       "6              The Ultimate Death Survey  What do you...     24-26  \n",
       "7              The Ultimate Politics Survey  Describe...     24-26  \n",
       "8             After an exotic meal of macaroni &amp; ...     24-26  \n",
       "9             My sister is leaving me! Now I dont hav...     24-26  \n",
       "10            Today I went and saw Faranheit 9/11 all...     24-26  \n",
       "11                   In 1982 (the year you were born)...     24-26  \n",
       "12            So I left Sacramento on the 17th, very ...     24-26  \n",
       "13            Yo voy de Julio el 17 para el County de...     24-26  \n",
       "14            just seeing how it all looks.   cheers         24-26  \n",
       "15                              another test...              24-26  \n",
       "16                               test post 1...              24-26  \n",
       "17            Okay, this is my first entry of what is...     24-26  \n",
       "18            Yay! Thanks for this blog...i cant wait...     24-26  \n",
       "19            So i passed out fairly intoxicated last...     24-26  \n",
       "20             urlLink    mimosa morning 2 (i screwed...     24-26  \n",
       "21              Ohmigod ....I'm leaving  next friday ...     24-26  \n",
       "22             urlLink    Grrrr..dont mess with me, f...     24-26  \n",
       "23            The Pink Kitty has arrived! For the wit...     24-26  \n",
       "24            Last night mi madre cooked the best che...     24-26  \n",
       "25                                                           24-26  \n",
       "26                                                           24-26  \n",
       "27                                                           24-26  \n",
       "28                 urlLink I have Spawn action figure...     24-26  \n",
       "29                 urlLink This  here is reasons I de...     24-26  \n",
       "...                                                  ...       ...  \n",
       "45301             Hi, and welcome to the Personal Per...     44-46  \n",
       "45302             Valuable advice:   'That is goal ob...     44-46  \n",
       "45303          urlLink    Me on my very first vacatio...         ?  \n",
       "45304         Okay - so here's the deal - this is not...         ?  \n",
       "45305         Okay, so Jared is / was not the only re...         ?  \n",
       "45306         So as I'm sure you've all heard from me...         ?  \n",
       "45307         So as most of you know, I have been ext...         ?  \n",
       "45308         You know, you would think that download...         ?  \n",
       "45309         I don't even know if that's a word...bu...         ?  \n",
       "45310               Hello again, y'all.  I can't resi...     24-26  \n",
       "45311              Ah yes, the summer Olympics are no...     24-26  \n",
       "45312              Mornin', Y'all.      Six a.m. and ...     24-26  \n",
       "45313              urlLink    Me. A doggy bed. Need I...     24-26  \n",
       "45314              I'll be posting a link to my Ofoto...     24-26  \n",
       "45315              Mornin, y'all.      Interesting bi...     24-26  \n",
       "45316          I have decided to take the rest of the...         ?  \n",
       "45317         So here I am sitting on my couch, think...         ?  \n",
       "45318                                                            ?  \n",
       "45319          urlLink Iranian girl is executed for '...     34-36  \n",
       "45320         Now with a title like that, I know you,...     34-36  \n",
       "45321         I have failed myself...again.  I succum...     14-16  \n",
       "45322         I hate expectations. Today, in first pe...     14-16  \n",
       "45323              Hey whats happening, this shit is ...     14-16  \n",
       "45324                    This is my first post so bea...         ?  \n",
       "45325                    Today was an intresting day ...         ?  \n",
       "45326          Hey, life. I am kinda sceptical about ...     14-16  \n",
       "45327         Ok, so just to sum up a couple of thing...     14-16  \n",
       "45328           I'm starting over again, sharing this...     14-16  \n",
       "45329         This is really cool. Wow! I'm making a ...     14-16  \n",
       "45330         Not really to state that I am an expert...     24-26  \n",
       "\n",
       "[45331 rows x 8 columns]"
      ]
     },
     "execution_count": 115,
     "metadata": {},
     "output_type": "execute_result"
    }
   ],
   "source": [
    "test['Age_range'] = test.Age.map({14: \"14-16\", 15: \"14-16\", 16:\"14-16\", 24:\"24-26\", 25:\"24-26\", 26:\"24-26\", 34:\"34-36\", 35:\"34-36\", 36:\"34-36\", 44:\"44-46\", 45: \"44-46\", 46:\"44-46\"})\n",
    "test['Age_range'].fillna(\"?\", inplace=True)\n",
    "test"
   ]
  },
  {
   "cell_type": "code",
   "execution_count": 99,
   "metadata": {
    "collapsed": true
   },
   "outputs": [],
   "source": [
    "cleanup_nums = {\"Age_range\": {\"14-16\": 1, \"24-26\": 2, \"34-36\": 3, \"44-46\": 4}}\n",
    "train.replace(cleanup_nums, inplace=True)\n",
    "test.replace(cleanup_nums, inplace=True)"
   ]
  },
  {
   "cell_type": "code",
   "execution_count": 100,
   "metadata": {
    "collapsed": false
   },
   "outputs": [
    {
     "data": {
      "text/plain": [
       "array([[<matplotlib.axes._subplots.AxesSubplot object at 0x000001E527BBB4A8>]],\n",
       "      dtype=object)"
      ]
     },
     "execution_count": 100,
     "metadata": {},
     "output_type": "execute_result"
    },
    {
     "data": {
      "image/png": "[encoded data removed]",
      "text/plain": [
       "<Figure size 432x288 with 1 Axes>"
      ]
     },
     "metadata": {},
     "output_type": "display_data"
    }
   ],
   "source": [
    "train.hist(column='Age', bins=100)"
   ]
  },
  {
   "cell_type": "code",
   "execution_count": 10,
   "metadata": {
    "collapsed": false
   },
   "outputs": [
    {
     "data": {
      "text/plain": [
       "array([[<matplotlib.axes._subplots.AxesSubplot object at 0x000002232400DEF0>]],\n",
       "      dtype=object)"
      ]
     },
     "execution_count": 10,
     "metadata": {},
     "output_type": "execute_result"
    },
    {
     "data": {
      "image/png": "[encoded data removed]",
      "text/plain": [
       "<Figure size 432x288 with 1 Axes>"
      ]
     },
     "metadata": {},
     "output_type": "display_data"
    }
   ],
   "source": [
    "test.hist(column='Age', bins=100)"
   ]
  },
  {
   "cell_type": "code",
   "execution_count": 12,
   "metadata": {
    "collapsed": false
   },
   "outputs": [
    {
     "data": {
      "text/plain": [
       "<matplotlib.axes._subplots.AxesSubplot at 0x173c02d5eb8>"
      ]
     },
     "execution_count": 12,
     "metadata": {},
     "output_type": "execute_result"
    },
    {
     "data": {
      "image/png": "[encoded data removed]",
      "text/plain": [
       "<Figure size 432x288 with 1 Axes>"
      ]
     },
     "metadata": {},
     "output_type": "display_data"
    }
   ],
   "source": [
    "train['Age_range'].value_counts().plot(kind='bar')"
   ]
  },
  {
   "cell_type": "code",
   "execution_count": 13,
   "metadata": {
    "collapsed": false,
    "scrolled": true
   },
   "outputs": [
    {
     "data": {
      "text/plain": [
       "<matplotlib.axes._subplots.AxesSubplot at 0x173c03c7a58>"
      ]
     },
     "execution_count": 13,
     "metadata": {},
     "output_type": "execute_result"
    },
    {
     "data": {
      "image/png": "[encoded data removed]",
      "text/plain": [
       "<Figure size 432x288 with 1 Axes>"
      ]
     },
     "metadata": {},
     "output_type": "display_data"
    }
   ],
   "source": [
    "test['Age_range'].value_counts().plot(kind='bar')"
   ]
  },
  {
   "cell_type": "code",
   "execution_count": 116,
   "metadata": {
    "collapsed": false
   },
   "outputs": [],
   "source": [
    "X_train = train['Text'].values\n",
    "Y_train = train['Age_range'].values\n",
    "X_test = test['Text'].values\n",
    "Y_test = test['Age_range'].values"
   ]
  },
  {
   "cell_type": "code",
   "execution_count": 102,
   "metadata": {
    "collapsed": true
   },
   "outputs": [],
   "source": [
    "from sklearn.feature_extraction.text import TfidfVectorizer, CountVectorizer\n",
    "from sklearn.model_selection import cross_val_score\n",
    "from sklearn.pipeline import make_pipeline, make_union\n",
    "from sklearn.preprocessing import StandardScaler, scale\n",
    "from sklearn.linear_model import LogisticRegression\n"
   ]
  },
  {
   "cell_type": "code",
   "execution_count": 38,
   "metadata": {
    "collapsed": false
   },
   "outputs": [
    {
     "data": {
      "text/html": [
       "<div>\n",
       "<style scoped>\n",
       "    .dataframe tbody tr th:only-of-type {\n",
       "        vertical-align: middle;\n",
       "    }\n",
       "\n",
       "    .dataframe tbody tr th {\n",
       "        vertical-align: top;\n",
       "    }\n",
       "\n",
       "    .dataframe thead th {\n",
       "        text-align: right;\n",
       "    }\n",
       "</style>\n",
       "<table border=\"1\" class=\"dataframe\">\n",
       "  <thead>\n",
       "    <tr style=\"text-align: right;\">\n",
       "      <th></th>\n",
       "      <th>Age_range</th>\n",
       "      <th>Text</th>\n",
       "      <th>age_id</th>\n",
       "    </tr>\n",
       "  </thead>\n",
       "  <tbody>\n",
       "    <tr>\n",
       "      <th>276404</th>\n",
       "      <td>24-26</td>\n",
       "      <td>This is the game-by-game predicti...</td>\n",
       "      <td>0</td>\n",
       "    </tr>\n",
       "    <tr>\n",
       "      <th>276405</th>\n",
       "      <td>24-26</td>\n",
       "      <td>Hmm, now that I have did all the ...</td>\n",
       "      <td>0</td>\n",
       "    </tr>\n",
       "    <tr>\n",
       "      <th>276406</th>\n",
       "      <td>24-26</td>\n",
       "      <td>For some reason, I'm obsessed...</td>\n",
       "      <td>0</td>\n",
       "    </tr>\n",
       "    <tr>\n",
       "      <th>276407</th>\n",
       "      <td>24-26</td>\n",
       "      <td>I’m pissed off at this movie and at M. ...</td>\n",
       "      <td>0</td>\n",
       "    </tr>\n",
       "    <tr>\n",
       "      <th>276408</th>\n",
       "      <td>24-26</td>\n",
       "      <td>Just posting something so I can muck ar...</td>\n",
       "      <td>0</td>\n",
       "    </tr>\n",
       "    <tr>\n",
       "      <th>276409</th>\n",
       "      <td>24-26</td>\n",
       "      <td>Was there any doubt?  Yes some….but non...</td>\n",
       "      <td>0</td>\n",
       "    </tr>\n",
       "    <tr>\n",
       "      <th>276410</th>\n",
       "      <td>24-26</td>\n",
       "      <td>Where is my damned wallet?  I couldn't ...</td>\n",
       "      <td>0</td>\n",
       "    </tr>\n",
       "    <tr>\n",
       "      <th>276411</th>\n",
       "      <td>14-16</td>\n",
       "      <td>This may be a bit of a rush; after all,...</td>\n",
       "      <td>3</td>\n",
       "    </tr>\n",
       "    <tr>\n",
       "      <th>276412</th>\n",
       "      <td>14-16</td>\n",
       "      <td>He never saw it coming And look where...</td>\n",
       "      <td>3</td>\n",
       "    </tr>\n",
       "    <tr>\n",
       "      <th>276413</th>\n",
       "      <td>24-26</td>\n",
       "      <td>It has been said the most importa...</td>\n",
       "      <td>0</td>\n",
       "    </tr>\n",
       "  </tbody>\n",
       "</table>\n",
       "</div>"
      ],
      "text/plain": [
       "       Age_range                                               Text  age_id\n",
       "276404     24-26               This is the game-by-game predicti...       0\n",
       "276405     24-26               Hmm, now that I have did all the ...       0\n",
       "276406     24-26                   For some reason, I'm obsessed...       0\n",
       "276407     24-26         I’m pissed off at this movie and at M. ...       0\n",
       "276408     24-26         Just posting something so I can muck ar...       0\n",
       "276409     24-26         Was there any doubt?  Yes some….but non...       0\n",
       "276410     24-26         Where is my damned wallet?  I couldn't ...       0\n",
       "276411     14-16         This may be a bit of a rush; after all,...       3\n",
       "276412     14-16           He never saw it coming And look where...       3\n",
       "276413     24-26               It has been said the most importa...       0"
      ]
     },
     "execution_count": 38,
     "metadata": {},
     "output_type": "execute_result"
    }
   ],
   "source": [
    "from io import StringIO\n",
    "df = train\n",
    "col = ['Age_range', 'Text']\n",
    "df = df[col]\n",
    "df = df[pd.notnull(train['Text'])]\n",
    "df.columns = ['Age_range', 'Text']\n",
    "df['age_id'] = df['Age_range'].factorize()[0]\n",
    "age_id_df = df[['Age_range', 'age_id']].drop_duplicates().sort_values('age_id')\n",
    "age_to_id = dict(age_id_df.values)\n",
    "#id_to_age = dict(age_to_id[['age_id', 'Age_range']].values)\n",
    "df.tail(10)\n"
   ]
  },
  {
   "cell_type": "code",
   "execution_count": 13,
   "metadata": {
    "collapsed": false
   },
   "outputs": [
    {
     "name": "stderr",
     "output_type": "stream",
     "text": [
      "C:\\Users\\kenne\\Anaconda3\\lib\\site-packages\\sklearn\\feature_extraction\\text.py:1059: FutureWarning: Conversion of the second argument of issubdtype from `float` to `np.floating` is deprecated. In future, it will be treated as `np.float64 == np.dtype(float).type`.\n",
      "  if hasattr(X, 'dtype') and np.issubdtype(X.dtype, np.float):\n"
     ]
    },
    {
     "data": {
      "text/plain": [
       "0.5172177979748958"
      ]
     },
     "execution_count": 13,
     "metadata": {},
     "output_type": "execute_result"
    }
   ],
   "source": [
    "from sklearn.feature_extraction.text import TfidfVectorizer\n",
    "tfidf = TfidfVectorizer(sublinear_tf=True, max_df=0.9, min_df=5, norm='l2', stop_words='english')\n",
    "tfidf.fit(X_train)\n",
    "X_train_dtm = tfidf.transform(X_train)\n",
    "X_test_dtm = tfidf.transform(X_test)\n",
    "nb = MultinomialNB()\n",
    "nb.fit(X_train_dtm, Y_train)\n",
    "y_pred = nb.predict(X_test_dtm)\n",
    "np.mean(y_pred == Y_test)"
   ]
  },
  {
   "cell_type": "code",
   "execution_count": 15,
   "metadata": {
    "collapsed": false
   },
   "outputs": [
    {
     "data": {
      "text/plain": [
       "array([[ 8059,  5024,    12,     5,     0],\n",
       "       [ 1856, 15376,    55,    10,     0],\n",
       "       [   62,  2510,    11,     1,     0],\n",
       "       [   19,   528,     4,     0,     0],\n",
       "       [ 2806,  8929,    49,    15,     0]])"
      ]
     },
     "execution_count": 15,
     "metadata": {},
     "output_type": "execute_result"
    }
   ],
   "source": [
    "confusion_matrix(Y_test, y_pred_class)"
   ]
  },
  {
   "cell_type": "code",
   "execution_count": 18,
   "metadata": {
    "collapsed": false
   },
   "outputs": [
    {
     "name": "stderr",
     "output_type": "stream",
     "text": [
      "C:\\Users\\kenne\\Anaconda3\\lib\\site-packages\\sklearn\\feature_extraction\\text.py:1059: FutureWarning: Conversion of the second argument of issubdtype from `float` to `np.floating` is deprecated. In future, it will be treated as `np.float64 == np.dtype(float).type`.\n",
      "  if hasattr(X, 'dtype') and np.issubdtype(X.dtype, np.float):\n"
     ]
    },
    {
     "data": {
      "text/plain": [
       "0.5172177979748958"
      ]
     },
     "execution_count": 18,
     "metadata": {},
     "output_type": "execute_result"
    }
   ],
   "source": [
    "from sklearn.feature_extraction.text import TfidfVectorizer\n",
    "tfidf = TfidfVectorizer(sublinear_tf=True, max_df=0.9, min_df=5, norm='l2', stop_words='english', analyzer='word')\n",
    "tfidf.fit(X_train)\n",
    "X_train_dtm = tfidf.transform(X_train)\n",
    "X_test_dtm = tfidf.transform(X_test)\n",
    "nb = MultinomialNB()\n",
    "nb.fit(X_train_dtm, Y_train)\n",
    "y_pred = nb.predict(X_test_dtm)\n",
    "np.mean(y_pred == Y_test)"
   ]
  },
  {
   "cell_type": "code",
   "execution_count": 31,
   "metadata": {
    "collapsed": false
   },
   "outputs": [
    {
     "name": "stderr",
     "output_type": "stream",
     "text": [
      "C:\\Users\\kenne\\Anaconda3\\lib\\site-packages\\sklearn\\feature_extraction\\text.py:1059: FutureWarning: Conversion of the second argument of issubdtype from `float` to `np.floating` is deprecated. In future, it will be treated as `np.float64 == np.dtype(float).type`.\n",
      "  if hasattr(X, 'dtype') and np.issubdtype(X.dtype, np.float):\n"
     ]
    }
   ],
   "source": [
    "from sklearn.feature_extraction.text import TfidfVectorizer\n",
    "tfidf = TfidfVectorizer(sublinear_tf=True, max_df=0.3, min_df=5, norm='l2', stop_words='english', analyzer='word')\n",
    "tfidf.fit(X_train)\n",
    "X_train_dtm = tfidf.transform(X_train)\n",
    "X_test_dtm = tfidf.transform(X_test)\n"
   ]
  },
  {
   "cell_type": "code",
   "execution_count": 81,
   "metadata": {
    "collapsed": false
   },
   "outputs": [
    {
     "data": {
      "text/plain": [
       "<45331x82918 sparse matrix of type '<class 'numpy.float64'>'\n",
       "\twith 2830517 stored elements in Compressed Sparse Row format>"
      ]
     },
     "execution_count": 81,
     "metadata": {},
     "output_type": "execute_result"
    }
   ],
   "source": [
    "X_test_dtm"
   ]
  },
  {
   "cell_type": "code",
   "execution_count": 19,
   "metadata": {
    "collapsed": false
   },
   "outputs": [
    {
     "data": {
      "text/plain": [
       "array([[ 8059,  5024,    12,     5,     0],\n",
       "       [ 1856, 15376,    55,    10,     0],\n",
       "       [   62,  2510,    11,     1,     0],\n",
       "       [   19,   528,     4,     0,     0],\n",
       "       [ 2806,  8929,    49,    15,     0]])"
      ]
     },
     "execution_count": 19,
     "metadata": {},
     "output_type": "execute_result"
    }
   ],
   "source": [
    "confusion_matrix(Y_test, y_pred_class)"
   ]
  },
  {
   "cell_type": "code",
   "execution_count": 21,
   "metadata": {
    "collapsed": false
   },
   "outputs": [
    {
     "data": {
      "text/plain": [
       "{'10': 123,\n",
       " 'days': 19451,\n",
       " 'suppose': 71312,\n",
       " 'compared': 16151,\n",
       " 'companies': 16140,\n",
       " 'pretty': 57453,\n",
       " 'snappy': 67691,\n",
       " 'service': 65218,\n",
       " 'dsl': 22971,\n",
       " 'crap': 17941,\n",
       " 'ordered': 52470,\n",
       " 'new': 50210,\n",
       " 'citizen': 14944,\n",
       " 'kane': 39981,\n",
       " 'dvd': 23287,\n",
       " 'urllink': 77595,\n",
       " 'place': 55877,\n",
       " 'day': 19423,\n",
       " 'today': 74341,\n",
       " 'bucks': 11588,\n",
       " 'cheaper': 14098,\n",
       " 'cbc': 13457,\n",
       " '50th': 1550,\n",
       " 'anniversary': 5071,\n",
       " 'specials': 68703,\n",
       " 'wish': 80822,\n",
       " 'start': 69616,\n",
       " 'cable': 12281,\n",
       " 'channel': 13881,\n",
       " 'stuff': 70506,\n",
       " '50s': 1549,\n",
       " '60s': 1723,\n",
       " '70s': 1851,\n",
       " '80s': 1977,\n",
       " 'case': 13164,\n",
       " 'sitting': 66851,\n",
       " 'edge': 23639,\n",
       " 'site': 66829,\n",
       " 'rest': 61462,\n",
       " 'assured': 6468,\n",
       " 'mindjack': 47267,\n",
       " 'relaunch': 60766,\n",
       " 'track': 74912,\n",
       " 'monday': 48030,\n",
       " 'word': 81163,\n",
       " 'reinvented': 60698,\n",
       " 'culture': 18610,\n",
       " 'way': 79603,\n",
       " 'wanted': 79315,\n",
       " 'great': 31727,\n",
       " 'big': 9243,\n",
       " 'shoes': 65972,\n",
       " 'david': 19393,\n",
       " 'bowie': 10765,\n",
       " 'writes': 81459,\n",
       " 'glam': 30823,\n",
       " 'guardian': 32161,\n",
       " 'article': 6127,\n",
       " 'william': 80604,\n",
       " 'gibson': 30619,\n",
       " 'observer': 51568,\n",
       " 'special': 68688,\n",
       " 'japan': 38735,\n",
       " 'issue': 38359,\n",
       " 'left': 42406,\n",
       " 'corner': 17432,\n",
       " 'cory': 17549,\n",
       " 'doctorow': 22111,\n",
       " 'blogs': 9951,\n",
       " 'page': 53382,\n",
       " 'excuse': 25997,\n",
       " 'haven': 33460,\n",
       " 'posting': 56824,\n",
       " 'blog': 9904,\n",
       " 'lately': 42008,\n",
       " 'll': 43368,\n",
       " 'try': 75639,\n",
       " 'kick': 40604,\n",
       " 'pants': 53707,\n",
       " 'mas': 45578,\n",
       " 'break': 11022,\n",
       " 'thing': 73531,\n",
       " 'going': 31151,\n",
       " 've': 78063,\n",
       " 'started': 69618,\n",
       " 'film': 27611,\n",
       " 'ca': 12259,\n",
       " 'movies': 48572,\n",
       " 'promises': 57912,\n",
       " 'post': 56794,\n",
       " 'reviews': 61730,\n",
       " 'roadtrip': 62272,\n",
       " 'mark': 45404,\n",
       " 'magazine': 44609,\n",
       " 'half': 32821,\n",
       " 'century': 13656,\n",
       " 'ago': 3596,\n",
       " 'streets': 70310,\n",
       " 'southern': 68473,\n",
       " 'california': 12453,\n",
       " 'filled': 27598,\n",
       " 'flamboyant': 27951,\n",
       " 'towers': 74844,\n",
       " 'consumerism': 16952,\n",
       " 'obelisks': 51470,\n",
       " 'beacons': 8319,\n",
       " 'transmitting': 75115,\n",
       " 'neon': 50058,\n",
       " 'fortified': 28727,\n",
       " 'messages': 46736,\n",
       " 'optimism': 52382,\n",
       " 'families': 26751,\n",
       " 'riding': 61967,\n",
       " 'cars': 13102,\n",
       " 'space': 68531,\n",
       " 'age': 3512,\n",
       " 'life': 42882,\n",
       " 'good': 31238,\n",
       " 'marvels': 45556,\n",
       " 'modern': 47854,\n",
       " 'science': 64216,\n",
       " 'making': 44860,\n",
       " 'world': 81238,\n",
       " 'tomorrow': 74500,\n",
       " 'daily': 19028,\n",
       " 'relay': 60780,\n",
       " 'finally': 27655,\n",
       " 'using': 77659,\n",
       " 'blogger': 9921,\n",
       " 'interim': 37741,\n",
       " 'solution': 68117,\n",
       " 'probably': 57672,\n",
       " 'switch': 71774,\n",
       " 'pro': 57658,\n",
       " 'moveable': 48558,\n",
       " 'type': 76094,\n",
       " 'problems': 57694,\n",
       " 'sorted': 68383,\n",
       " 'slashdot': 67155,\n",
       " 'effect': 23778,\n",
       " 'looks': 43689,\n",
       " 'like': 42964,\n",
       " 'home': 34829,\n",
       " 'underdogs': 76636,\n",
       " 'amazing': 4524,\n",
       " 'resource': 61406,\n",
       " 'loves': 43914,\n",
       " 'computer': 16360,\n",
       " 'games': 29948,\n",
       " 'hundreds': 35629,\n",
       " 'download': 22565,\n",
       " 'longer': 43633,\n",
       " 'available': 6955,\n",
       " 'wealth': 79657,\n",
       " 'information': 37149,\n",
       " 'entirely': 24894,\n",
       " 'legal': 42420,\n",
       " 'think': 73550,\n",
       " 'public': 58313,\n",
       " 'better': 9073,\n",
       " 'favorite': 27052,\n",
       " 'gabriel': 29789,\n",
       " 'knight': 41004,\n",
       " 'mikel': 47115,\n",
       " 'org': 52506,\n",
       " 'pointed': 56296,\n",
       " 'rumor': 62944,\n",
       " 'automatic': 6917,\n",
       " 'media': 46212,\n",
       " 'trouble': 75533,\n",
       " 'company': 16144,\n",
       " 'consists': 16854,\n",
       " 'feed': 27189,\n",
       " 'suck': 70819,\n",
       " 'plastic': 55959,\n",
       " 'hopefully': 35063,\n",
       " 'just': 39723,\n",
       " 'rumour': 62947,\n",
       " 'incredible': 36814,\n",
       " 'scientists': 64221,\n",
       " 'discovered': 21516,\n",
       " 'colossal': 15858,\n",
       " 'squid': 69298,\n",
       " 'bigger': 9255,\n",
       " 'previous': 57482,\n",
       " 'biggest': 9256,\n",
       " 'giant': 30603,\n",
       " 'fully': 29522,\n",
       " 'grown': 32038,\n",
       " 'deep': 19834,\n",
       " 'sea': 64534,\n",
       " 'exploration': 26246,\n",
       " 'nearly': 49852,\n",
       " 'fascinating': 26929,\n",
       " 'imagine': 36295,\n",
       " 'seen': 64766,\n",
       " 'alive': 4178,\n",
       " 'interesting': 37723,\n",
       " 'notes': 51021,\n",
       " 'funding': 29556,\n",
       " 'research': 61298,\n",
       " 'discovery': 21521,\n",
       " 'little': 43298,\n",
       " 'chinese': 14454,\n",
       " 'grocery': 31938,\n",
       " 'street': 70303,\n",
       " 'apartment': 5407,\n",
       " 'tried': 75367,\n",
       " 'iron': 38183,\n",
       " 'buddha': 11601,\n",
       " 'tea': 72650,\n",
       " 'really': 59866,\n",
       " 'thought': 73652,\n",
       " 'mattel': 45786,\n",
       " 'classic': 15085,\n",
       " 'electronic': 24034,\n",
       " 'football': 28493,\n",
       " 'used': 77633,\n",
       " 'things': 73544,\n",
       " 'got': 31385,\n",
       " 'atari': 6561,\n",
       " '2600': 909,\n",
       " 'posted': 56807,\n",
       " 'remix': 60949,\n",
       " 'took': 74569,\n",
       " 'trip': 75419,\n",
       " 'gemini': 30327,\n",
       " 'spaceship': 68544,\n",
       " 'website': 79751,\n",
       " 'original': 52569,\n",
       " 'worth': 81299,\n",
       " 'listen': 43222,\n",
       " 'realaudio': 59815,\n",
       " 'link': 43131,\n",
       " 'come': 15919,\n",
       " 'man': 45019,\n",
       " 'uninstalled': 76981,\n",
       " 'mcafee': 45948,\n",
       " 'twice': 76003,\n",
       " 'fast': 26949,\n",
       " 'virus': 78623,\n",
       " 'scanner': 63981,\n",
       " 'memory': 46500,\n",
       " 'appetite': 5549,\n",
       " 'smart': 67476,\n",
       " 'mobs': 47808,\n",
       " 'applied': 5584,\n",
       " 'meatspace': 46177,\n",
       " 'zeitgeist': 82556,\n",
       " 'minded': 47256,\n",
       " 'souls': 68417,\n",
       " 'don': 22285,\n",
       " 'know': 41049,\n",
       " 'meet': 46292,\n",
       " 'pop': 56573,\n",
       " 'white': 80304,\n",
       " 'noise': 50766,\n",
       " 'balance': 7587,\n",
       " 'atomic': 6632,\n",
       " 'viewpoints': 78474,\n",
       " 'speak': 68669,\n",
       " 'voice': 78763,\n",
       " 'roaring': 62286,\n",
       " 'righteous': 61999,\n",
       " 'yes': 82100,\n",
       " 'adamant': 2983,\n",
       " 'organizers': 52529,\n",
       " 'leaders': 42255,\n",
       " 'forethought': 28603,\n",
       " 'depth': 20444,\n",
       " 'look': 43674,\n",
       " 'internet': 37785,\n",
       " 'archive': 5818,\n",
       " 'doug': 22516,\n",
       " 'roberts': 62315,\n",
       " 'tucked': 75731,\n",
       " 'away': 7069,\n",
       " 'neighborhoods': 50011,\n",
       " 'san': 63520,\n",
       " 'francisco': 28899,\n",
       " 'roomful': 62553,\n",
       " 'computers': 16365,\n",
       " 'terabyte': 73062,\n",
       " 'data': 19347,\n",
       " 'stored': 70136,\n",
       " 'stairs': 69468,\n",
       " 'lead': 42250,\n",
       " 'intimidating': 37894,\n",
       " 'hallway': 32869,\n",
       " 'opens': 52273,\n",
       " 'room': 62549,\n",
       " '15': 336,\n",
       " 'foot': 28490,\n",
       " 'ceilings': 13537,\n",
       " 'hip': 34482,\n",
       " 'ceiling': 13536,\n",
       " 'right': 61997,\n",
       " 'storage': 70134,\n",
       " 'area': 5840,\n",
       " 'single': 66716,\n",
       " 'desk': 20584,\n",
       " 'baker': 7567,\n",
       " 'racks': 59205,\n",
       " 'tightly': 73965,\n",
       " 'packed': 53324,\n",
       " 'shelf': 65681,\n",
       " 'hp': 35357,\n",
       " 'desktop': 20587,\n",
       " 'machines': 44474,\n",
       " 'turned': 75885,\n",
       " 'maximize': 45866,\n",
       " 'fan': 26767,\n",
       " 'squeaking': 69276,\n",
       " 'painfully': 53430,\n",
       " 'walking': 79208,\n",
       " 'echoey': 23577,\n",
       " 'warm': 79372,\n",
       " 'warehouse': 79348,\n",
       " 'easy': 23500,\n",
       " 'underwhelmed': 76732,\n",
       " 'realize': 59844,\n",
       " 'looking': 43686,\n",
       " 'spinning': 68901,\n",
       " 'copy': 17349,\n",
       " '1996': 678,\n",
       " 'trailer': 74974,\n",
       " 'steven': 69886,\n",
       " 'soderbergh': 67984,\n",
       " 'solaris': 68060,\n",
       " 'forward': 28751,\n",
       " 'fall': 26700,\n",
       " 'release': 60789,\n",
       " 'tarkovsky': 72441,\n",
       " 'russian': 63024,\n",
       " 'cinema': 14860,\n",
       " 'council': 17643,\n",
       " 'short': 66032,\n",
       " 'hope': 35057,\n",
       " 'review': 61725,\n",
       " 'released': 60790,\n",
       " 'redesigned': 60269,\n",
       " 'screwy': 64424,\n",
       " 'crashing': 17971,\n",
       " 'mouse': 48529,\n",
       " 'stuttering': 70572,\n",
       " 'mp3s': 48604,\n",
       " 'skipping': 67031,\n",
       " 'didn': 21031,\n",
       " 'slows': 67394,\n",
       " 'crawl': 17989,\n",
       " 'nagging': 49337,\n",
       " 'feeling': 27209,\n",
       " 'complete': 16251,\n",
       " 'format': 28669,\n",
       " 'reinstall': 60687,\n",
       " 'windows': 80690,\n",
       " 'want': 79311,\n",
       " 'jason': 38770,\n",
       " 'kottke': 41215,\n",
       " 'pictures': 55490,\n",
       " 'louvre': 43876,\n",
       " 'news': 50260,\n",
       " 'yahoo': 81844,\n",
       " 'later': 42013,\n",
       " 'online': 52132,\n",
       " 'featuring': 27154,\n",
       " 'live': 43314,\n",
       " 'concert': 16429,\n",
       " 'photos': 55366,\n",
       " 'gotten': 31406,\n",
       " 'gig': 30640,\n",
       " 'eff': 23774,\n",
       " 'reminds': 60936,\n",
       " 'march': 45292,\n",
       " 'decided': 19690,\n",
       " 'donate': 22292,\n",
       " 'shirt': 65877,\n",
       " 'sold': 68062,\n",
       " 'kicking': 40617,\n",
       " 'missing': 47580,\n",
       " 'bbc': 8256,\n",
       " 'radio': 59235,\n",
       " 'able': 2457,\n",
       " 'couple': 17711,\n",
       " 'songs': 68232,\n",
       " 'brothers': 11404,\n",
       " 'justin': 39739,\n",
       " 'stories': 70145,\n",
       " 'advertising': 3289,\n",
       " 'director': 21337,\n",
       " 'sales': 63386,\n",
       " 'experience': 26180,\n",
       " 'willing': 80613,\n",
       " 'work': 81186,\n",
       " 'commission': 16056,\n",
       " 'contract': 17072,\n",
       " 'job': 39246,\n",
       " 'interested': 37721,\n",
       " 'email': 24215,\n",
       " 'donald': 22289,\n",
       " 'com': 15886,\n",
       " 'attachments': 6663,\n",
       " 'constantly': 16893,\n",
       " 'writers': 81458,\n",
       " 'write': 81453,\n",
       " 'drop': 22869,\n",
       " 'sign': 66476,\n",
       " '249': 869,\n",
       " 'cnn': 15478,\n",
       " 'needs': 49933,\n",
       " 'sense': 65010,\n",
       " 'slapped': 67146,\n",
       " 'election': 24003,\n",
       " 'republicans': 61234,\n",
       " 'taken': 72168,\n",
       " 'control': 17117,\n",
       " 'senate': 64969,\n",
       " 'dick': 20978,\n",
       " 'gephardt': 30470,\n",
       " 'stepping': 69837,\n",
       " 'house': 35286,\n",
       " 'minority': 47366,\n",
       " 'leader': 42253,\n",
       " 'larry': 41947,\n",
       " 'king': 40782,\n",
       " 'talking': 72225,\n",
       " 'winona': 80765,\n",
       " 'ryder': 63069,\n",
       " 'verdict': 78227,\n",
       " 'breaking': 11041,\n",
       " 'graphic': 31640,\n",
       " 'idea': 36016,\n",
       " 'funny': 29611,\n",
       " 'does': 22151,\n",
       " 'unless': 77059,\n",
       " 'times': 74046,\n",
       " 'reports': 61168,\n",
       " 'coffee': 15619,\n",
       " 'machine': 44472,\n",
       " 'webcam': 79709,\n",
       " 'offline': 51800,\n",
       " 'year': 82019,\n",
       " 'pot': 56857,\n",
       " 'museum': 49015,\n",
       " 'proper': 57983,\n",
       " 'time': 74026,\n",
       " 'bit': 9499,\n",
       " 'slow': 67385,\n",
       " 'month': 48154,\n",
       " 'lengthy': 42546,\n",
       " 'lawrence': 42165,\n",
       " 'lessig': 42632,\n",
       " 'bryan': 11490,\n",
       " 'alexander': 4084,\n",
       " 'plus': 56193,\n",
       " 'neat': 49857,\n",
       " 'digital': 21141,\n",
       " 'camera': 12557,\n",
       " 'spread': 69125,\n",
       " 'interview': 37864,\n",
       " 'simon': 66627,\n",
       " 'singh': 66713,\n",
       " 'author': 6882,\n",
       " 'code': 15579,\n",
       " 'book': 10444,\n",
       " 'amazon': 4528,\n",
       " 'plain': 55903,\n",
       " 'eerie': 23759,\n",
       " 'gave': 30183,\n",
       " 'official': 51790,\n",
       " 'foreseeable': 28587,\n",
       " 'future': 29699,\n",
       " 'goes': 31131,\n",
       " 'continuing': 17049,\n",
       " 'years': 82030,\n",
       " 'excellent': 25919,\n",
       " 'pull': 58407,\n",
       " 'funk': 29579,\n",
       " 'form': 28659,\n",
       " 'months': 48157,\n",
       " 'yesterday': 82122,\n",
       " 'tim': 74012,\n",
       " 'ceo': 13657,\n",
       " 'miss': 47569,\n",
       " 'forecasts': 28563,\n",
       " 'quarter': 58881,\n",
       " 'stock': 70034,\n",
       " 'tumbled': 75792,\n",
       " 'watched': 79495,\n",
       " 'maps': 45259,\n",
       " 'territories': 73146,\n",
       " 'night': 50470,\n",
       " 'documentary': 22122,\n",
       " 'neale': 49840,\n",
       " 'kind': 40756,\n",
       " 'send': 64974,\n",
       " 'running': 62976,\n",
       " 'perks': 54859,\n",
       " 'limo': 43059,\n",
       " 'musing': 49046,\n",
       " 'cyberspace': 18880,\n",
       " 'religion': 60834,\n",
       " 'doing': 22191,\n",
       " 'weeks': 79823,\n",
       " 'matt': 45781,\n",
       " 'illustrations': 36257,\n",
       " 'synapse': 71902,\n",
       " 'join': 39326,\n",
       " 'came': 12549,\n",
       " 'british': 11270,\n",
       " 'columbia': 15874,\n",
       " 'art': 6101,\n",
       " 'objects': 51513,\n",
       " 'robots': 62333,\n",
       " 'net': 50127,\n",
       " 'coltrane': 15871,\n",
       " '75': 1892,\n",
       " 'myths': 49231,\n",
       " 'york': 82247,\n",
       " 'absence': 2529,\n",
       " 'called': 12476,\n",
       " 'sure': 71360,\n",
       " 'common': 16086,\n",
       " 'threads': 73687,\n",
       " 'covering': 17790,\n",
       " 'supernova': 71240,\n",
       " 'blogging': 9930,\n",
       " 'overlap': 53037,\n",
       " 'writing': 81466,\n",
       " 'fiction': 27480,\n",
       " 'makes': 44851,\n",
       " 'unique': 77002,\n",
       " 'combination': 15902,\n",
       " 'launching': 42096,\n",
       " 'sells': 64900,\n",
       " 'neural': 50165,\n",
       " 'plugs': 56161,\n",
       " 'stim': 69967,\n",
       " 'sims': 66661,\n",
       " 'anybody': 5320,\n",
       " 'pay': 54289,\n",
       " 'reasons': 59923,\n",
       " 'vegetarian': 78095,\n",
       " 'washingtonpost': 79452,\n",
       " 'contributor': 17108,\n",
       " 'game': 29933,\n",
       " 'reviewer': 61727,\n",
       " 'hall': 32840,\n",
       " 'written': 81469,\n",
       " 'ethics': 25519,\n",
       " 'video': 78423,\n",
       " 'journalism': 39468,\n",
       " 'print': 57578,\n",
       " 'founded': 28789,\n",
       " '1981': 661,\n",
       " 'describes': 20520,\n",
       " 'early': 23425,\n",
       " 'recent': 60030,\n",
       " 'extent': 26334,\n",
       " 'cheerleaders': 14170,\n",
       " 'industry': 36989,\n",
       " 'loved': 43888,\n",
       " 'changed': 13870,\n",
       " 'past': 54094,\n",
       " '20': 730,\n",
       " 'publications': 58316,\n",
       " 'web': 79701,\n",
       " 'sites': 66832,\n",
       " 'employ': 24429,\n",
       " 'low': 43930,\n",
       " 'paid': 53419,\n",
       " 'hobbyists': 34669,\n",
       " 'targets': 72432,\n",
       " 'lavish': 42142,\n",
       " 'marketing': 45417,\n",
       " 'events': 25675,\n",
       " 'encourage': 24544,\n",
       " 'inappropriate': 36651,\n",
       " 'ties': 73938,\n",
       " 'makers': 44850,\n",
       " 'critics': 18235,\n",
       " 'best': 9019,\n",
       " 'spam': 68567,\n",
       " 'dear': 19563,\n",
       " 'sir': 66786,\n",
       " 'madam': 44527,\n",
       " 'supply': 71300,\n",
       " 'high': 34319,\n",
       " 'quality': 58846,\n",
       " 'flying': 28314,\n",
       " 'let': 42641,\n",
       " 'walk': 79194,\n",
       " 'normally': 50927,\n",
       " 'slide': 67269,\n",
       " 'sort': 68381,\n",
       " 'fashionable': 26938,\n",
       " 'product': 57772,\n",
       " 'fob': 28338,\n",
       " 'price': 57495,\n",
       " 'usd': 77628,\n",
       " '70': 1836,\n",
       " 'pair': 53455,\n",
       " 'welcome': 79918,\n",
       " 'order': 52468,\n",
       " 'details': 20669,\n",
       " 'http': 35412,\n",
       " 'www': 81579,\n",
       " 'htm': 35408,\n",
       " 'wood': 81065,\n",
       " 'mats': 45777,\n",
       " 'flooring': 28194,\n",
       " 'decorate': 19766,\n",
       " 'panels': 53639,\n",
       " 'english': 24705,\n",
       " 'regards': 60528,\n",
       " 'mr': 48618,\n",
       " 'tan': 72296,\n",
       " 'long': 43627,\n",
       " 'guilin': 32244,\n",
       " 'bamboo': 7687,\n",
       " 'address': 3048,\n",
       " '229': 831,\n",
       " 'road': 62258,\n",
       " 'guang': 32147,\n",
       " 'china': 14446,\n",
       " 'tel': 72828,\n",
       " 'fax': 27078,\n",
       " '86': 2037,\n",
       " '773': 1918,\n",
       " 'mail': 44742,\n",
       " 'gx': 32452,\n",
       " 'cn': 15472,\n",
       " 'aren': 5843,\n",
       " 'reading': 59790,\n",
       " 'abc': 2400,\n",
       " 'reporter': 61165,\n",
       " 'john': 39306,\n",
       " 'accidentally': 2678,\n",
       " 'decapitated': 19653,\n",
       " 'late': 42003,\n",
       " 'shooting': 65997,\n",
       " 'segment': 64792,\n",
       " 'debunking': 19632,\n",
       " 'myth': 49224,\n",
       " 'wind': 80668,\n",
       " 'power': 56946,\n",
       " 'returns': 61651,\n",
       " 'air': 3790,\n",
       " 'wednesday': 79776,\n",
       " 'anchor': 4826,\n",
       " 'barbara': 7831,\n",
       " 'walters': 79256,\n",
       " 'story': 70156,\n",
       " 'explains': 26219,\n",
       " 'people': 54704,\n",
       " 'wouldn': 81331,\n",
       " 'survive': 71461,\n",
       " 'decapitation': 19655,\n",
       " 'guts': 32410,\n",
       " 'determination': 20698,\n",
       " 'jobs': 39254,\n",
       " 'real': 59813,\n",
       " 'triumph': 75458,\n",
       " 'human': 35528,\n",
       " 'spirit': 68919,\n",
       " 'play': 55998,\n",
       " 'features': 27152,\n",
       " 'return': 61648,\n",
       " 'normal': 50919,\n",
       " 'shortly': 66061,\n",
       " 'lots': 43827,\n",
       " 'words': 81176,\n",
       " 'zealand': 82534,\n",
       " 'addresses': 3051,\n",
       " 'messed': 46739,\n",
       " 'need': 49915,\n",
       " 'reach': 59759,\n",
       " 'use': 77630,\n",
       " 'douglas': 22525,\n",
       " 'rushkoff': 63010,\n",
       " 'conforming': 16616,\n",
       " 'turning': 75889,\n",
       " 'wonderful': 81035,\n",
       " 'cool': 17256,\n",
       " 'japanese': 38737,\n",
       " 'comment': 16020,\n",
       " 'studio': 70493,\n",
       " 'approved': 5651,\n",
       " 'movie': 48566,\n",
       " 'rental': 61043,\n",
       " 'unfortunately': 76884,\n",
       " 'inside': 37445,\n",
       " 'economist': 23605,\n",
       " 'business': 12025,\n",
       " 'editor': 23670,\n",
       " 'chris': 14644,\n",
       " 'anderson': 4853,\n",
       " 'named': 49474,\n",
       " 'wired': 80799,\n",
       " 'replacing': 61132,\n",
       " 'katrina': 40167,\n",
       " 'heron': 34141,\n",
       " 'newest': 50235,\n",
       " 'copyright': 17356,\n",
       " 'law': 42147,\n",
       " 'killing': 40706,\n",
       " 'fields': 27516,\n",
       " 'dvds': 23288,\n",
       " 'breathless': 11074,\n",
       " 'ark': 5946,\n",
       " 'changing': 13879,\n",
       " 'watch': 79490,\n",
       " 'working': 81208,\n",
       " 'sacred': 63201,\n",
       " 'music': 49026,\n",
       " 'ian': 35921,\n",
       " 'alli': 4242,\n",
       " 'hysteria': 35894,\n",
       " 'reviewed': 61726,\n",
       " 'jesse': 39017,\n",
       " 'walker': 79202,\n",
       " 'examination': 25877,\n",
       " 'microsoft': 46969,\n",
       " 'xbox': 81649,\n",
       " 'xp': 81723,\n",
       " 'articles': 6130,\n",
       " 'jane': 38694,\n",
       " 'tsunami': 75688,\n",
       " 'expect': 26142,\n",
       " 'criterion': 18221,\n",
       " 'collection': 15781,\n",
       " 'similar': 66605,\n",
       " 'old': 51955,\n",
       " 'cd': 13487,\n",
       " 'rom': 62487,\n",
       " 'checking': 14128,\n",
       " 'takes': 72176,\n",
       " 'run': 62954,\n",
       " 'seven': 65283,\n",
       " 'essays': 25401,\n",
       " 'moves': 48565,\n",
       " 'explanation': 26221,\n",
       " 'api': 5432,\n",
       " 'means': 46148,\n",
       " 'fray': 28969,\n",
       " 'coming': 15976,\n",
       " 'soon': 68274,\n",
       " 'featured': 27150,\n",
       " 'links': 43140,\n",
       " 'section': 64686,\n",
       " 'doesn': 22153,\n",
       " 'scan': 63970,\n",
       " 'damn': 19109,\n",
       " 'redesign': 60268,\n",
       " 'stick': 69911,\n",
       " 'recently': 60032,\n",
       " '12': 246,\n",
       " 'monkeys': 48084,\n",
       " 'picking': 55465,\n",
       " 'included': 36739,\n",
       " 'feature': 27149,\n",
       " 'length': 42540,\n",
       " 'hamster': 32941,\n",
       " 'factor': 26565,\n",
       " 'tales': 72201,\n",
       " 'advisory': 3310,\n",
       " 'board': 10160,\n",
       " 'member': 46462,\n",
       " 'village': 78513,\n",
       " 'speed': 68756,\n",
       " 'freed': 29022,\n",
       " 'peter': 55095,\n",
       " 'meyers': 46867,\n",
       " '802': 1968,\n",
       " '11b': 233,\n",
       " 'wireless': 80801,\n",
       " 'networks': 50159,\n",
       " 'nyc': 51377,\n",
       " 'mini': 47307,\n",
       " 'peek': 54489,\n",
       " 'consumption': 16959,\n",
       " 'buy': 12134,\n",
       " 'added': 3013,\n",
       " 'incentive': 36694,\n",
       " 'updated': 77443,\n",
       " 'clive': 15314,\n",
       " 'thompson': 73618,\n",
       " 'update': 77442,\n",
       " 'blogroll': 9948,\n",
       " 'latest': 42025,\n",
       " 'contributions': 17107,\n",
       " 'carl': 12972,\n",
       " 'johnson': 39316,\n",
       " 'personal': 54974,\n",
       " 'homepage': 34862,\n",
       " 'weblogs': 79731,\n",
       " 'fashion': 26937,\n",
       " 'managed': 45024,\n",
       " 'hoping': 35075,\n",
       " 'successful': 70785,\n",
       " 'thanks': 73313,\n",
       " 'hosting': 35216,\n",
       " 'maltese': 44976,\n",
       " 'falcon': 26696,\n",
       " 'build': 11696,\n",
       " 'robot': 62328,\n",
       " 'cam': 12526,\n",
       " '08': 85,\n",
       " 'perpetual': 54916,\n",
       " 'humanoid': 35546,\n",
       " 'model': 47836,\n",
       " 'especially': 25365,\n",
       " 'comes': 15949,\n",
       " 'sound': 68420,\n",
       " 'effects': 23784,\n",
       " 'recording': 60178,\n",
       " 'audio': 6780,\n",
       " 'versions': 78285,\n",
       " 'starting': 69624,\n",
       " 'market': 45410,\n",
       " 'branding': 10937,\n",
       " 'billy': 9336,\n",
       " 'bailey': 7533,\n",
       " 'downloading': 22570,\n",
       " 'announced': 5092,\n",
       " 'trellix': 75266,\n",
       " 'licensing': 42832,\n",
       " 'pyra': 58725,\n",
       " 'technology': 72740,\n",
       " 'giving': 30799,\n",
       " 'needed': 49918,\n",
       " 'cash': 13172,\n",
       " 'infusion': 37189,\n",
       " 'dan': 19141,\n",
       " 'account': 2727,\n",
       " 'deal': 19540,\n",
       " 'happened': 33121,\n",
       " 'submission': 70671,\n",
       " 'burn': 11941,\n",
       " 'baby': 7263,\n",
       " 'mix': 47681,\n",
       " 'swap': 71595,\n",
       " 'amounts': 4697,\n",
       " 'reed': 60343,\n",
       " 'course': 17731,\n",
       " 'click': 15231,\n",
       " 'read': 59778,\n",
       " 'tracklist': 74921,\n",
       " 'blogbuddy': 9906,\n",
       " 'useful': 77634,\n",
       " 'based': 8027,\n",
       " 'interface': 37726,\n",
       " 'doc': 22089,\n",
       " 'weblog': 79727,\n",
       " 'ain': 3781,\n",
       " 'clips': 15308,\n",
       " 'coen': 15606,\n",
       " 'excited': 25953,\n",
       " 'logo': 43546,\n",
       " 'maybe': 45886,\n",
       " 'toys': 74878,\n",
       " 'holy': 34818,\n",
       " 'shit': 65884,\n",
       " 'according': 2721,\n",
       " 'standard': 69521,\n",
       " 'ceasing': 13512,\n",
       " 'publication': 58315,\n",
       " 'uploading': 77479,\n",
       " 'live365': 43315,\n",
       " 'station': 69674,\n",
       " 'higher': 34323,\n",
       " 'required': 61264,\n",
       " 'shirts': 65880,\n",
       " 'genuine': 30429,\n",
       " 'cafe': 12341,\n",
       " 'press': 57391,\n",
       " 'printed': 57580,\n",
       " 'highly': 34336,\n",
       " 'recommend': 60136,\n",
       " 'mugs': 48792,\n",
       " 'illustration': 36256,\n",
       " 'ones': 52110,\n",
       " 'warren': 79407,\n",
       " 'ellis': 24145,\n",
       " 'isn': 38325,\n",
       " 'linked': 43133,\n",
       " 'bruce': 11437,\n",
       " 'sterling': 69866,\n",
       " 'austin': 6861,\n",
       " 'texas': 73240,\n",
       " 'howard': 35328,\n",
       " 'beams': 8341,\n",
       " 'mp3': 48603,\n",
       " 'swampy': 71585,\n",
       " 'rock': 62348,\n",
       " 'roll': 62452,\n",
       " 'dawn': 19415,\n",
       " 'town': 74847,\n",
       " 'powerbook': 56950,\n",
       " 'scorching': 64275,\n",
       " 'flesh': 28081,\n",
       " 'legs': 42468,\n",
       " 'england': 24698,\n",
       " 'private': 57622,\n",
       " 'server': 65214,\n",
       " 'fraction': 28843,\n",
       " 'kansas': 40004,\n",
       " 'city': 14952,\n",
       " 'chapters': 13927,\n",
       " 'sent': 65037,\n",
       " 'airport': 3834,\n",
       " 'squatting': 69268,\n",
       " 'outlet': 52842,\n",
       " 'toilets': 74396,\n",
       " 'continued': 17046,\n",
       " 'cnet': 15477,\n",
       " 'steve': 69884,\n",
       " 'tour': 74809,\n",
       " 'apple': 5562,\n",
       " 'retail': 61556,\n",
       " 'stores': 70140,\n",
       " 'evan': 25625,\n",
       " 'williams': 80605,\n",
       " 'staples': 69560,\n",
       " 'selling': 64896,\n",
       " 'kensington': 40431,\n",
       " 'result': 61530,\n",
       " 'reload': 60861,\n",
       " 'changin': 13878,\n",
       " 'infinite': 37089,\n",
       " 'matrix': 45772,\n",
       " 'excerpt': 25935,\n",
       " 'novel': 51093,\n",
       " 'magic': 44633,\n",
       " 'kingdom': 40783,\n",
       " 'liberty': 42800,\n",
       " 'square': 69247,\n",
       " 'ad': 2973,\n",
       " 'conservatives': 16819,\n",
       " 'preserving': 57375,\n",
       " 'wheezing': 80190,\n",
       " 'face': 26517,\n",
       " 'park': 53881,\n",
       " 'newcomer': 50230,\n",
       " 'timers': 74045,\n",
       " 'support': 71303,\n",
       " 'looked': 43680,\n",
       " 'make': 44841,\n",
       " 'sale': 63382,\n",
       " 'nvidia': 51346,\n",
       " 'zx': 82756,\n",
       " '8mb': 2082,\n",
       " '3d': 1254,\n",
       " 'accelerator': 2643,\n",
       " 'agp': 3609,\n",
       " 'nec': 49873,\n",
       " 'drive': 22830,\n",
       " 'trades': 74945,\n",
       " 'considered': 16833,\n",
       " 'slashdotted': 67156,\n",
       " 'boing': 10286,\n",
       " 'noticed': 51038,\n",
       " 'garage': 30023,\n",
       " 'flea': 28052,\n",
       " 'finds': 27680,\n",
       " 'heard': 33679,\n",
       " 'doves': 22537,\n",
       " 'lost': 43817,\n",
       " 'album': 4009,\n",
       " '2000': 732,\n",
       " 'list': 43217,\n",
       " 'workman': 81212,\n",
       " 'delicious': 20114,\n",
       " 'wolves': 81008,\n",
       " 'pleased': 56066,\n",
       " 'announce': 5091,\n",
       " 'creator': 18067,\n",
       " 'visionary': 78642,\n",
       " 'joined': 39327,\n",
       " 'growing': 32032,\n",
       " 'stable': 69402,\n",
       " 'redefining': 60263,\n",
       " 'television': 72882,\n",
       " 'insightful': 37452,\n",
       " 'state': 69652,\n",
       " 'medium': 46256,\n",
       " 'snippet': 67777,\n",
       " 'earliest': 23420,\n",
       " 'george': 30459,\n",
       " 'orwell': 52641,\n",
       " '1984': 664,\n",
       " 'ray': 59709,\n",
       " 'bradbury': 10860,\n",
       " 'fahrenheit': 26612,\n",
       " '451': 1388,\n",
       " 'projected': 57870,\n",
       " 'totalitarian': 74743,\n",
       " 'monolithic': 48099,\n",
       " 'entity': 24905,\n",
       " 'dispensing': 21718,\n",
       " ...}"
      ]
     },
     "execution_count": 21,
     "metadata": {},
     "output_type": "execute_result"
    }
   ],
   "source": [
    "tfidf.vocabulary_"
   ]
  },
  {
   "cell_type": "code",
   "execution_count": 22,
   "metadata": {
    "collapsed": false
   },
   "outputs": [
    {
     "data": {
      "text/plain": [
       "0.5172177979748958"
      ]
     },
     "execution_count": 22,
     "metadata": {},
     "output_type": "execute_result"
    }
   ],
   "source": [
    "from sklearn.linear_model import LogisticRegression\n",
    "logreg = LogisticRegression()\n",
    "logreg.fit(X_train_dtm, Y_train)\n",
    "y_pred_class = logreg.predict(X_test_dtm)\n"
   ]
  },
  {
   "cell_type": "code",
   "execution_count": 22,
   "metadata": {
    "collapsed": false
   },
   "outputs": [
    {
     "data": {
      "text/plain": [
       "0.5172177979748958"
      ]
     },
     "execution_count": 22,
     "metadata": {},
     "output_type": "execute_result"
    }
   ],
   "source": [
    "from sklearn.linear_model import LogisticRegression\n",
    "logreg = LogisticRegression()\n",
    "logreg.fit(X_train_dtm, Y_train)\n",
    "y_pred_class = logreg.predict(X_test_dtm)\n"
   ]
  },
  {
   "cell_type": "code",
   "execution_count": 25,
   "metadata": {
    "collapsed": false
   },
   "outputs": [
    {
     "data": {
      "text/plain": [
       "0.5343583860934019"
      ]
     },
     "execution_count": 25,
     "metadata": {},
     "output_type": "execute_result"
    }
   ],
   "source": [
    "from sklearn.metrics import accuracy_score\n",
    "accuracy_score(Y_test, y_pred_class)"
   ]
  },
  {
   "cell_type": "code",
   "execution_count": 23,
   "metadata": {
    "collapsed": false
   },
   "outputs": [
    {
     "data": {
      "text/plain": [
       "array([[ 9449,  3585,    63,     3,     0],\n",
       "       [ 2363, 14664,   263,     7,     0],\n",
       "       [  162,  2311,   110,     1,     0],\n",
       "       [   33,   496,    22,     0,     0],\n",
       "       [ 3523,  8110,   156,    10,     0]])"
      ]
     },
     "execution_count": 23,
     "metadata": {},
     "output_type": "execute_result"
    }
   ],
   "source": [
    "confusion_matrix(Y_test, y_pred_class)"
   ]
  },
  {
   "cell_type": "code",
   "execution_count": 46,
   "metadata": {
    "collapsed": false
   },
   "outputs": [
    {
     "name": "stderr",
     "output_type": "stream",
     "text": [
      "C:\\Users\\kenne\\Anaconda3\\lib\\site-packages\\sklearn\\feature_extraction\\text.py:1059: FutureWarning: Conversion of the second argument of issubdtype from `float` to `np.floating` is deprecated. In future, it will be treated as `np.float64 == np.dtype(float).type`.\n",
      "  if hasattr(X, 'dtype') and np.issubdtype(X.dtype, np.float):\n"
     ]
    },
    {
     "name": "stdout",
     "output_type": "stream",
     "text": [
      "0.5172177979748958\n"
     ]
    }
   ],
   "source": [
    "from sklearn.feature_extraction.text import TfidfVectorizer\n",
    "tfidf = TfidfVectorizer(sublinear_tf=True, max_df=0.3, min_df=5, norm='l2', stop_words='english', analyzer='word')\n",
    "tfidf.fit(X_train)\n",
    "X_train_dtm = tfidf.transform(X_train)\n",
    "X_test_dtm = tfidf.transform(X_test)\n",
    "nb = MultinomialNB()\n",
    "nb.fit(X_train_dtm, Y_train)\n",
    "y_pred = nb.predict(X_test_dtm)\n",
    "print(accuracy_score(Y_test, y_pred))"
   ]
  },
  {
   "cell_type": "code",
   "execution_count": 43,
   "metadata": {
    "collapsed": false
   },
   "outputs": [
    {
     "data": {
      "text/plain": [
       "array([[ 8058,  5026,    11,     5,     0],\n",
       "       [ 1858, 15378,    52,     9,     0],\n",
       "       [   67,  2506,    10,     1,     0],\n",
       "       [   19,   528,     4,     0,     0],\n",
       "       [ 2809,  8927,    48,    15,     0]])"
      ]
     },
     "execution_count": 43,
     "metadata": {},
     "output_type": "execute_result"
    }
   ],
   "source": [
    "confusion_matrix(Y_test, y_pred)"
   ]
  },
  {
   "cell_type": "code",
   "execution_count": 38,
   "metadata": {
    "collapsed": false
   },
   "outputs": [
    {
     "data": {
      "text/plain": [
       "82870"
      ]
     },
     "execution_count": 38,
     "metadata": {},
     "output_type": "execute_result"
    }
   ],
   "source": [
    "len(tfidf.vocabulary_)"
   ]
  },
  {
   "cell_type": "code",
   "execution_count": 47,
   "metadata": {
    "collapsed": false
   },
   "outputs": [],
   "source": [
    "from sklearn.linear_model import LogisticRegression\n",
    "logreg = LogisticRegression()\n",
    "logreg.fit(X_train_dtm, Y_train)\n",
    "y_pred_class = logreg.predict(X_test_dtm)\n"
   ]
  },
  {
   "cell_type": "code",
   "execution_count": 49,
   "metadata": {
    "collapsed": false
   },
   "outputs": [
    {
     "name": "stdout",
     "output_type": "stream",
     "text": [
      "0.5345789856830866\n"
     ]
    }
   ],
   "source": [
    "print(accuracy_score(Y_test, y_pred_class))"
   ]
  },
  {
   "cell_type": "code",
   "execution_count": 48,
   "metadata": {
    "collapsed": false
   },
   "outputs": [
    {
     "name": "stderr",
     "output_type": "stream",
     "text": [
      "C:\\Users\\kenne\\Anaconda3\\lib\\site-packages\\sklearn\\feature_extraction\\text.py:1059: FutureWarning: Conversion of the second argument of issubdtype from `float` to `np.floating` is deprecated. In future, it will be treated as `np.float64 == np.dtype(float).type`.\n",
      "  if hasattr(X, 'dtype') and np.issubdtype(X.dtype, np.float):\n"
     ]
    },
    {
     "name": "stdout",
     "output_type": "stream",
     "text": [
      "0.5157397807240078\n"
     ]
    }
   ],
   "source": [
    "from sklearn.feature_extraction.text import TfidfVectorizer\n",
    "tfidf = TfidfVectorizer(sublinear_tf=True, max_df=0.3, min_df=10, norm='l2', stop_words='english', analyzer='word')\n",
    "tfidf.fit(X_train)\n",
    "X_train_dtm = tfidf.transform(X_train)\n",
    "X_test_dtm = tfidf.transform(X_test)\n",
    "nb = MultinomialNB()\n",
    "nb.fit(X_train_dtm, Y_train)\n",
    "y_pred = nb.predict(X_test_dtm)\n",
    "print(accuracy_score(Y_test, y_pred))"
   ]
  },
  {
   "cell_type": "code",
   "execution_count": 50,
   "metadata": {
    "collapsed": false
   },
   "outputs": [
    {
     "name": "stdout",
     "output_type": "stream",
     "text": [
      "0.5343363261344334\n"
     ]
    }
   ],
   "source": [
    "from sklearn.linear_model import LogisticRegression\n",
    "logreg = LogisticRegression()\n",
    "logreg.fit(X_train_dtm, Y_train)\n",
    "y_pred_class = logreg.predict(X_test_dtm)\n",
    "print(accuracy_score(Y_test, y_pred_class))"
   ]
  },
  {
   "cell_type": "code",
   "execution_count": null,
   "metadata": {
    "collapsed": false
   },
   "outputs": [],
   "source": [
    "from sklearn.feature_extraction.text import TfidfVectorizer\n",
    "tfidf = TfidfVectorizer(sublinear_tf=True, max_df=0.3, min_df=5, norm='l1', stop_words='english', analyzer='word')\n",
    "tfidf.fit(X_train)\n",
    "X_train_dtm = tfidf.transform(X_train)\n",
    "X_test_dtm = tfidf.transform(X_test)\n",
    "nb = MultinomialNB()\n",
    "nb.fit(X_train_dtm, Y_train)\n",
    "y_pred = nb.predict(X_test_dtm)\n",
    "print(accuracy_score(Y_test, y_pred))"
   ]
  },
  {
   "cell_type": "code",
   "execution_count": 53,
   "metadata": {
    "collapsed": false
   },
   "outputs": [
    {
     "name": "stdout",
     "output_type": "stream",
     "text": [
      "0.4935254020427522\n"
     ]
    }
   ],
   "source": [
    "from sklearn.linear_model import LogisticRegression\n",
    "logreg = LogisticRegression()\n",
    "logreg.fit(X_train_dtm, Y_train)\n",
    "y_pred_class = logreg.predict(X_test_dtm)\n",
    "print(accuracy_score(Y_test, y_pred_class))"
   ]
  },
  {
   "cell_type": "code",
   "execution_count": 64,
   "metadata": {
    "collapsed": false
   },
   "outputs": [],
   "source": [
    "train = train[['Text', 'Age_range']]"
   ]
  },
  {
   "cell_type": "code",
   "execution_count": 20,
   "metadata": {
    "collapsed": false
   },
   "outputs": [
    {
     "data": {
      "text/plain": [
       "0.4700977256182304"
      ]
     },
     "execution_count": 20,
     "metadata": {},
     "output_type": "execute_result"
    }
   ],
   "source": [
    "from sklearn.metrics import accuracy_score\n",
    "cnt = CountVectorizer(max_df=0.3, min_df=5, stop_words='english')\n",
    "cnt.fit(X_train)\n",
    "X_train_dtm = cnt.transform(X_train)\n",
    "X_test_dtm = cnt.transform(X_test)\n",
    "nb = MultinomialNB()\n",
    "nb.fit(X_train_dtm, Y_train)\n",
    "y_pred = nb.predict(X_test_dtm)\n",
    "np.mean(y_pred == Y_test)"
   ]
  },
  {
   "cell_type": "code",
   "execution_count": 13,
   "metadata": {
    "collapsed": false
   },
   "outputs": [],
   "source": [
    "train_avg_len = []\n",
    "train_word_len = []\n",
    "for i in range(len(train)):\n",
    "    length = 0\n",
    "    count = 0 \n",
    "    for word in X_train[i].split():\n",
    "        length += len(word)\n",
    "        count+=1\n",
    "    if count>0:\n",
    "        train_avg_len.append(length/count)\n",
    "        train_word_len.append(count)\n",
    "    else:\n",
    "        train_avg_len.append(0)\n",
    "        train_word_len.append(0)"
   ]
  },
  {
   "cell_type": "code",
   "execution_count": 42,
   "metadata": {
    "collapsed": false
   },
   "outputs": [],
   "source": [
    "test_avg_len = []\n",
    "test_word_len = []\n",
    "for i in range(len(Test)):\n",
    "    length = 0\n",
    "    count = 0 \n",
    "    for word in X_test[i].split():\n",
    "        length += len(word)\n",
    "        count+=1\n",
    "    if count>0:\n",
    "        test_avg_len.append(length/count)\n",
    "        test_word_len.append(count)\n",
    "    else:\n",
    "        test_avg_len.append(0)\n",
    "        test_word_len.append(0)"
   ]
  },
  {
   "cell_type": "code",
   "execution_count": 44,
   "metadata": {
    "collapsed": false
   },
   "outputs": [
    {
     "data": {
      "text/html": [
       "<div>\n",
       "<style scoped>\n",
       "    .dataframe tbody tr th:only-of-type {\n",
       "        vertical-align: middle;\n",
       "    }\n",
       "\n",
       "    .dataframe tbody tr th {\n",
       "        vertical-align: top;\n",
       "    }\n",
       "\n",
       "    .dataframe thead th {\n",
       "        text-align: right;\n",
       "    }\n",
       "</style>\n",
       "<table border=\"1\" class=\"dataframe\">\n",
       "  <thead>\n",
       "    <tr style=\"text-align: right;\">\n",
       "      <th></th>\n",
       "      <th>User_ID</th>\n",
       "      <th>Age</th>\n",
       "      <th>Avg_len</th>\n",
       "      <th>Word_len</th>\n",
       "    </tr>\n",
       "    <tr>\n",
       "      <th>Age_range</th>\n",
       "      <th></th>\n",
       "      <th></th>\n",
       "      <th></th>\n",
       "      <th></th>\n",
       "    </tr>\n",
       "  </thead>\n",
       "  <tbody>\n",
       "    <tr>\n",
       "      <th>1</th>\n",
       "      <td>2.826673e+06</td>\n",
       "      <td>15.218244</td>\n",
       "      <td>4.631954</td>\n",
       "      <td>164.801069</td>\n",
       "    </tr>\n",
       "    <tr>\n",
       "      <th>2</th>\n",
       "      <td>2.441573e+06</td>\n",
       "      <td>24.841475</td>\n",
       "      <td>5.020235</td>\n",
       "      <td>192.507198</td>\n",
       "    </tr>\n",
       "    <tr>\n",
       "      <th>3</th>\n",
       "      <td>3.321146e+06</td>\n",
       "      <td>34.895511</td>\n",
       "      <td>4.813172</td>\n",
       "      <td>155.217492</td>\n",
       "    </tr>\n",
       "    <tr>\n",
       "      <th>4</th>\n",
       "      <td>2.429784e+06</td>\n",
       "      <td>44.983666</td>\n",
       "      <td>4.648803</td>\n",
       "      <td>212.477314</td>\n",
       "    </tr>\n",
       "    <tr>\n",
       "      <th>?</th>\n",
       "      <td>2.439339e+06</td>\n",
       "      <td>25.469701</td>\n",
       "      <td>4.587820</td>\n",
       "      <td>179.609458</td>\n",
       "    </tr>\n",
       "  </tbody>\n",
       "</table>\n",
       "</div>"
      ],
      "text/plain": [
       "                User_ID        Age   Avg_len    Word_len\n",
       "Age_range                                               \n",
       "1          2.826673e+06  15.218244  4.631954  164.801069\n",
       "2          2.441573e+06  24.841475  5.020235  192.507198\n",
       "3          3.321146e+06  34.895511  4.813172  155.217492\n",
       "4          2.429784e+06  44.983666  4.648803  212.477314\n",
       "?          2.439339e+06  25.469701  4.587820  179.609458"
      ]
     },
     "execution_count": 44,
     "metadata": {},
     "output_type": "execute_result"
    }
   ],
   "source": [
    "#test['Avg_len'] = test_avg_len\n",
    "Test['Word_len'] = test_word_len\n",
    "test.groupby(['Age_range']).mean()"
   ]
  },
  {
   "cell_type": "code",
   "execution_count": 14,
   "metadata": {
    "collapsed": false
   },
   "outputs": [
    {
     "data": {
      "text/html": [
       "<div>\n",
       "<style scoped>\n",
       "    .dataframe tbody tr th:only-of-type {\n",
       "        vertical-align: middle;\n",
       "    }\n",
       "\n",
       "    .dataframe tbody tr th {\n",
       "        vertical-align: top;\n",
       "    }\n",
       "\n",
       "    .dataframe thead th {\n",
       "        text-align: right;\n",
       "    }\n",
       "</style>\n",
       "<table border=\"1\" class=\"dataframe\">\n",
       "  <thead>\n",
       "    <tr style=\"text-align: right;\">\n",
       "      <th></th>\n",
       "      <th>User_ID</th>\n",
       "      <th>Age</th>\n",
       "      <th>Avg_len</th>\n",
       "      <th>Word_len</th>\n",
       "    </tr>\n",
       "    <tr>\n",
       "      <th>Age_range</th>\n",
       "      <th></th>\n",
       "      <th></th>\n",
       "      <th></th>\n",
       "      <th></th>\n",
       "    </tr>\n",
       "  </thead>\n",
       "  <tbody>\n",
       "    <tr>\n",
       "      <th>1</th>\n",
       "      <td>2.950558e+06</td>\n",
       "      <td>15.278424</td>\n",
       "      <td>4.581198</td>\n",
       "      <td>169.012412</td>\n",
       "    </tr>\n",
       "    <tr>\n",
       "      <th>2</th>\n",
       "      <td>2.342761e+06</td>\n",
       "      <td>24.881781</td>\n",
       "      <td>4.663461</td>\n",
       "      <td>181.852491</td>\n",
       "    </tr>\n",
       "    <tr>\n",
       "      <th>3</th>\n",
       "      <td>2.262677e+06</td>\n",
       "      <td>34.906745</td>\n",
       "      <td>4.632030</td>\n",
       "      <td>190.289353</td>\n",
       "    </tr>\n",
       "    <tr>\n",
       "      <th>4</th>\n",
       "      <td>2.368609e+06</td>\n",
       "      <td>45.145469</td>\n",
       "      <td>4.661797</td>\n",
       "      <td>205.098157</td>\n",
       "    </tr>\n",
       "  </tbody>\n",
       "</table>\n",
       "</div>"
      ],
      "text/plain": [
       "                User_ID        Age   Avg_len    Word_len\n",
       "Age_range                                               \n",
       "1          2.950558e+06  15.278424  4.581198  169.012412\n",
       "2          2.342761e+06  24.881781  4.663461  181.852491\n",
       "3          2.262677e+06  34.906745  4.632030  190.289353\n",
       "4          2.368609e+06  45.145469  4.661797  205.098157"
      ]
     },
     "execution_count": 14,
     "metadata": {},
     "output_type": "execute_result"
    }
   ],
   "source": [
    "train['Avg_len'] = train_avg_len\n",
    "train['Word_len'] = train_word_len\n",
    "train.groupby(['Age_range']).mean()"
   ]
  },
  {
   "cell_type": "code",
   "execution_count": 123,
   "metadata": {
    "collapsed": false
   },
   "outputs": [
    {
     "name": "stderr",
     "output_type": "stream",
     "text": [
      "C:\\Users\\kenne\\Anaconda3\\lib\\site-packages\\sklearn\\feature_extraction\\text.py:1059: FutureWarning: Conversion of the second argument of issubdtype from `float` to `np.floating` is deprecated. In future, it will be treated as `np.float64 == np.dtype(float).type`.\n",
      "  if hasattr(X, 'dtype') and np.issubdtype(X.dtype, np.float):\n"
     ]
    }
   ],
   "source": [
    "from sklearn.feature_extraction.text import TfidfVectorizer\n",
    "tfidf = TfidfVectorizer(sublinear_tf=True, max_df=0.3, min_df=5, norm='l2', stop_words='english', analyzer='word')\n",
    "tfidf.fit(X_train)\n",
    "X_train_dtm = tfidf.transform(X_train)\n",
    "X_test_dtm = tfidf.transform(X_test)\n",
    "nb = MultinomialNB()\n",
    "nb.fit(X_train_dtm, Y_train)\n",
    "y_pred = nb.predict(X_test_dtm)"
   ]
  },
  {
   "cell_type": "code",
   "execution_count": 77,
   "metadata": {
    "collapsed": false
   },
   "outputs": [
    {
     "data": {
      "text/plain": [
       "0.5345789856830866"
      ]
     },
     "execution_count": 77,
     "metadata": {},
     "output_type": "execute_result"
    }
   ],
   "source": [
    "np.mean(y_pred_class == Y_test)"
   ]
  },
  {
   "cell_type": "code",
   "execution_count": 25,
   "metadata": {
    "collapsed": false
   },
   "outputs": [],
   "source": [
    "from scipy.sparse import hstack\n",
    "X_train_dtm = hstack((X_train_dtm,np.array(train['Word_len'])[:,None]))\n",
    "X_train_dtm = hstack((X_train_dtm,np.array(train['Avg_len'])[:,None]))"
   ]
  },
  {
   "cell_type": "code",
   "execution_count": 26,
   "metadata": {
    "collapsed": false
   },
   "outputs": [],
   "source": [
    "X_test_dtm = hstack((X_test_dtm,np.array(test['Word_len'])[:,None]))\n",
    "X_test_dtm = hstack((X_test_dtm,np.array(test['Avg_len'])[:,None]))"
   ]
  },
  {
   "cell_type": "code",
   "execution_count": 36,
   "metadata": {
    "collapsed": false
   },
   "outputs": [
    {
     "data": {
      "text/plain": [
       "0.5345789856830866"
      ]
     },
     "execution_count": 36,
     "metadata": {},
     "output_type": "execute_result"
    }
   ],
   "source": [
    "logreg = LogisticRegression()\n",
    "logreg.fit(X_train_dtm, Y_train)\n",
    "y_pred_class = logreg.predict(X_test_dtm)\n",
    "np.mean(y_pred_class == Y_test)\n"
   ]
  },
  {
   "cell_type": "code",
   "execution_count": 35,
   "metadata": {
    "collapsed": false
   },
   "outputs": [
    {
     "data": {
      "text/plain": [
       "0.5303434735611392"
      ]
     },
     "execution_count": 35,
     "metadata": {},
     "output_type": "execute_result"
    }
   ],
   "source": [
    "logreg = LogisticRegression(class_weight = {1:2.27, 2:10.6, 3:0.7, 4:0.48})\n",
    "logreg.fit(X_train_dtm, Y_train)\n",
    "y_pred_class = logreg.predict(X_test_dtm)\n",
    "np.mean(y_pred_class == Y_test)\n"
   ]
  },
  {
   "cell_type": "code",
   "execution_count": 127,
   "metadata": {
    "collapsed": false
   },
   "outputs": [
    {
     "name": "stdout",
     "output_type": "stream",
     "text": [
      "2.1: 0.5334539277756943\n",
      "2.2: 0.5334098078577574\n",
      "2.3000000000000003: 0.5335421676115683\n",
      "2.4000000000000004: 0.5335862875295052\n",
      "2.5000000000000004: 0.5335201076525997\n",
      "2.6000000000000005: 0.5336745273653791\n",
      "2.7000000000000006: 0.53380688711919\n",
      "2.8000000000000007: 0.533762767201253\n",
      "2.900000000000001: 0.5340054267499063\n",
      "3.000000000000001: 0.5339171869140323\n",
      "3.100000000000001: 0.5339833667909377\n",
      "3.200000000000001: 0.5339392468730008\n",
      "3.300000000000001: 0.5339392468730008\n",
      "3.4000000000000012: 0.5338951269550639\n",
      "3.5000000000000013: 0.5338951269550639\n"
     ]
    },
    {
     "ename": "KeyboardInterrupt",
     "evalue": "",
     "output_type": "error",
     "traceback": [
      "\u001b[0;31m---------------------------------------------------------------------------\u001b[0m",
      "\u001b[0;31mKeyboardInterrupt\u001b[0m                         Traceback (most recent call last)",
      "\u001b[0;32m<ipython-input-127-2303152c26fb>\u001b[0m in \u001b[0;36m<module>\u001b[0;34m()\u001b[0m\n\u001b[1;32m      3\u001b[0m \u001b[1;32mfor\u001b[0m \u001b[0mi\u001b[0m \u001b[1;32min\u001b[0m \u001b[0mrange\u001b[0m\u001b[1;33m(\u001b[0m\u001b[1;36m20\u001b[0m\u001b[1;33m)\u001b[0m\u001b[1;33m:\u001b[0m\u001b[1;33m\u001b[0m\u001b[0m\n\u001b[1;32m      4\u001b[0m     \u001b[0mlogreg\u001b[0m \u001b[1;33m=\u001b[0m \u001b[0mLogisticRegression\u001b[0m\u001b[1;33m(\u001b[0m\u001b[0mclass_weight\u001b[0m \u001b[1;33m=\u001b[0m \u001b[1;33m{\u001b[0m\u001b[1;36m1\u001b[0m\u001b[1;33m:\u001b[0m\u001b[1;36m2.27\u001b[0m\u001b[1;33m,\u001b[0m \u001b[1;36m2\u001b[0m\u001b[1;33m:\u001b[0m\u001b[1;36m10.6\u001b[0m\u001b[1;33m,\u001b[0m \u001b[1;36m3\u001b[0m\u001b[1;33m:\u001b[0m\u001b[1;36m0.7\u001b[0m\u001b[1;33m,\u001b[0m \u001b[1;36m4\u001b[0m\u001b[1;33m:\u001b[0m\u001b[1;36m0.48\u001b[0m\u001b[1;33m}\u001b[0m\u001b[1;33m,\u001b[0m \u001b[0mC\u001b[0m\u001b[1;33m=\u001b[0m\u001b[0mc\u001b[0m\u001b[1;33m)\u001b[0m\u001b[1;33m\u001b[0m\u001b[0m\n\u001b[0;32m----> 5\u001b[0;31m     \u001b[0mlogreg\u001b[0m\u001b[1;33m.\u001b[0m\u001b[0mfit\u001b[0m\u001b[1;33m(\u001b[0m\u001b[0mX_train_dtm\u001b[0m\u001b[1;33m,\u001b[0m \u001b[0mY_train\u001b[0m\u001b[1;33m)\u001b[0m\u001b[1;33m\u001b[0m\u001b[0m\n\u001b[0m\u001b[1;32m      6\u001b[0m     \u001b[0my_pred_class\u001b[0m \u001b[1;33m=\u001b[0m \u001b[0mlogreg\u001b[0m\u001b[1;33m.\u001b[0m\u001b[0mpredict\u001b[0m\u001b[1;33m(\u001b[0m\u001b[0mX_test_dtm\u001b[0m\u001b[1;33m)\u001b[0m\u001b[1;33m\u001b[0m\u001b[0m\n\u001b[1;32m      7\u001b[0m     \u001b[0mprint\u001b[0m\u001b[1;33m(\u001b[0m\u001b[1;34m\"{}: {}\"\u001b[0m\u001b[1;33m.\u001b[0m\u001b[0mformat\u001b[0m\u001b[1;33m(\u001b[0m\u001b[0mc\u001b[0m\u001b[1;33m,\u001b[0m \u001b[0mnp\u001b[0m\u001b[1;33m.\u001b[0m\u001b[0mmean\u001b[0m\u001b[1;33m(\u001b[0m\u001b[0my_pred_class\u001b[0m \u001b[1;33m==\u001b[0m \u001b[0mY_test\u001b[0m\u001b[1;33m)\u001b[0m\u001b[1;33m)\u001b[0m\u001b[1;33m)\u001b[0m\u001b[1;33m\u001b[0m\u001b[0m\n",
      "\u001b[0;32mC:\\Users\\kenne\\Anaconda3\\lib\\site-packages\\sklearn\\linear_model\\logistic.py\u001b[0m in \u001b[0;36mfit\u001b[0;34m(self, X, y, sample_weight)\u001b[0m\n\u001b[1;32m   1184\u001b[0m                 \u001b[0mself\u001b[0m\u001b[1;33m.\u001b[0m\u001b[0mclass_weight\u001b[0m\u001b[1;33m,\u001b[0m \u001b[0mself\u001b[0m\u001b[1;33m.\u001b[0m\u001b[0mpenalty\u001b[0m\u001b[1;33m,\u001b[0m \u001b[0mself\u001b[0m\u001b[1;33m.\u001b[0m\u001b[0mdual\u001b[0m\u001b[1;33m,\u001b[0m \u001b[0mself\u001b[0m\u001b[1;33m.\u001b[0m\u001b[0mverbose\u001b[0m\u001b[1;33m,\u001b[0m\u001b[1;33m\u001b[0m\u001b[0m\n\u001b[1;32m   1185\u001b[0m                 \u001b[0mself\u001b[0m\u001b[1;33m.\u001b[0m\u001b[0mmax_iter\u001b[0m\u001b[1;33m,\u001b[0m \u001b[0mself\u001b[0m\u001b[1;33m.\u001b[0m\u001b[0mtol\u001b[0m\u001b[1;33m,\u001b[0m \u001b[0mself\u001b[0m\u001b[1;33m.\u001b[0m\u001b[0mrandom_state\u001b[0m\u001b[1;33m,\u001b[0m\u001b[1;33m\u001b[0m\u001b[0m\n\u001b[0;32m-> 1186\u001b[0;31m                 sample_weight=sample_weight)\n\u001b[0m\u001b[1;32m   1187\u001b[0m             \u001b[0mself\u001b[0m\u001b[1;33m.\u001b[0m\u001b[0mn_iter_\u001b[0m \u001b[1;33m=\u001b[0m \u001b[0mnp\u001b[0m\u001b[1;33m.\u001b[0m\u001b[0marray\u001b[0m\u001b[1;33m(\u001b[0m\u001b[1;33m[\u001b[0m\u001b[0mn_iter_\u001b[0m\u001b[1;33m]\u001b[0m\u001b[1;33m)\u001b[0m\u001b[1;33m\u001b[0m\u001b[0m\n\u001b[1;32m   1188\u001b[0m             \u001b[1;32mreturn\u001b[0m \u001b[0mself\u001b[0m\u001b[1;33m\u001b[0m\u001b[0m\n",
      "\u001b[0;32mC:\\Users\\kenne\\Anaconda3\\lib\\site-packages\\sklearn\\svm\\base.py\u001b[0m in \u001b[0;36m_fit_liblinear\u001b[0;34m(X, y, C, fit_intercept, intercept_scaling, class_weight, penalty, dual, verbose, max_iter, tol, random_state, multi_class, loss, epsilon, sample_weight)\u001b[0m\n\u001b[1;32m    910\u001b[0m         \u001b[0mX\u001b[0m\u001b[1;33m,\u001b[0m \u001b[0my_ind\u001b[0m\u001b[1;33m,\u001b[0m \u001b[0msp\u001b[0m\u001b[1;33m.\u001b[0m\u001b[0misspmatrix\u001b[0m\u001b[1;33m(\u001b[0m\u001b[0mX\u001b[0m\u001b[1;33m)\u001b[0m\u001b[1;33m,\u001b[0m \u001b[0msolver_type\u001b[0m\u001b[1;33m,\u001b[0m \u001b[0mtol\u001b[0m\u001b[1;33m,\u001b[0m \u001b[0mbias\u001b[0m\u001b[1;33m,\u001b[0m \u001b[0mC\u001b[0m\u001b[1;33m,\u001b[0m\u001b[1;33m\u001b[0m\u001b[0m\n\u001b[1;32m    911\u001b[0m         \u001b[0mclass_weight_\u001b[0m\u001b[1;33m,\u001b[0m \u001b[0mmax_iter\u001b[0m\u001b[1;33m,\u001b[0m \u001b[0mrnd\u001b[0m\u001b[1;33m.\u001b[0m\u001b[0mrandint\u001b[0m\u001b[1;33m(\u001b[0m\u001b[0mnp\u001b[0m\u001b[1;33m.\u001b[0m\u001b[0miinfo\u001b[0m\u001b[1;33m(\u001b[0m\u001b[1;34m'i'\u001b[0m\u001b[1;33m)\u001b[0m\u001b[1;33m.\u001b[0m\u001b[0mmax\u001b[0m\u001b[1;33m)\u001b[0m\u001b[1;33m,\u001b[0m\u001b[1;33m\u001b[0m\u001b[0m\n\u001b[0;32m--> 912\u001b[0;31m         epsilon, sample_weight)\n\u001b[0m\u001b[1;32m    913\u001b[0m     \u001b[1;31m# Regarding rnd.randint(..) in the above signature:\u001b[0m\u001b[1;33m\u001b[0m\u001b[1;33m\u001b[0m\u001b[0m\n\u001b[1;32m    914\u001b[0m     \u001b[1;31m# seed for srand in range [0..INT_MAX); due to limitations in Numpy\u001b[0m\u001b[1;33m\u001b[0m\u001b[1;33m\u001b[0m\u001b[0m\n",
      "\u001b[0;31mKeyboardInterrupt\u001b[0m: "
     ]
    }
   ],
   "source": [
    "from sklearn.linear_model import LogisticRegression\n",
    "c = 2.1\n",
    "for i in range(20):\n",
    "    logreg = LogisticRegression(class_weight = {1:2.27, 2:10.6, 3:0.7, 4:0.48}, C=c)\n",
    "    logreg.fit(X_train_dtm, Y_train)\n",
    "    y_pred_class = logreg.predict(X_test_dtm)\n",
    "    print(\"{}: {}\".format(c, np.mean(y_pred_class == Y_test)))\n",
    "    c += 0.1"
   ]
  },
  {
   "cell_type": "code",
   "execution_count": 125,
   "metadata": {
    "collapsed": false
   },
   "outputs": [
    {
     "name": "stdout",
     "output_type": "stream",
     "text": [
      "1.1: 0.5310935121660674\n",
      "1.2000000000000002: 0.5314905914275\n",
      "1.3000000000000003: 0.5320862103196488\n",
      "1.4000000000000004: 0.5321744501555227\n",
      "1.5000000000000004: 0.5325935893759237\n",
      "1.6000000000000005: 0.5327480090887031\n",
      "1.7000000000000006: 0.5329906686373563\n",
      "1.8000000000000007: 0.5330347885552933\n",
      "1.9000000000000008: 0.5330568485142617\n",
      "2.000000000000001: 0.5332774481039465\n"
     ]
    }
   ],
   "source": [
    "from sklearn.linear_model import LogisticRegression\n",
    "c = 1.1\n",
    "for i in range(10):\n",
    "    logreg = LogisticRegression(class_weight = {1:2.27, 2:10.6, 3:0.7, 4:0.48}, C=c)\n",
    "    logreg.fit(X_train_dtm, Y_train)\n",
    "    y_pred_class = logreg.predict(X_test_dtm)\n",
    "    print(\"{}: {}\".format(c, np.mean(y_pred_class == Y_test)))\n",
    "    c += 0.1"
   ]
  },
  {
   "cell_type": "code",
   "execution_count": 56,
   "metadata": {
    "collapsed": false
   },
   "outputs": [
    {
     "data": {
      "text/plain": [
       "0.5160486201495665"
      ]
     },
     "execution_count": 56,
     "metadata": {},
     "output_type": "execute_result"
    }
   ],
   "source": [
    "np.mean(y_pred_class == Y_test)"
   ]
  },
  {
   "cell_type": "code",
   "execution_count": 65,
   "metadata": {
    "collapsed": false
   },
   "outputs": [
    {
     "data": {
      "text/plain": [
       "<45331x2000 sparse matrix of type '<class 'numpy.int64'>'\n",
       "\twith 85795 stored elements in Compressed Sparse Row format>"
      ]
     },
     "execution_count": 65,
     "metadata": {},
     "output_type": "execute_result"
    }
   ],
   "source": [
    "X_test_dtm"
   ]
  },
  {
   "cell_type": "code",
   "execution_count": 94,
   "metadata": {
    "collapsed": false
   },
   "outputs": [
    {
     "name": "stderr",
     "output_type": "stream",
     "text": [
      "C:\\Users\\kenne\\Anaconda3\\lib\\site-packages\\sklearn\\utils\\__init__.py:54: FutureWarning: Conversion of the second argument of issubdtype from `int` to `np.signedinteger` is deprecated. In future, it will be treated as `np.int32 == np.dtype(int).type`.\n",
      "  if np.issubdtype(mask.dtype, np.int):\n"
     ]
    },
    {
     "data": {
      "text/plain": [
       "0.5041362423065893"
      ]
     },
     "execution_count": 94,
     "metadata": {},
     "output_type": "execute_result"
    }
   ],
   "source": [
    "from sklearn.feature_selection import SelectKBest, chi2, mutual_info_classif\n",
    "chi2 = SelectKBest(chi2, k=5000)\n",
    "X_train_chi2_dtm = chi2.fit_transform(X_train_dtm, Y_train)\n",
    "X_test_chi2_dtm = chi2.transform(X_test_dtm)\n",
    "nb = MultinomialNB()\n",
    "nb.fit(X_train_chi2_dtm, Y_train)\n",
    "y_pred = nb.predict(X_test_chi2_dtm)\n",
    "np.mean(y_pred == Y_test)"
   ]
  },
  {
   "cell_type": "code",
   "execution_count": 95,
   "metadata": {
    "collapsed": false
   },
   "outputs": [
    {
     "data": {
      "text/plain": [
       "0.5041362423065893"
      ]
     },
     "execution_count": 95,
     "metadata": {},
     "output_type": "execute_result"
    }
   ],
   "source": [
    "logreg = LogisticRegression()\n",
    "logreg.fit(X_train_chi2_dtm, Y_train)\n",
    "y_pred_class = logreg.predict(X_test_chi2_dtm)\n",
    "np.mean(y_pred == Y_test)"
   ]
  },
  {
   "cell_type": "code",
   "execution_count": 86,
   "metadata": {
    "collapsed": false
   },
   "outputs": [
    {
     "data": {
      "text/plain": [
       "<276414x82918 sparse matrix of type '<class 'numpy.float64'>'\n",
       "\twith 17139237 stored elements in Compressed Sparse Row format>"
      ]
     },
     "execution_count": 86,
     "metadata": {},
     "output_type": "execute_result"
    }
   ],
   "source": [
    "X_train_dtm"
   ]
  },
  {
   "cell_type": "code",
   "execution_count": 67,
   "metadata": {
    "collapsed": false
   },
   "outputs": [
    {
     "data": {
      "text/plain": [
       "0.4273234651783548"
      ]
     },
     "execution_count": 67,
     "metadata": {},
     "output_type": "execute_result"
    }
   ],
   "source": [
    "np.mean(y_pred_class == Y_test) #1000"
   ]
  },
  {
   "cell_type": "code",
   "execution_count": 53,
   "metadata": {
    "collapsed": false
   },
   "outputs": [
    {
     "data": {
      "text/plain": [
       "0.4700977256182304"
      ]
     },
     "execution_count": 53,
     "metadata": {},
     "output_type": "execute_result"
    }
   ],
   "source": [
    "np.mean(y_pred_class == Y_test)"
   ]
  },
  {
   "cell_type": "code",
   "execution_count": null,
   "metadata": {
    "collapsed": false
   },
   "outputs": [],
   "source": [
    "nb = MultinomialNB()\n",
    "nb.fit(X_train_mi_dtm, Y_train)\n",
    "y_pred = nb.predict(X_test_mi_dtm)\n",
    "np.mean(y_pred == Y_test)"
   ]
  },
  {
   "cell_type": "code",
   "execution_count": null,
   "metadata": {
    "collapsed": true
   },
   "outputs": [],
   "source": []
  },
  {
   "cell_type": "code",
   "execution_count": 101,
   "metadata": {
    "collapsed": false
   },
   "outputs": [
    {
     "data": {
      "text/plain": [
       "0.5220048090710552"
      ]
     },
     "execution_count": 101,
     "metadata": {},
     "output_type": "execute_result"
    }
   ],
   "source": [
    "from sklearn import svm\n",
    "clf = svm.LinearSVC()\n",
    "clf.fit(X_train_dtm, Y_train)\n",
    "y_pred = clf.predict(X_test_dtm)\n",
    "np.mean(y_pred == Y_test)"
   ]
  },
  {
   "cell_type": "code",
   "execution_count": null,
   "metadata": {
    "collapsed": false
   },
   "outputs": [],
   "source": [
    "from sklearn import svm\n",
    "clf = svm.SVC()\n",
    "clf.fit(X_train_dtm, Y_train)\n",
    "y_pred = clf.predict(X_test_dtm)\n",
    "np.mean(y_pred == Y_test)"
   ]
  },
  {
   "cell_type": "code",
   "execution_count": 32,
   "metadata": {
    "collapsed": false
   },
   "outputs": [
    {
     "data": {
      "text/plain": [
       "0.5382850587897906"
      ]
     },
     "execution_count": 32,
     "metadata": {},
     "output_type": "execute_result"
    }
   ],
   "source": [
    "from sklearn import svm\n",
    "clf = svm.LinearSVC(loss='hinge', class_weight = {1:2.27, 2:10.6, 3:0.7, 4:0.48}, C=0.4)\n",
    "clf.fit(X_train_dtm, Y_train)\n",
    "y_pred = clf.predict(X_test_dtm)\n",
    "np.mean(y_pred == Y_test)"
   ]
  },
  {
   "cell_type": "code",
   "execution_count": 19,
   "metadata": {
    "collapsed": false
   },
   "outputs": [
    {
     "name": "stdout",
     "output_type": "stream",
     "text": [
      "0.1: 0.5269021199620568\n",
      "0.2: 0.5341819064216541\n",
      "0.30000000000000004: 0.5361893626877854\n",
      "0.4: 0.537468840307957\n",
      "0.5: 0.5373144205951776\n",
      "0.6: 0.537005581169619\n",
      "0.7: 0.536630561867155\n",
      "0.7999999999999999: 0.5358143433853213\n",
      "0.8999999999999999: 0.5353290242880149\n",
      "0.9999999999999999: 0.5342480862985595\n"
     ]
    }
   ],
   "source": [
    "# Tf - C = 0.4\n",
    "from sklearn import svm\n",
    "c = 0.1\n",
    "for i in range(10):\n",
    "    clf = svm.LinearSVC(loss='hinge', C=c)\n",
    "    clf.fit(X_train_dtm, Y_train)\n",
    "    y_pred = clf.predict(X_test_dtm)\n",
    "    print(\"{}: {}\".format(c, np.mean(y_pred == Y_test)))\n",
    "    c += 0.1"
   ]
  },
  {
   "cell_type": "code",
   "execution_count": 22,
   "metadata": {
    "collapsed": false
   },
   "outputs": [
    {
     "name": "stdout",
     "output_type": "stream",
     "text": [
      "0.01: 0.5147029626524895\n",
      "0.02: 0.5170413183031479\n",
      "0.03: 0.5177913569080762\n",
      "0.04: 0.5176589971542653\n",
      "0.05: 0.5166662990006838\n"
     ]
    },
    {
     "ename": "KeyboardInterrupt",
     "evalue": "",
     "output_type": "error",
     "traceback": [
      "\u001b[0;31m---------------------------------------------------------------------------\u001b[0m",
      "\u001b[0;31mKeyboardInterrupt\u001b[0m                         Traceback (most recent call last)",
      "\u001b[0;32m<ipython-input-22-432eae0a74a2>\u001b[0m in \u001b[0;36m<module>\u001b[0;34m()\u001b[0m\n\u001b[1;32m      4\u001b[0m \u001b[1;32mfor\u001b[0m \u001b[0mi\u001b[0m \u001b[1;32min\u001b[0m \u001b[0mrange\u001b[0m\u001b[1;33m(\u001b[0m\u001b[1;36m10\u001b[0m\u001b[1;33m)\u001b[0m\u001b[1;33m:\u001b[0m\u001b[1;33m\u001b[0m\u001b[0m\n\u001b[1;32m      5\u001b[0m     \u001b[0mclf\u001b[0m \u001b[1;33m=\u001b[0m \u001b[0msvm\u001b[0m\u001b[1;33m.\u001b[0m\u001b[0mLinearSVC\u001b[0m\u001b[1;33m(\u001b[0m\u001b[0mloss\u001b[0m\u001b[1;33m=\u001b[0m\u001b[1;34m'hinge'\u001b[0m\u001b[1;33m,\u001b[0m \u001b[0mC\u001b[0m\u001b[1;33m=\u001b[0m\u001b[0mc\u001b[0m\u001b[1;33m)\u001b[0m\u001b[1;33m\u001b[0m\u001b[0m\n\u001b[0;32m----> 6\u001b[0;31m     \u001b[0mclf\u001b[0m\u001b[1;33m.\u001b[0m\u001b[0mfit\u001b[0m\u001b[1;33m(\u001b[0m\u001b[0mX_train_dtm\u001b[0m\u001b[1;33m,\u001b[0m \u001b[0mY_train\u001b[0m\u001b[1;33m)\u001b[0m\u001b[1;33m\u001b[0m\u001b[0m\n\u001b[0m\u001b[1;32m      7\u001b[0m     \u001b[0my_pred\u001b[0m \u001b[1;33m=\u001b[0m \u001b[0mclf\u001b[0m\u001b[1;33m.\u001b[0m\u001b[0mpredict\u001b[0m\u001b[1;33m(\u001b[0m\u001b[0mX_test_dtm\u001b[0m\u001b[1;33m)\u001b[0m\u001b[1;33m\u001b[0m\u001b[0m\n\u001b[1;32m      8\u001b[0m     \u001b[0mprint\u001b[0m\u001b[1;33m(\u001b[0m\u001b[1;34m\"{}: {}\"\u001b[0m\u001b[1;33m.\u001b[0m\u001b[0mformat\u001b[0m\u001b[1;33m(\u001b[0m\u001b[0mc\u001b[0m\u001b[1;33m,\u001b[0m \u001b[0mnp\u001b[0m\u001b[1;33m.\u001b[0m\u001b[0mmean\u001b[0m\u001b[1;33m(\u001b[0m\u001b[0my_pred\u001b[0m \u001b[1;33m==\u001b[0m \u001b[0mY_test\u001b[0m\u001b[1;33m)\u001b[0m\u001b[1;33m)\u001b[0m\u001b[1;33m)\u001b[0m\u001b[1;33m\u001b[0m\u001b[0m\n",
      "\u001b[0;32mC:\\Users\\kenne\\Anaconda3\\lib\\site-packages\\sklearn\\svm\\classes.py\u001b[0m in \u001b[0;36mfit\u001b[0;34m(self, X, y, sample_weight)\u001b[0m\n\u001b[1;32m    213\u001b[0m             \u001b[0mself\u001b[0m\u001b[1;33m.\u001b[0m\u001b[0mclass_weight\u001b[0m\u001b[1;33m,\u001b[0m \u001b[0mself\u001b[0m\u001b[1;33m.\u001b[0m\u001b[0mpenalty\u001b[0m\u001b[1;33m,\u001b[0m \u001b[0mself\u001b[0m\u001b[1;33m.\u001b[0m\u001b[0mdual\u001b[0m\u001b[1;33m,\u001b[0m \u001b[0mself\u001b[0m\u001b[1;33m.\u001b[0m\u001b[0mverbose\u001b[0m\u001b[1;33m,\u001b[0m\u001b[1;33m\u001b[0m\u001b[0m\n\u001b[1;32m    214\u001b[0m             \u001b[0mself\u001b[0m\u001b[1;33m.\u001b[0m\u001b[0mmax_iter\u001b[0m\u001b[1;33m,\u001b[0m \u001b[0mself\u001b[0m\u001b[1;33m.\u001b[0m\u001b[0mtol\u001b[0m\u001b[1;33m,\u001b[0m \u001b[0mself\u001b[0m\u001b[1;33m.\u001b[0m\u001b[0mrandom_state\u001b[0m\u001b[1;33m,\u001b[0m \u001b[0mself\u001b[0m\u001b[1;33m.\u001b[0m\u001b[0mmulti_class\u001b[0m\u001b[1;33m,\u001b[0m\u001b[1;33m\u001b[0m\u001b[0m\n\u001b[0;32m--> 215\u001b[0;31m             self.loss, sample_weight=sample_weight)\n\u001b[0m\u001b[1;32m    216\u001b[0m \u001b[1;33m\u001b[0m\u001b[0m\n\u001b[1;32m    217\u001b[0m         \u001b[1;32mif\u001b[0m \u001b[0mself\u001b[0m\u001b[1;33m.\u001b[0m\u001b[0mmulti_class\u001b[0m \u001b[1;33m==\u001b[0m \u001b[1;34m\"crammer_singer\"\u001b[0m \u001b[1;32mand\u001b[0m \u001b[0mlen\u001b[0m\u001b[1;33m(\u001b[0m\u001b[0mself\u001b[0m\u001b[1;33m.\u001b[0m\u001b[0mclasses_\u001b[0m\u001b[1;33m)\u001b[0m \u001b[1;33m==\u001b[0m \u001b[1;36m2\u001b[0m\u001b[1;33m:\u001b[0m\u001b[1;33m\u001b[0m\u001b[0m\n",
      "\u001b[0;32mC:\\Users\\kenne\\Anaconda3\\lib\\site-packages\\sklearn\\svm\\base.py\u001b[0m in \u001b[0;36m_fit_liblinear\u001b[0;34m(X, y, C, fit_intercept, intercept_scaling, class_weight, penalty, dual, verbose, max_iter, tol, random_state, multi_class, loss, epsilon, sample_weight)\u001b[0m\n\u001b[1;32m    910\u001b[0m         \u001b[0mX\u001b[0m\u001b[1;33m,\u001b[0m \u001b[0my_ind\u001b[0m\u001b[1;33m,\u001b[0m \u001b[0msp\u001b[0m\u001b[1;33m.\u001b[0m\u001b[0misspmatrix\u001b[0m\u001b[1;33m(\u001b[0m\u001b[0mX\u001b[0m\u001b[1;33m)\u001b[0m\u001b[1;33m,\u001b[0m \u001b[0msolver_type\u001b[0m\u001b[1;33m,\u001b[0m \u001b[0mtol\u001b[0m\u001b[1;33m,\u001b[0m \u001b[0mbias\u001b[0m\u001b[1;33m,\u001b[0m \u001b[0mC\u001b[0m\u001b[1;33m,\u001b[0m\u001b[1;33m\u001b[0m\u001b[0m\n\u001b[1;32m    911\u001b[0m         \u001b[0mclass_weight_\u001b[0m\u001b[1;33m,\u001b[0m \u001b[0mmax_iter\u001b[0m\u001b[1;33m,\u001b[0m \u001b[0mrnd\u001b[0m\u001b[1;33m.\u001b[0m\u001b[0mrandint\u001b[0m\u001b[1;33m(\u001b[0m\u001b[0mnp\u001b[0m\u001b[1;33m.\u001b[0m\u001b[0miinfo\u001b[0m\u001b[1;33m(\u001b[0m\u001b[1;34m'i'\u001b[0m\u001b[1;33m)\u001b[0m\u001b[1;33m.\u001b[0m\u001b[0mmax\u001b[0m\u001b[1;33m)\u001b[0m\u001b[1;33m,\u001b[0m\u001b[1;33m\u001b[0m\u001b[0m\n\u001b[0;32m--> 912\u001b[0;31m         epsilon, sample_weight)\n\u001b[0m\u001b[1;32m    913\u001b[0m     \u001b[1;31m# Regarding rnd.randint(..) in the above signature:\u001b[0m\u001b[1;33m\u001b[0m\u001b[1;33m\u001b[0m\u001b[0m\n\u001b[1;32m    914\u001b[0m     \u001b[1;31m# seed for srand in range [0..INT_MAX); due to limitations in Numpy\u001b[0m\u001b[1;33m\u001b[0m\u001b[1;33m\u001b[0m\u001b[0m\n",
      "\u001b[0;31mKeyboardInterrupt\u001b[0m: "
     ]
    }
   ],
   "source": [
    "#CV\n",
    "from sklearn import svm\n",
    "c = 0.01\n",
    "for i in range(10):\n",
    "    clf = svm.LinearSVC(loss='hinge', C=c)\n",
    "    clf.fit(X_train_dtm, Y_train)\n",
    "    y_pred = clf.predict(X_test_dtm)\n",
    "    print(\"{}: {}\".format(c, np.mean(y_pred == Y_test)))\n",
    "    c += 0.01"
   ]
  },
  {
   "cell_type": "code",
   "execution_count": 30,
   "metadata": {
    "collapsed": false
   },
   "outputs": [
    {
     "name": "stdout",
     "output_type": "stream",
     "text": [
      "0.5246299441883038\n"
     ]
    }
   ],
   "source": [
    "clf = svm.LinearSVC(loss='hinge', C=0.03, class_weight = {1:2.27, 2:10.6, 3:0.7, 4:0.48})\n",
    "clf.fit(X_train_dtm, Y_train)\n",
    "y_pred = clf.predict(X_test_dtm)\n",
    "print(np.mean(y_pred == Y_test))"
   ]
  },
  {
   "cell_type": "code",
   "execution_count": 29,
   "metadata": {
    "collapsed": false
   },
   "outputs": [
    {
     "data": {
      "text/plain": [
       "array([ 0.70188616,  0.48973799,  2.27711141, 10.61497696])"
      ]
     },
     "execution_count": 29,
     "metadata": {},
     "output_type": "execute_result"
    }
   ],
   "source": [
    "from sklearn.utils import class_weight\n",
    "class_weight.compute_class_weight('balanced', np.unique(train.Age_range), Y_train)"
   ]
  },
  {
   "cell_type": "code",
   "execution_count": 53,
   "metadata": {
    "collapsed": false
   },
   "outputs": [
    {
     "data": {
      "text/plain": [
       "0.4700977256182304"
      ]
     },
     "execution_count": 53,
     "metadata": {},
     "output_type": "execute_result"
    }
   ],
   "source": [
    "np.mean(y_pred_class == Y_test)"
   ]
  },
  {
   "cell_type": "code",
   "execution_count": 42,
   "metadata": {
    "collapsed": false
   },
   "outputs": [],
   "source": [
    "Y_train_with_dummies = pd.get_dummies(Y_train)\n",
    "Y_test_with_dummies = pd.get_dummies(Y_test)"
   ]
  },
  {
   "cell_type": "code",
   "execution_count": 100,
   "metadata": {
    "collapsed": true
   },
   "outputs": [],
   "source": [
    "from nltk.tokenize import RegexpTokenizer\n",
    "from nltk.corpus import stopwords\n",
    "from nltk.stem import WordNetLemmatizer\n",
    "import nltk\n",
    "import matplotlib.pyplot as plt\n",
    "%matplotlib inline\n",
    "\n",
    "def word_count(clas):\n",
    "    \n",
    "    stop_words = set(stopwords.words(\"english\"))    \n",
    "    all_words = []\n",
    "    rgtok = RegexpTokenizer(u'(?u)\\\\b\\\\w\\\\w\\\\w\\\\w\\\\w\\\\w\\\\w\\\\w\\\\w\\\\w+\\\\b')\n",
    "    lem = WordNetLemmatizer()\n",
    "\n",
    "    for text in list(train[train[\"Age_range\"] == clas ][\"Text\"]):\n",
    "        for word in (rgtok.tokenize(text)):\n",
    "                if word not in stop_words and not word.isdigit():        \n",
    "                    all_words.append(lem.lemmatize(word.lower()) )\n",
    "\n",
    "    all_words_d = nltk.FreqDist(all_words)\n",
    "    most_common = pd.DataFrame(data=all_words_d.most_common(50), columns=[\"Word\", \"Count\"])            \n",
    "    \n",
    "    return(most_common)\n",
    "    #fig, ax = plt.subplots(figsize=(10, 10))\n",
    "    #ax = sns.barplot(y=\"Word\", x=\"Count\", data=most_common, ax=ax, orient=\"h\")"
   ]
  },
  {
   "cell_type": "code",
   "execution_count": 102,
   "metadata": {
    "collapsed": false
   },
   "outputs": [],
   "source": [
    "word_list = []\n",
    "for word in word_count(\"14-16\")['Word']:\n",
    "    word_list.append(word)\n",
    "for word in word_count(\"24-26\")['Word']:\n",
    "    word_list.append(word)\n",
    "for word in word_count(\"34-36\")['Word']:\n",
    "    word_list.append(word)\n",
    "for word in word_count(\"44-46\")['Word']:\n",
    "    word_list.append(word)\n",
    "word_set = set(word_list)\n"
   ]
  },
  {
   "cell_type": "code",
   "execution_count": 104,
   "metadata": {
    "collapsed": false
   },
   "outputs": [],
   "source": [
    "word_list = []\n",
    "for word in word_set:\n",
    "    word_list.append(word)"
   ]
  },
  {
   "cell_type": "code",
   "execution_count": 106,
   "metadata": {
    "collapsed": false
   },
   "outputs": [
    {
     "data": {
      "text/plain": [
       "80"
      ]
     },
     "execution_count": 106,
     "metadata": {},
     "output_type": "execute_result"
    }
   ],
   "source": [
    "len(word_list)"
   ]
  },
  {
   "cell_type": "code",
   "execution_count": 80,
   "metadata": {
    "collapsed": false
   },
   "outputs": [
    {
     "data": {
      "text/plain": [
       "<276414x381595 sparse matrix of type '<class 'numpy.int64'>'\n",
       "\twith 27999046 stored elements in Compressed Sparse Row format>"
      ]
     },
     "execution_count": 80,
     "metadata": {},
     "output_type": "execute_result"
    }
   ],
   "source": [
    "# instantiate the vectorizer\n",
    "vect = CountVectorizer()\n",
    "# learn training data vocabulary, then use it to create a document-term matrix\n",
    "vect.fit(X_train)\n",
    "X_train_dtm = vect.transform(X_train)\n",
    "# examine the document-term matrix\n",
    "X_train_dtm"
   ]
  },
  {
   "cell_type": "code",
   "execution_count": 56,
   "metadata": {
    "collapsed": false
   },
   "outputs": [
    {
     "data": {
      "text/plain": [
       "<45331x381595 sparse matrix of type '<class 'numpy.int64'>'\n",
       "\twith 4593859 stored elements in Compressed Sparse Row format>"
      ]
     },
     "execution_count": 56,
     "metadata": {},
     "output_type": "execute_result"
    }
   ],
   "source": [
    "# transform testing data (using fitted vocabulary) into a document-term matrix\n",
    "X_test_dtm = vect.transform(X_test)\n",
    "X_test_dtm"
   ]
  },
  {
   "cell_type": "code",
   "execution_count": 77,
   "metadata": {
    "collapsed": false
   },
   "outputs": [
    {
     "ename": "ValueError",
     "evalue": "Found input variables with inconsistent numbers of samples: [45331, 276414]",
     "output_type": "error",
     "traceback": [
      "\u001b[0;31m---------------------------------------------------------------------------\u001b[0m",
      "\u001b[0;31mValueError\u001b[0m                                Traceback (most recent call last)",
      "\u001b[0;32m<ipython-input-77-b951502c3ef6>\u001b[0m in \u001b[0;36m<module>\u001b[0;34m()\u001b[0m\n\u001b[1;32m      3\u001b[0m \u001b[0mnb\u001b[0m \u001b[1;33m=\u001b[0m \u001b[0mMultinomialNB\u001b[0m\u001b[1;33m(\u001b[0m\u001b[1;33m)\u001b[0m\u001b[1;33m\u001b[0m\u001b[0m\n\u001b[1;32m      4\u001b[0m \u001b[1;31m# train the model using X_train_dtm (timing it with an IPython \"magic command\")\u001b[0m\u001b[1;33m\u001b[0m\u001b[1;33m\u001b[0m\u001b[0m\n\u001b[0;32m----> 5\u001b[0;31m \u001b[0mget_ipython\u001b[0m\u001b[1;33m(\u001b[0m\u001b[1;33m)\u001b[0m\u001b[1;33m.\u001b[0m\u001b[0mmagic\u001b[0m\u001b[1;33m(\u001b[0m\u001b[1;34m'time nb.fit(tfidf, Y_train)'\u001b[0m\u001b[1;33m)\u001b[0m\u001b[1;33m\u001b[0m\u001b[0m\n\u001b[0m\u001b[1;32m      6\u001b[0m \u001b[0my_pred_class\u001b[0m \u001b[1;33m=\u001b[0m \u001b[0mlogreg\u001b[0m\u001b[1;33m.\u001b[0m\u001b[0mpredict\u001b[0m\u001b[1;33m(\u001b[0m\u001b[0mtfidf\u001b[0m\u001b[1;33m)\u001b[0m\u001b[1;33m\u001b[0m\u001b[0m\n\u001b[1;32m      7\u001b[0m \u001b[0mnp\u001b[0m\u001b[1;33m.\u001b[0m\u001b[0mmean\u001b[0m\u001b[1;33m(\u001b[0m\u001b[0my_pred\u001b[0m \u001b[1;33m==\u001b[0m \u001b[0mY_test\u001b[0m\u001b[1;33m)\u001b[0m\u001b[1;33m\u001b[0m\u001b[0m\n",
      "\u001b[0;32mC:\\Users\\kenne\\Anaconda3\\lib\\site-packages\\IPython\\core\\interactiveshell.py\u001b[0m in \u001b[0;36mmagic\u001b[0;34m(self, arg_s)\u001b[0m\n\u001b[1;32m   2156\u001b[0m         \u001b[0mmagic_name\u001b[0m\u001b[1;33m,\u001b[0m \u001b[0m_\u001b[0m\u001b[1;33m,\u001b[0m \u001b[0mmagic_arg_s\u001b[0m \u001b[1;33m=\u001b[0m \u001b[0marg_s\u001b[0m\u001b[1;33m.\u001b[0m\u001b[0mpartition\u001b[0m\u001b[1;33m(\u001b[0m\u001b[1;34m' '\u001b[0m\u001b[1;33m)\u001b[0m\u001b[1;33m\u001b[0m\u001b[0m\n\u001b[1;32m   2157\u001b[0m         \u001b[0mmagic_name\u001b[0m \u001b[1;33m=\u001b[0m \u001b[0mmagic_name\u001b[0m\u001b[1;33m.\u001b[0m\u001b[0mlstrip\u001b[0m\u001b[1;33m(\u001b[0m\u001b[0mprefilter\u001b[0m\u001b[1;33m.\u001b[0m\u001b[0mESC_MAGIC\u001b[0m\u001b[1;33m)\u001b[0m\u001b[1;33m\u001b[0m\u001b[0m\n\u001b[0;32m-> 2158\u001b[0;31m         \u001b[1;32mreturn\u001b[0m \u001b[0mself\u001b[0m\u001b[1;33m.\u001b[0m\u001b[0mrun_line_magic\u001b[0m\u001b[1;33m(\u001b[0m\u001b[0mmagic_name\u001b[0m\u001b[1;33m,\u001b[0m \u001b[0mmagic_arg_s\u001b[0m\u001b[1;33m)\u001b[0m\u001b[1;33m\u001b[0m\u001b[0m\n\u001b[0m\u001b[1;32m   2159\u001b[0m \u001b[1;33m\u001b[0m\u001b[0m\n\u001b[1;32m   2160\u001b[0m     \u001b[1;31m#-------------------------------------------------------------------------\u001b[0m\u001b[1;33m\u001b[0m\u001b[1;33m\u001b[0m\u001b[0m\n",
      "\u001b[0;32mC:\\Users\\kenne\\Anaconda3\\lib\\site-packages\\IPython\\core\\interactiveshell.py\u001b[0m in \u001b[0;36mrun_line_magic\u001b[0;34m(self, magic_name, line)\u001b[0m\n\u001b[1;32m   2077\u001b[0m                 \u001b[0mkwargs\u001b[0m\u001b[1;33m[\u001b[0m\u001b[1;34m'local_ns'\u001b[0m\u001b[1;33m]\u001b[0m \u001b[1;33m=\u001b[0m \u001b[0msys\u001b[0m\u001b[1;33m.\u001b[0m\u001b[0m_getframe\u001b[0m\u001b[1;33m(\u001b[0m\u001b[0mstack_depth\u001b[0m\u001b[1;33m)\u001b[0m\u001b[1;33m.\u001b[0m\u001b[0mf_locals\u001b[0m\u001b[1;33m\u001b[0m\u001b[0m\n\u001b[1;32m   2078\u001b[0m             \u001b[1;32mwith\u001b[0m \u001b[0mself\u001b[0m\u001b[1;33m.\u001b[0m\u001b[0mbuiltin_trap\u001b[0m\u001b[1;33m:\u001b[0m\u001b[1;33m\u001b[0m\u001b[0m\n\u001b[0;32m-> 2079\u001b[0;31m                 \u001b[0mresult\u001b[0m \u001b[1;33m=\u001b[0m \u001b[0mfn\u001b[0m\u001b[1;33m(\u001b[0m\u001b[1;33m*\u001b[0m\u001b[0margs\u001b[0m\u001b[1;33m,\u001b[0m\u001b[1;33m**\u001b[0m\u001b[0mkwargs\u001b[0m\u001b[1;33m)\u001b[0m\u001b[1;33m\u001b[0m\u001b[0m\n\u001b[0m\u001b[1;32m   2080\u001b[0m             \u001b[1;32mreturn\u001b[0m \u001b[0mresult\u001b[0m\u001b[1;33m\u001b[0m\u001b[0m\n\u001b[1;32m   2081\u001b[0m \u001b[1;33m\u001b[0m\u001b[0m\n",
      "\u001b[0;32m<decorator-gen-60>\u001b[0m in \u001b[0;36mtime\u001b[0;34m(self, line, cell, local_ns)\u001b[0m\n",
      "\u001b[0;32mC:\\Users\\kenne\\Anaconda3\\lib\\site-packages\\IPython\\core\\magic.py\u001b[0m in \u001b[0;36m<lambda>\u001b[0;34m(f, *a, **k)\u001b[0m\n\u001b[1;32m    186\u001b[0m     \u001b[1;31m# but it's overkill for just that one bit of state.\u001b[0m\u001b[1;33m\u001b[0m\u001b[1;33m\u001b[0m\u001b[0m\n\u001b[1;32m    187\u001b[0m     \u001b[1;32mdef\u001b[0m \u001b[0mmagic_deco\u001b[0m\u001b[1;33m(\u001b[0m\u001b[0marg\u001b[0m\u001b[1;33m)\u001b[0m\u001b[1;33m:\u001b[0m\u001b[1;33m\u001b[0m\u001b[0m\n\u001b[0;32m--> 188\u001b[0;31m         \u001b[0mcall\u001b[0m \u001b[1;33m=\u001b[0m \u001b[1;32mlambda\u001b[0m \u001b[0mf\u001b[0m\u001b[1;33m,\u001b[0m \u001b[1;33m*\u001b[0m\u001b[0ma\u001b[0m\u001b[1;33m,\u001b[0m \u001b[1;33m**\u001b[0m\u001b[0mk\u001b[0m\u001b[1;33m:\u001b[0m \u001b[0mf\u001b[0m\u001b[1;33m(\u001b[0m\u001b[1;33m*\u001b[0m\u001b[0ma\u001b[0m\u001b[1;33m,\u001b[0m \u001b[1;33m**\u001b[0m\u001b[0mk\u001b[0m\u001b[1;33m)\u001b[0m\u001b[1;33m\u001b[0m\u001b[0m\n\u001b[0m\u001b[1;32m    189\u001b[0m \u001b[1;33m\u001b[0m\u001b[0m\n\u001b[1;32m    190\u001b[0m         \u001b[1;32mif\u001b[0m \u001b[0mcallable\u001b[0m\u001b[1;33m(\u001b[0m\u001b[0marg\u001b[0m\u001b[1;33m)\u001b[0m\u001b[1;33m:\u001b[0m\u001b[1;33m\u001b[0m\u001b[0m\n",
      "\u001b[0;32mC:\\Users\\kenne\\Anaconda3\\lib\\site-packages\\IPython\\core\\magics\\execution.py\u001b[0m in \u001b[0;36mtime\u001b[0;34m(self, line, cell, local_ns)\u001b[0m\n\u001b[1;32m   1174\u001b[0m         \u001b[1;32mif\u001b[0m \u001b[0mmode\u001b[0m\u001b[1;33m==\u001b[0m\u001b[1;34m'eval'\u001b[0m\u001b[1;33m:\u001b[0m\u001b[1;33m\u001b[0m\u001b[0m\n\u001b[1;32m   1175\u001b[0m             \u001b[0mst\u001b[0m \u001b[1;33m=\u001b[0m \u001b[0mclock2\u001b[0m\u001b[1;33m(\u001b[0m\u001b[1;33m)\u001b[0m\u001b[1;33m\u001b[0m\u001b[0m\n\u001b[0;32m-> 1176\u001b[0;31m             \u001b[0mout\u001b[0m \u001b[1;33m=\u001b[0m \u001b[0meval\u001b[0m\u001b[1;33m(\u001b[0m\u001b[0mcode\u001b[0m\u001b[1;33m,\u001b[0m \u001b[0mglob\u001b[0m\u001b[1;33m,\u001b[0m \u001b[0mlocal_ns\u001b[0m\u001b[1;33m)\u001b[0m\u001b[1;33m\u001b[0m\u001b[0m\n\u001b[0m\u001b[1;32m   1177\u001b[0m             \u001b[0mend\u001b[0m \u001b[1;33m=\u001b[0m \u001b[0mclock2\u001b[0m\u001b[1;33m(\u001b[0m\u001b[1;33m)\u001b[0m\u001b[1;33m\u001b[0m\u001b[0m\n\u001b[1;32m   1178\u001b[0m         \u001b[1;32melse\u001b[0m\u001b[1;33m:\u001b[0m\u001b[1;33m\u001b[0m\u001b[0m\n",
      "\u001b[0;32m<timed eval>\u001b[0m in \u001b[0;36m<module>\u001b[0;34m()\u001b[0m\n",
      "\u001b[0;32mC:\\Users\\kenne\\Anaconda3\\lib\\site-packages\\sklearn\\naive_bayes.py\u001b[0m in \u001b[0;36mfit\u001b[0;34m(self, X, y, sample_weight)\u001b[0m\n\u001b[1;32m    560\u001b[0m             \u001b[0mReturns\u001b[0m \u001b[0mself\u001b[0m\u001b[1;33m.\u001b[0m\u001b[1;33m\u001b[0m\u001b[0m\n\u001b[1;32m    561\u001b[0m         \"\"\"\n\u001b[0;32m--> 562\u001b[0;31m         \u001b[0mX\u001b[0m\u001b[1;33m,\u001b[0m \u001b[0my\u001b[0m \u001b[1;33m=\u001b[0m \u001b[0mcheck_X_y\u001b[0m\u001b[1;33m(\u001b[0m\u001b[0mX\u001b[0m\u001b[1;33m,\u001b[0m \u001b[0my\u001b[0m\u001b[1;33m,\u001b[0m \u001b[1;34m'csr'\u001b[0m\u001b[1;33m)\u001b[0m\u001b[1;33m\u001b[0m\u001b[0m\n\u001b[0m\u001b[1;32m    563\u001b[0m         \u001b[0m_\u001b[0m\u001b[1;33m,\u001b[0m \u001b[0mn_features\u001b[0m \u001b[1;33m=\u001b[0m \u001b[0mX\u001b[0m\u001b[1;33m.\u001b[0m\u001b[0mshape\u001b[0m\u001b[1;33m\u001b[0m\u001b[0m\n\u001b[1;32m    564\u001b[0m \u001b[1;33m\u001b[0m\u001b[0m\n",
      "\u001b[0;32mC:\\Users\\kenne\\Anaconda3\\lib\\site-packages\\sklearn\\utils\\validation.py\u001b[0m in \u001b[0;36mcheck_X_y\u001b[0;34m(X, y, accept_sparse, dtype, order, copy, force_all_finite, ensure_2d, allow_nd, multi_output, ensure_min_samples, ensure_min_features, y_numeric, warn_on_dtype, estimator)\u001b[0m\n\u001b[1;32m    529\u001b[0m         \u001b[0my\u001b[0m \u001b[1;33m=\u001b[0m \u001b[0my\u001b[0m\u001b[1;33m.\u001b[0m\u001b[0mastype\u001b[0m\u001b[1;33m(\u001b[0m\u001b[0mnp\u001b[0m\u001b[1;33m.\u001b[0m\u001b[0mfloat64\u001b[0m\u001b[1;33m)\u001b[0m\u001b[1;33m\u001b[0m\u001b[0m\n\u001b[1;32m    530\u001b[0m \u001b[1;33m\u001b[0m\u001b[0m\n\u001b[0;32m--> 531\u001b[0;31m     \u001b[0mcheck_consistent_length\u001b[0m\u001b[1;33m(\u001b[0m\u001b[0mX\u001b[0m\u001b[1;33m,\u001b[0m \u001b[0my\u001b[0m\u001b[1;33m)\u001b[0m\u001b[1;33m\u001b[0m\u001b[0m\n\u001b[0m\u001b[1;32m    532\u001b[0m \u001b[1;33m\u001b[0m\u001b[0m\n\u001b[1;32m    533\u001b[0m     \u001b[1;32mreturn\u001b[0m \u001b[0mX\u001b[0m\u001b[1;33m,\u001b[0m \u001b[0my\u001b[0m\u001b[1;33m\u001b[0m\u001b[0m\n",
      "\u001b[0;32mC:\\Users\\kenne\\Anaconda3\\lib\\site-packages\\sklearn\\utils\\validation.py\u001b[0m in \u001b[0;36mcheck_consistent_length\u001b[0;34m(*arrays)\u001b[0m\n\u001b[1;32m    179\u001b[0m     \u001b[1;32mif\u001b[0m \u001b[0mlen\u001b[0m\u001b[1;33m(\u001b[0m\u001b[0muniques\u001b[0m\u001b[1;33m)\u001b[0m \u001b[1;33m>\u001b[0m \u001b[1;36m1\u001b[0m\u001b[1;33m:\u001b[0m\u001b[1;33m\u001b[0m\u001b[0m\n\u001b[1;32m    180\u001b[0m         raise ValueError(\"Found input variables with inconsistent numbers of\"\n\u001b[0;32m--> 181\u001b[0;31m                          \" samples: %r\" % [int(l) for l in lengths])\n\u001b[0m\u001b[1;32m    182\u001b[0m \u001b[1;33m\u001b[0m\u001b[0m\n\u001b[1;32m    183\u001b[0m \u001b[1;33m\u001b[0m\u001b[0m\n",
      "\u001b[0;31mValueError\u001b[0m: Found input variables with inconsistent numbers of samples: [45331, 276414]"
     ]
    }
   ],
   "source": [
    "# import and instantiate a Multinomial Naive Bayes model\n",
    "from sklearn.naive_bayes import MultinomialNB\n",
    "nb = MultinomialNB()\n",
    "# train the model using X_train_dtm (timing it with an IPython \"magic command\")\n",
    "%time nb.fit(tfidf, Y_train)\n",
    "y_pred_class = logreg.predict(tfidf)\n",
    "np.mean(y_pred == Y_test)"
   ]
  },
  {
   "cell_type": "code",
   "execution_count": null,
   "metadata": {
    "collapsed": true
   },
   "outputs": [],
   "source": [
    "# make class predictions for X_test_dtm\n",
    "y_pred_class = nb.predict(X_test_dtm)\n",
    "# calculate accuracy of class predictions\n",
    "from sklearn import metrics\n",
    "metrics.accuracy_score(Y_test, y_pred_class)"
   ]
  },
  {
   "cell_type": "code",
   "execution_count": 62,
   "metadata": {
    "collapsed": false
   },
   "outputs": [
    {
     "data": {
      "text/plain": [
       "array([[ 8920,  3859,   293,    28,     0],\n",
       "       [ 2931, 12841,  1462,    63,     0],\n",
       "       [  145,  1985,   442,    12,     0],\n",
       "       [   31,   428,    91,     1,     0],\n",
       "       [ 3512,  7373,   884,    30,     0]])"
      ]
     },
     "execution_count": 62,
     "metadata": {},
     "output_type": "execute_result"
    }
   ],
   "source": [
    "# print the confusion matrix\n",
    "metrics.confusion_matrix(Y_test, y_pred_class)"
   ]
  },
  {
   "cell_type": "code",
   "execution_count": 70,
   "metadata": {
    "collapsed": true
   },
   "outputs": [],
   "source": [
    "# import and instantiate a logistic regression model\n",
    "from sklearn.linear_model import LogisticRegression\n",
    "logreg = LogisticRegression()\n",
    "# train the model using X_train_dtm\n",
    "logreg.fit(X_train_dtm, Y_train)\n",
    "# make class predictions for X_test_dtm\n",
    "y_pred_class = logreg.predict(X_test_dtm)"
   ]
  },
  {
   "cell_type": "code",
   "execution_count": 74,
   "metadata": {
    "collapsed": false
   },
   "outputs": [
    {
     "data": {
      "text/plain": [
       "0.5228430875118573"
      ]
     },
     "execution_count": 74,
     "metadata": {},
     "output_type": "execute_result"
    }
   ],
   "source": [
    "# calculate accuracy\n",
    "metrics.accuracy_score(Y_test, y_pred_class)"
   ]
  },
  {
   "cell_type": "code",
   "execution_count": 85,
   "metadata": {
    "collapsed": false
   },
   "outputs": [],
   "source": [
    "Y_train_top10 = train_top10[train_top10.columns[-1]]\n",
    "X_train_top10 = train_top10[train_top10.columns[1:-1]]\n",
    "Y_test_top10 = test_top10[test_top10.columns[-1]]\n",
    "X_test_top10 = test_top10[test_top10.columns[1:-1]]\n"
   ]
  },
  {
   "cell_type": "code",
   "execution_count": 86,
   "metadata": {
    "collapsed": false
   },
   "outputs": [
    {
     "name": "stdout",
     "output_type": "stream",
     "text": [
      "Wall time: 1.1 s\n"
     ]
    },
    {
     "data": {
      "text/plain": [
       "MultinomialNB(alpha=1.0, class_prior=None, fit_prior=True)"
      ]
     },
     "execution_count": 86,
     "metadata": {},
     "output_type": "execute_result"
    }
   ],
   "source": [
    "nb = MultinomialNB()\n",
    "# train the model using X_train_dtm (timing it with an IPython \"magic command\")\n",
    "%time nb.fit(X_train_top10, Y_train)\n"
   ]
  },
  {
   "cell_type": "code",
   "execution_count": 90,
   "metadata": {
    "collapsed": false
   },
   "outputs": [
    {
     "data": {
      "text/plain": [
       "0.43063245902362624"
      ]
     },
     "execution_count": 90,
     "metadata": {},
     "output_type": "execute_result"
    }
   ],
   "source": [
    "# make class predictions for X_test_dtm\n",
    "y_pred_class = nb.predict(X_test_top10)\n",
    "# calculate accuracy of class predictions\n",
    "metrics.accuracy_score(Y_test, y_pred_class)"
   ]
  },
  {
   "cell_type": "code",
   "execution_count": 28,
   "metadata": {
    "collapsed": false
   },
   "outputs": [],
   "source": [
    "text_clf = Pipeline([('vect', CountVectorizer(stop_words='english')),\n",
    " ('tfidf', TfidfTransformer()),\n",
    " ('clf', MultinomialNB()),\n",
    "])"
   ]
  },
  {
   "cell_type": "code",
   "execution_count": 52,
   "metadata": {
    "collapsed": true
   },
   "outputs": [],
   "source": [
    "from sklearn.linear_model import SGDClassifier\n",
    "text_clf_svm = Pipeline([('vect', CountVectorizer()),\n",
    "                      ('tfidf', TfidfTransformer()),\n",
    "                      ('clf-svm', SGDClassifier(loss='hinge', penalty='l2',\n",
    "                        alpha=1e-3, n_iter=5, random_state=42)),\n",
    "])\n"
   ]
  },
  {
   "cell_type": "code",
   "execution_count": 53,
   "metadata": {
    "collapsed": false
   },
   "outputs": [
    {
     "name": "stderr",
     "output_type": "stream",
     "text": [
      "C:\\Users\\kenne\\Anaconda3\\lib\\site-packages\\sklearn\\feature_extraction\\text.py:1059: FutureWarning: Conversion of the second argument of issubdtype from `float` to `np.floating` is deprecated. In future, it will be treated as `np.float64 == np.dtype(float).type`.\n",
      "  if hasattr(X, 'dtype') and np.issubdtype(X.dtype, np.float):\n"
     ]
    },
    {
     "ename": "NameError",
     "evalue": "name 'metrics' is not defined",
     "output_type": "error",
     "traceback": [
      "\u001b[0;31m---------------------------------------------------------------------------\u001b[0m",
      "\u001b[0;31mNameError\u001b[0m                                 Traceback (most recent call last)",
      "\u001b[0;32m<ipython-input-53-80e184b3d55d>\u001b[0m in \u001b[0;36m<module>\u001b[0;34m()\u001b[0m\n\u001b[1;32m      1\u001b[0m \u001b[0mtext_clf_svm\u001b[0m \u001b[1;33m=\u001b[0m \u001b[0mtext_clf_svm\u001b[0m\u001b[1;33m.\u001b[0m\u001b[0mfit\u001b[0m\u001b[1;33m(\u001b[0m\u001b[0mX_train\u001b[0m\u001b[1;33m,\u001b[0m \u001b[0mY_train\u001b[0m\u001b[1;33m)\u001b[0m\u001b[1;33m\u001b[0m\u001b[0m\n\u001b[1;32m      2\u001b[0m \u001b[0my_pred\u001b[0m \u001b[1;33m=\u001b[0m \u001b[0mtext_clf_svm\u001b[0m\u001b[1;33m.\u001b[0m\u001b[0mpredict\u001b[0m\u001b[1;33m(\u001b[0m\u001b[0mX_test\u001b[0m\u001b[1;33m)\u001b[0m\u001b[1;33m\u001b[0m\u001b[0m\n\u001b[0;32m----> 3\u001b[0;31m \u001b[0mmetrics\u001b[0m\u001b[1;33m.\u001b[0m\u001b[0maccuracy_score\u001b[0m\u001b[1;33m(\u001b[0m\u001b[0mY_test\u001b[0m\u001b[1;33m,\u001b[0m \u001b[0my_pred_class\u001b[0m\u001b[1;33m)\u001b[0m\u001b[1;33m\u001b[0m\u001b[0m\n\u001b[0m",
      "\u001b[0;31mNameError\u001b[0m: name 'metrics' is not defined"
     ]
    }
   ],
   "source": [
    "text_clf_svm = text_clf_svm.fit(X_train, Y_train)\n",
    "y_pred = text_clf_svm.predict(X_test)"
   ]
  },
  {
   "cell_type": "code",
   "execution_count": 55,
   "metadata": {
    "collapsed": false
   },
   "outputs": [
    {
     "data": {
      "text/plain": [
       "0.46078842293353334"
      ]
     },
     "execution_count": 55,
     "metadata": {},
     "output_type": "execute_result"
    }
   ],
   "source": [
    "np.mean(y_pred == Y_test)"
   ]
  },
  {
   "cell_type": "code",
   "execution_count": 86,
   "metadata": {
    "collapsed": false
   },
   "outputs": [],
   "source": [
    "y_pred_range = pd.cut(y_pred, [0,14,17,20,23,26,29,32,35,38,41,100], right=False)"
   ]
  },
  {
   "cell_type": "code",
   "execution_count": 87,
   "metadata": {
    "collapsed": false
   },
   "outputs": [
    {
     "data": {
      "text/plain": [
       "[[23, 26), [23, 26), [23, 26), [23, 26), [23, 26), ..., [23, 26), [23, 26), [14, 17), [23, 26), [23, 26)]\n",
       "Length: 45331\n",
       "Categories (11, interval[int64]): [[0, 14) < [14, 17) < [17, 20) < [20, 23) ... [32, 35) < [35, 38) < [38, 41) < [41, 100)]"
      ]
     },
     "execution_count": 87,
     "metadata": {},
     "output_type": "execute_result"
    }
   ],
   "source": [
    "y_pred_range"
   ]
  },
  {
   "cell_type": "code",
   "execution_count": 88,
   "metadata": {
    "collapsed": false
   },
   "outputs": [],
   "source": [
    "Y_test_range = pd.cut(Y_test, [0,14,17,20,23,26,29,32,35,38,41,100], right=False)"
   ]
  },
  {
   "cell_type": "code",
   "execution_count": null,
   "metadata": {
    "collapsed": true
   },
   "outputs": [],
   "source": []
  },
  {
   "cell_type": "code",
   "execution_count": 226,
   "metadata": {
    "collapsed": false
   },
   "outputs": [],
   "source": [
    "from sklearn.decomposition import NMF, LatentDirichletAllocation, PCA\n",
    "vect = CountVectorizer(max_df=0.3,min_df=5,stop_words='english', analyzer='word')\n",
    "vect.fit(X_train)\n",
    "X_train_dtm = vect.transform(X_train)\n",
    "X_test_dtm = vect.transform(X_test)\n"
   ]
  },
  {
   "cell_type": "code",
   "execution_count": 228,
   "metadata": {
    "collapsed": false
   },
   "outputs": [
    {
     "name": "stderr",
     "output_type": "stream",
     "text": [
      "C:\\Users\\kenne\\Anaconda3\\lib\\site-packages\\sklearn\\utils\\__init__.py:54: FutureWarning: Conversion of the second argument of issubdtype from `int` to `np.signedinteger` is deprecated. In future, it will be treated as `np.int32 == np.dtype(int).type`.\n",
      "  if np.issubdtype(mask.dtype, np.int):\n"
     ]
    },
    {
     "data": {
      "text/plain": [
       "0.4698550660695771"
      ]
     },
     "execution_count": 228,
     "metadata": {},
     "output_type": "execute_result"
    }
   ],
   "source": [
    "#CV\n",
    "from sklearn.feature_selection import SelectKBest, chi2, mutual_info_classif\n",
    "chi2 = SelectKBest(chi2, k=5000)\n",
    "X_train_chi2_dtm = chi2.fit_transform(X_train_dtm, Y_train)\n",
    "X_test_chi2_dtm = chi2.transform(X_test_dtm)\n",
    "logreg = LogisticRegression()\n",
    "logreg.fit(X_train_dtm, Y_train)\n",
    "y_pred_class = logreg.predict(X_test_dtm)\n",
    "np.mean(y_pred == Y_test)"
   ]
  },
  {
   "cell_type": "code",
   "execution_count": 225,
   "metadata": {
    "collapsed": false
   },
   "outputs": [
    {
     "name": "stderr",
     "output_type": "stream",
     "text": [
      "C:\\Users\\kenne\\Anaconda3\\lib\\site-packages\\sklearn\\utils\\__init__.py:54: FutureWarning: Conversion of the second argument of issubdtype from `int` to `np.signedinteger` is deprecated. In future, it will be treated as `np.int32 == np.dtype(int).type`.\n",
      "  if np.issubdtype(mask.dtype, np.int):\n"
     ]
    },
    {
     "data": {
      "text/plain": [
       "0.4698550660695771"
      ]
     },
     "execution_count": 225,
     "metadata": {},
     "output_type": "execute_result"
    }
   ],
   "source": [
    "#CV\n",
    "from sklearn.feature_selection import SelectKBest, chi2, mutual_info_classif\n",
    "#chi2 = SelectKBest(chi2, k='all')\n",
    "X_train_chi2_dtm = chi2.fit_transform(X_train_dtm, Y_train)\n",
    "X_test_chi2_dtm = chi2.transform(X_test_dtm)\n",
    "logreg = LogisticRegression()\n",
    "logreg.fit(X_train_chi2_dtm, Y_train)\n",
    "y_pred_class = logreg.predict(X_test_chi2_dtm)\n",
    "np.mean(y_pred == Y_test)"
   ]
  },
  {
   "cell_type": "code",
   "execution_count": 229,
   "metadata": {
    "collapsed": false
   },
   "outputs": [
    {
     "name": "stderr",
     "output_type": "stream",
     "text": [
      "C:\\Users\\kenne\\Anaconda3\\lib\\site-packages\\sklearn\\utils\\__init__.py:54: FutureWarning: Conversion of the second argument of issubdtype from `int` to `np.signedinteger` is deprecated. In future, it will be treated as `np.int32 == np.dtype(int).type`.\n",
      "  if np.issubdtype(mask.dtype, np.int):\n"
     ]
    },
    {
     "name": "stdout",
     "output_type": "stream",
     "text": [
      "0.46471509562992214\n"
     ]
    }
   ],
   "source": [
    "#CV\n",
    "from sklearn.feature_selection import SelectKBest, chi2, mutual_info_classif\n",
    "chi2 = SelectKBest(chi2, k=5000)\n",
    "X_train_chi2_dtm = chi2.fit_transform(X_train_dtm, Y_train)\n",
    "X_test_chi2_dtm = chi2.transform(X_test_dtm)\n",
    "nb = MultinomialNB()\n",
    "nb.fit(X_train_chi2_dtm, Y_train)\n",
    "y_pred = nb.predict(X_test_chi2_dtm)\n",
    "print(np.mean(y_pred == Y_test))\n",
    "    \n",
    "\n",
    "    "
   ]
  },
  {
   "cell_type": "code",
   "execution_count": 230,
   "metadata": {
    "collapsed": false
   },
   "outputs": [],
   "source": [
    "from sklearn.decomposition import NMF, LatentDirichletAllocation, PCA\n",
    "vect = CountVectorizer(min_df=5,stop_words='english', analyzer='word')\n",
    "vect.fit(X_train)\n",
    "X_train_dtm = vect.transform(X_train)\n",
    "X_test_dtm = vect.transform(X_test)\n"
   ]
  },
  {
   "cell_type": "code",
   "execution_count": 232,
   "metadata": {
    "collapsed": false
   },
   "outputs": [
    {
     "name": "stderr",
     "output_type": "stream",
     "text": [
      "C:\\Users\\kenne\\Anaconda3\\lib\\site-packages\\sklearn\\utils\\__init__.py:54: FutureWarning: Conversion of the second argument of issubdtype from `int` to `np.signedinteger` is deprecated. In future, it will be treated as `np.int32 == np.dtype(int).type`.\n",
      "  if np.issubdtype(mask.dtype, np.int):\n"
     ]
    },
    {
     "name": "stdout",
     "output_type": "stream",
     "text": [
      "0.46385475723015157\n"
     ]
    }
   ],
   "source": [
    "#CV\n",
    "from sklearn.feature_selection import SelectKBest, chi2, mutual_info_classif\n",
    "chi2 = SelectKBest(chi2, k=5000)\n",
    "X_train_chi2_dtm = chi2.fit_transform(X_train_dtm, Y_train)\n",
    "X_test_chi2_dtm = chi2.transform(X_test_dtm)\n",
    "nb = MultinomialNB()\n",
    "nb.fit(X_train_chi2_dtm, Y_train)\n",
    "y_pred = nb.predict(X_test_chi2_dtm)\n",
    "print(np.mean(y_pred == Y_test))\n",
    "    \n",
    "\n",
    "    "
   ]
  },
  {
   "cell_type": "code",
   "execution_count": 237,
   "metadata": {
    "collapsed": false
   },
   "outputs": [
    {
     "data": {
      "text/plain": [
       "0.4698550660695771"
      ]
     },
     "execution_count": 237,
     "metadata": {},
     "output_type": "execute_result"
    }
   ],
   "source": [
    "logreg = LogisticRegression()\n",
    "logreg.fit(X_train_chi2_dtm, Y_train)\n",
    "y_pred_class = logreg.predict(X_test_chi2_dtm)\n",
    "np.mean(y_pred == Y_test)\n",
    "    \n",
    "\n",
    "    "
   ]
  },
  {
   "cell_type": "code",
   "execution_count": 238,
   "metadata": {
    "collapsed": false
   },
   "outputs": [
    {
     "data": {
      "text/plain": [
       "0.5126513864684211"
      ]
     },
     "execution_count": 238,
     "metadata": {},
     "output_type": "execute_result"
    }
   ],
   "source": [
    "clf = svm.LinearSVC(loss='hinge', class_weight = {1:2.27, 2:10.6, 3:0.7, 4:0.48}, C=0.4)\n",
    "clf.fit(X_train_chi2_dtm, Y_train)\n",
    "y_pred = clf.predict(X_test_chi2_dtm)\n",
    "np.mean(y_pred == Y_test)"
   ]
  },
  {
   "cell_type": "code",
   "execution_count": 236,
   "metadata": {
    "collapsed": false
   },
   "outputs": [
    {
     "name": "stdout",
     "output_type": "stream",
     "text": [
      "0.4698550660695771\n",
      "Wall time: 1.05 ms\n"
     ]
    }
   ],
   "source": [
    "\n",
    "nb = MultinomialNB()\n",
    "nb.fit(X_train_dtm, Y_train)\n",
    "y_pred = nb.predict(X_test_dtm)\n",
    "print(np.mean(y_pred == Y_test))\n",
    "    \n",
    "%time\n",
    "    "
   ]
  },
  {
   "cell_type": "code",
   "execution_count": 241,
   "metadata": {
    "collapsed": false
   },
   "outputs": [
    {
     "name": "stdout",
     "output_type": "stream",
     "text": [
      "0.5088129536079062\n",
      "Wall time: 0 ns\n"
     ]
    }
   ],
   "source": [
    "logreg = LogisticRegression()\n",
    "logreg.fit(X_train_dtm, Y_train)\n",
    "y_pred_class = logreg.predict(X_test_dtm)\n",
    "print(np.mean(y_pred == Y_test))\n",
    "%time"
   ]
  },
  {
   "cell_type": "code",
   "execution_count": 243,
   "metadata": {
    "collapsed": false
   },
   "outputs": [
    {
     "data": {
      "text/plain": [
       "0.5088350135668748"
      ]
     },
     "execution_count": 243,
     "metadata": {},
     "output_type": "execute_result"
    }
   ],
   "source": [
    "clf = svm.LinearSVC(loss='hinge', class_weight = {1:2.27, 2:10.6, 3:0.7, 4:0.48}, C=0.4)\n",
    "clf.fit(X_train_dtm, Y_train)\n",
    "y_pred = clf.predict(X_test_dtm)\n",
    "np.mean(y_pred == Y_test)\n"
   ]
  },
  {
   "cell_type": "code",
   "execution_count": null,
   "metadata": {
    "collapsed": true
   },
   "outputs": [],
   "source": []
  },
  {
   "cell_type": "code",
   "execution_count": 209,
   "metadata": {
    "collapsed": false
   },
   "outputs": [
    {
     "name": "stderr",
     "output_type": "stream",
     "text": [
      "C:\\Users\\kenne\\Anaconda3\\lib\\site-packages\\sklearn\\utils\\__init__.py:54: FutureWarning: Conversion of the second argument of issubdtype from `int` to `np.signedinteger` is deprecated. In future, it will be treated as `np.int32 == np.dtype(int).type`.\n",
      "  if np.issubdtype(mask.dtype, np.int):\n"
     ]
    },
    {
     "name": "stdout",
     "output_type": "stream",
     "text": [
      "0.5108424698330061\n"
     ]
    }
   ],
   "source": [
    "#CV\n",
    "from sklearn.feature_selection import SelectKBest, chi2, mutual_info_classif\n",
    "chi2 = SelectKBest(chi2, k=15000)\n",
    "X_train_chi2_dtm = chi2.fit_transform(X_train_dtm, Y_train)\n",
    "X_test_chi2_dtm = chi2.transform(X_test_dtm)\n",
    "nb = MultinomialNB()\n",
    "nb.fit(X_train_chi2_dtm, Y_train)\n",
    "y_pred = nb.predict(X_test_chi2_dtm)\n",
    "print(np.mean(y_pred == Y_test))\n",
    "    \n",
    "\n",
    "    "
   ]
  },
  {
   "cell_type": "code",
   "execution_count": 211,
   "metadata": {
    "collapsed": false
   },
   "outputs": [
    {
     "name": "stderr",
     "output_type": "stream",
     "text": [
      "C:\\Users\\kenne\\Anaconda3\\lib\\site-packages\\sklearn\\utils\\__init__.py:54: FutureWarning: Conversion of the second argument of issubdtype from `int` to `np.signedinteger` is deprecated. In future, it will be treated as `np.int32 == np.dtype(int).type`.\n",
      "  if np.issubdtype(mask.dtype, np.int):\n"
     ]
    },
    {
     "name": "stdout",
     "output_type": "stream",
     "text": [
      "0.5166662990006838\n"
     ]
    }
   ],
   "source": [
    "#CV\n",
    "from sklearn.feature_selection import SelectKBest, chi2, mutual_info_classif\n",
    "chi2 = SelectKBest(chi2, k=80000)\n",
    "X_train_chi2_dtm = chi2.fit_transform(X_train_dtm, Y_train)\n",
    "X_test_chi2_dtm = chi2.transform(X_test_dtm)\n",
    "nb = MultinomialNB()\n",
    "nb.fit(X_train_chi2_dtm, Y_train)\n",
    "y_pred = nb.predict(X_test_chi2_dtm)\n",
    "print(np.mean(y_pred == Y_test))"
   ]
  },
  {
   "cell_type": "code",
   "execution_count": 213,
   "metadata": {
    "collapsed": false
   },
   "outputs": [
    {
     "name": "stderr",
     "output_type": "stream",
     "text": [
      "C:\\Users\\kenne\\Anaconda3\\lib\\site-packages\\sklearn\\utils\\__init__.py:54: FutureWarning: Conversion of the second argument of issubdtype from `int` to `np.signedinteger` is deprecated. In future, it will be treated as `np.int32 == np.dtype(int).type`.\n",
      "  if np.issubdtype(mask.dtype, np.int):\n"
     ]
    },
    {
     "name": "stdout",
     "output_type": "stream",
     "text": [
      "0.5167765987955263\n"
     ]
    }
   ],
   "source": [
    "#CV\n",
    "from sklearn.feature_selection import SelectKBest, chi2, mutual_info_classif\n",
    "chi2 = SelectKBest(chi2, k='all')\n",
    "X_train_chi2_dtm = chi2.fit_transform(X_train_dtm, Y_train)\n",
    "X_test_chi2_dtm = chi2.transform(X_test_dtm)\n",
    "nb = MultinomialNB()\n",
    "nb.fit(X_train_chi2_dtm, Y_train)\n",
    "y_pred = nb.predict(X_test_chi2_dtm)\n",
    "print(np.mean(y_pred == Y_test))"
   ]
  },
  {
   "cell_type": "code",
   "execution_count": 215,
   "metadata": {
    "collapsed": false
   },
   "outputs": [
    {
     "name": "stderr",
     "output_type": "stream",
     "text": [
      "C:\\Users\\kenne\\Anaconda3\\lib\\site-packages\\sklearn\\metrics\\cluster\\supervised.py:608: RuntimeWarning: invalid value encountered in log\n",
      "  log_outer = -np.log(outer) + log(pi.sum()) + log(pj.sum())\n"
     ]
    },
    {
     "ename": "KeyboardInterrupt",
     "evalue": "",
     "output_type": "error",
     "traceback": [
      "\u001b[0;31m---------------------------------------------------------------------------\u001b[0m",
      "\u001b[0;31mKeyboardInterrupt\u001b[0m                         Traceback (most recent call last)",
      "\u001b[0;32m<ipython-input-215-c9cc8eb0b0ea>\u001b[0m in \u001b[0;36m<module>\u001b[0;34m()\u001b[0m\n\u001b[1;32m      2\u001b[0m \u001b[1;32mfrom\u001b[0m \u001b[0msklearn\u001b[0m\u001b[1;33m.\u001b[0m\u001b[0mfeature_selection\u001b[0m \u001b[1;32mimport\u001b[0m \u001b[0mSelectKBest\u001b[0m\u001b[1;33m,\u001b[0m \u001b[0mchi2\u001b[0m\u001b[1;33m,\u001b[0m \u001b[0mmutual_info_classif\u001b[0m\u001b[1;33m\u001b[0m\u001b[0m\n\u001b[1;32m      3\u001b[0m \u001b[0mchi2\u001b[0m \u001b[1;33m=\u001b[0m \u001b[0mSelectKBest\u001b[0m\u001b[1;33m(\u001b[0m\u001b[0mmutual_info_classif\u001b[0m\u001b[1;33m,\u001b[0m \u001b[0mk\u001b[0m\u001b[1;33m=\u001b[0m\u001b[1;36m1000\u001b[0m\u001b[1;33m)\u001b[0m\u001b[1;33m\u001b[0m\u001b[0m\n\u001b[0;32m----> 4\u001b[0;31m \u001b[0mX_train_chi2_dtm\u001b[0m \u001b[1;33m=\u001b[0m \u001b[0mchi2\u001b[0m\u001b[1;33m.\u001b[0m\u001b[0mfit_transform\u001b[0m\u001b[1;33m(\u001b[0m\u001b[0mX_train_dtm\u001b[0m\u001b[1;33m,\u001b[0m \u001b[0mY_train\u001b[0m\u001b[1;33m)\u001b[0m\u001b[1;33m\u001b[0m\u001b[0m\n\u001b[0m\u001b[1;32m      5\u001b[0m \u001b[0mX_test_chi2_dtm\u001b[0m \u001b[1;33m=\u001b[0m \u001b[0mchi2\u001b[0m\u001b[1;33m.\u001b[0m\u001b[0mtransform\u001b[0m\u001b[1;33m(\u001b[0m\u001b[0mX_test_dtm\u001b[0m\u001b[1;33m)\u001b[0m\u001b[1;33m\u001b[0m\u001b[0m\n\u001b[1;32m      6\u001b[0m \u001b[0mnb\u001b[0m \u001b[1;33m=\u001b[0m \u001b[0mMultinomialNB\u001b[0m\u001b[1;33m(\u001b[0m\u001b[1;33m)\u001b[0m\u001b[1;33m\u001b[0m\u001b[0m\n",
      "\u001b[0;32mC:\\Users\\kenne\\Anaconda3\\lib\\site-packages\\sklearn\\base.py\u001b[0m in \u001b[0;36mfit_transform\u001b[0;34m(self, X, y, **fit_params)\u001b[0m\n\u001b[1;32m    495\u001b[0m         \u001b[1;32melse\u001b[0m\u001b[1;33m:\u001b[0m\u001b[1;33m\u001b[0m\u001b[0m\n\u001b[1;32m    496\u001b[0m             \u001b[1;31m# fit method of arity 2 (supervised transformation)\u001b[0m\u001b[1;33m\u001b[0m\u001b[1;33m\u001b[0m\u001b[0m\n\u001b[0;32m--> 497\u001b[0;31m             \u001b[1;32mreturn\u001b[0m \u001b[0mself\u001b[0m\u001b[1;33m.\u001b[0m\u001b[0mfit\u001b[0m\u001b[1;33m(\u001b[0m\u001b[0mX\u001b[0m\u001b[1;33m,\u001b[0m \u001b[0my\u001b[0m\u001b[1;33m,\u001b[0m \u001b[1;33m**\u001b[0m\u001b[0mfit_params\u001b[0m\u001b[1;33m)\u001b[0m\u001b[1;33m.\u001b[0m\u001b[0mtransform\u001b[0m\u001b[1;33m(\u001b[0m\u001b[0mX\u001b[0m\u001b[1;33m)\u001b[0m\u001b[1;33m\u001b[0m\u001b[0m\n\u001b[0m\u001b[1;32m    498\u001b[0m \u001b[1;33m\u001b[0m\u001b[0m\n\u001b[1;32m    499\u001b[0m \u001b[1;33m\u001b[0m\u001b[0m\n",
      "\u001b[0;32mC:\\Users\\kenne\\Anaconda3\\lib\\site-packages\\sklearn\\feature_selection\\univariate_selection.py\u001b[0m in \u001b[0;36mfit\u001b[0;34m(self, X, y)\u001b[0m\n\u001b[1;32m    328\u001b[0m \u001b[1;33m\u001b[0m\u001b[0m\n\u001b[1;32m    329\u001b[0m         \u001b[0mself\u001b[0m\u001b[1;33m.\u001b[0m\u001b[0m_check_params\u001b[0m\u001b[1;33m(\u001b[0m\u001b[0mX\u001b[0m\u001b[1;33m,\u001b[0m \u001b[0my\u001b[0m\u001b[1;33m)\u001b[0m\u001b[1;33m\u001b[0m\u001b[0m\n\u001b[0;32m--> 330\u001b[0;31m         \u001b[0mscore_func_ret\u001b[0m \u001b[1;33m=\u001b[0m \u001b[0mself\u001b[0m\u001b[1;33m.\u001b[0m\u001b[0mscore_func\u001b[0m\u001b[1;33m(\u001b[0m\u001b[0mX\u001b[0m\u001b[1;33m,\u001b[0m \u001b[0my\u001b[0m\u001b[1;33m)\u001b[0m\u001b[1;33m\u001b[0m\u001b[0m\n\u001b[0m\u001b[1;32m    331\u001b[0m         \u001b[1;32mif\u001b[0m \u001b[0misinstance\u001b[0m\u001b[1;33m(\u001b[0m\u001b[0mscore_func_ret\u001b[0m\u001b[1;33m,\u001b[0m \u001b[1;33m(\u001b[0m\u001b[0mlist\u001b[0m\u001b[1;33m,\u001b[0m \u001b[0mtuple\u001b[0m\u001b[1;33m)\u001b[0m\u001b[1;33m)\u001b[0m\u001b[1;33m:\u001b[0m\u001b[1;33m\u001b[0m\u001b[0m\n\u001b[1;32m    332\u001b[0m             \u001b[0mself\u001b[0m\u001b[1;33m.\u001b[0m\u001b[0mscores_\u001b[0m\u001b[1;33m,\u001b[0m \u001b[0mself\u001b[0m\u001b[1;33m.\u001b[0m\u001b[0mpvalues_\u001b[0m \u001b[1;33m=\u001b[0m \u001b[0mscore_func_ret\u001b[0m\u001b[1;33m\u001b[0m\u001b[0m\n",
      "\u001b[0;32mC:\\Users\\kenne\\Anaconda3\\lib\\site-packages\\sklearn\\feature_selection\\mutual_info_.py\u001b[0m in \u001b[0;36mmutual_info_classif\u001b[0;34m(X, y, discrete_features, n_neighbors, copy, random_state)\u001b[0m\n\u001b[1;32m    436\u001b[0m     \u001b[0mcheck_classification_targets\u001b[0m\u001b[1;33m(\u001b[0m\u001b[0my\u001b[0m\u001b[1;33m)\u001b[0m\u001b[1;33m\u001b[0m\u001b[0m\n\u001b[1;32m    437\u001b[0m     return _estimate_mi(X, y, discrete_features, True, n_neighbors,\n\u001b[0;32m--> 438\u001b[0;31m                         copy, random_state)\n\u001b[0m",
      "\u001b[0;32mC:\\Users\\kenne\\Anaconda3\\lib\\site-packages\\sklearn\\feature_selection\\mutual_info_.py\u001b[0m in \u001b[0;36m_estimate_mi\u001b[0;34m(X, y, discrete_features, discrete_target, n_neighbors, copy, random_state)\u001b[0m\n\u001b[1;32m    283\u001b[0m \u001b[1;33m\u001b[0m\u001b[0m\n\u001b[1;32m    284\u001b[0m     mi = [_compute_mi(x, y, discrete_feature, discrete_target) for\n\u001b[0;32m--> 285\u001b[0;31m           x, discrete_feature in moves.zip(_iterate_columns(X), discrete_mask)]\n\u001b[0m\u001b[1;32m    286\u001b[0m \u001b[1;33m\u001b[0m\u001b[0m\n\u001b[1;32m    287\u001b[0m     \u001b[1;32mreturn\u001b[0m \u001b[0mnp\u001b[0m\u001b[1;33m.\u001b[0m\u001b[0marray\u001b[0m\u001b[1;33m(\u001b[0m\u001b[0mmi\u001b[0m\u001b[1;33m)\u001b[0m\u001b[1;33m\u001b[0m\u001b[0m\n",
      "\u001b[0;32mC:\\Users\\kenne\\Anaconda3\\lib\\site-packages\\sklearn\\feature_selection\\mutual_info_.py\u001b[0m in \u001b[0;36m<listcomp>\u001b[0;34m(.0)\u001b[0m\n\u001b[1;32m    283\u001b[0m \u001b[1;33m\u001b[0m\u001b[0m\n\u001b[1;32m    284\u001b[0m     mi = [_compute_mi(x, y, discrete_feature, discrete_target) for\n\u001b[0;32m--> 285\u001b[0;31m           x, discrete_feature in moves.zip(_iterate_columns(X), discrete_mask)]\n\u001b[0m\u001b[1;32m    286\u001b[0m \u001b[1;33m\u001b[0m\u001b[0m\n\u001b[1;32m    287\u001b[0m     \u001b[1;32mreturn\u001b[0m \u001b[0mnp\u001b[0m\u001b[1;33m.\u001b[0m\u001b[0marray\u001b[0m\u001b[1;33m(\u001b[0m\u001b[0mmi\u001b[0m\u001b[1;33m)\u001b[0m\u001b[1;33m\u001b[0m\u001b[0m\n",
      "\u001b[0;32mC:\\Users\\kenne\\Anaconda3\\lib\\site-packages\\sklearn\\feature_selection\\mutual_info_.py\u001b[0m in \u001b[0;36m_compute_mi\u001b[0;34m(x, y, x_discrete, y_discrete, n_neighbors)\u001b[0m\n\u001b[1;32m    155\u001b[0m     \"\"\"\n\u001b[1;32m    156\u001b[0m     \u001b[1;32mif\u001b[0m \u001b[0mx_discrete\u001b[0m \u001b[1;32mand\u001b[0m \u001b[0my_discrete\u001b[0m\u001b[1;33m:\u001b[0m\u001b[1;33m\u001b[0m\u001b[0m\n\u001b[0;32m--> 157\u001b[0;31m         \u001b[1;32mreturn\u001b[0m \u001b[0mmutual_info_score\u001b[0m\u001b[1;33m(\u001b[0m\u001b[0mx\u001b[0m\u001b[1;33m,\u001b[0m \u001b[0my\u001b[0m\u001b[1;33m)\u001b[0m\u001b[1;33m\u001b[0m\u001b[0m\n\u001b[0m\u001b[1;32m    158\u001b[0m     \u001b[1;32melif\u001b[0m \u001b[0mx_discrete\u001b[0m \u001b[1;32mand\u001b[0m \u001b[1;32mnot\u001b[0m \u001b[0my_discrete\u001b[0m\u001b[1;33m:\u001b[0m\u001b[1;33m\u001b[0m\u001b[0m\n\u001b[1;32m    159\u001b[0m         \u001b[1;32mreturn\u001b[0m \u001b[0m_compute_mi_cd\u001b[0m\u001b[1;33m(\u001b[0m\u001b[0my\u001b[0m\u001b[1;33m,\u001b[0m \u001b[0mx\u001b[0m\u001b[1;33m,\u001b[0m \u001b[0mn_neighbors\u001b[0m\u001b[1;33m)\u001b[0m\u001b[1;33m\u001b[0m\u001b[0m\n",
      "\u001b[0;32mC:\\Users\\kenne\\Anaconda3\\lib\\site-packages\\sklearn\\metrics\\cluster\\supervised.py\u001b[0m in \u001b[0;36mmutual_info_score\u001b[0;34m(labels_true, labels_pred, contingency)\u001b[0m\n\u001b[1;32m    582\u001b[0m     \u001b[1;32mif\u001b[0m \u001b[0mcontingency\u001b[0m \u001b[1;32mis\u001b[0m \u001b[1;32mNone\u001b[0m\u001b[1;33m:\u001b[0m\u001b[1;33m\u001b[0m\u001b[0m\n\u001b[1;32m    583\u001b[0m         \u001b[0mlabels_true\u001b[0m\u001b[1;33m,\u001b[0m \u001b[0mlabels_pred\u001b[0m \u001b[1;33m=\u001b[0m \u001b[0mcheck_clusterings\u001b[0m\u001b[1;33m(\u001b[0m\u001b[0mlabels_true\u001b[0m\u001b[1;33m,\u001b[0m \u001b[0mlabels_pred\u001b[0m\u001b[1;33m)\u001b[0m\u001b[1;33m\u001b[0m\u001b[0m\n\u001b[0;32m--> 584\u001b[0;31m         \u001b[0mcontingency\u001b[0m \u001b[1;33m=\u001b[0m \u001b[0mcontingency_matrix\u001b[0m\u001b[1;33m(\u001b[0m\u001b[0mlabels_true\u001b[0m\u001b[1;33m,\u001b[0m \u001b[0mlabels_pred\u001b[0m\u001b[1;33m,\u001b[0m \u001b[0msparse\u001b[0m\u001b[1;33m=\u001b[0m\u001b[1;32mTrue\u001b[0m\u001b[1;33m)\u001b[0m\u001b[1;33m\u001b[0m\u001b[0m\n\u001b[0m\u001b[1;32m    585\u001b[0m     \u001b[1;32melse\u001b[0m\u001b[1;33m:\u001b[0m\u001b[1;33m\u001b[0m\u001b[0m\n\u001b[1;32m    586\u001b[0m         contingency = check_array(contingency,\n",
      "\u001b[0;32mC:\\Users\\kenne\\Anaconda3\\lib\\site-packages\\sklearn\\metrics\\cluster\\supervised.py\u001b[0m in \u001b[0;36mcontingency_matrix\u001b[0;34m(labels_true, labels_pred, eps, sparse)\u001b[0m\n\u001b[1;32m     99\u001b[0m                                 dtype=np.int)\n\u001b[1;32m    100\u001b[0m     \u001b[1;32mif\u001b[0m \u001b[0msparse\u001b[0m\u001b[1;33m:\u001b[0m\u001b[1;33m\u001b[0m\u001b[0m\n\u001b[0;32m--> 101\u001b[0;31m         \u001b[0mcontingency\u001b[0m \u001b[1;33m=\u001b[0m \u001b[0mcontingency\u001b[0m\u001b[1;33m.\u001b[0m\u001b[0mtocsr\u001b[0m\u001b[1;33m(\u001b[0m\u001b[1;33m)\u001b[0m\u001b[1;33m\u001b[0m\u001b[0m\n\u001b[0m\u001b[1;32m    102\u001b[0m         \u001b[0mcontingency\u001b[0m\u001b[1;33m.\u001b[0m\u001b[0msum_duplicates\u001b[0m\u001b[1;33m(\u001b[0m\u001b[1;33m)\u001b[0m\u001b[1;33m\u001b[0m\u001b[0m\n\u001b[1;32m    103\u001b[0m     \u001b[1;32melse\u001b[0m\u001b[1;33m:\u001b[0m\u001b[1;33m\u001b[0m\u001b[0m\n",
      "\u001b[0;32mC:\\Users\\kenne\\Anaconda3\\lib\\site-packages\\scipy\\sparse\\coo.py\u001b[0m in \u001b[0;36mtocsr\u001b[0;34m(self, copy)\u001b[0m\n\u001b[1;32m    324\u001b[0m         \u001b[1;32melse\u001b[0m\u001b[1;33m:\u001b[0m\u001b[1;33m\u001b[0m\u001b[0m\n\u001b[1;32m    325\u001b[0m             \u001b[0mM\u001b[0m\u001b[1;33m,\u001b[0m\u001b[0mN\u001b[0m \u001b[1;33m=\u001b[0m \u001b[0mself\u001b[0m\u001b[1;33m.\u001b[0m\u001b[0mshape\u001b[0m\u001b[1;33m\u001b[0m\u001b[0m\n\u001b[0;32m--> 326\u001b[0;31m             \u001b[0mself\u001b[0m\u001b[1;33m.\u001b[0m\u001b[0msum_duplicates\u001b[0m\u001b[1;33m(\u001b[0m\u001b[1;33m)\u001b[0m\u001b[1;33m\u001b[0m\u001b[0m\n\u001b[0m\u001b[1;32m    327\u001b[0m             idx_dtype = get_index_dtype((self.row, self.col),\n\u001b[1;32m    328\u001b[0m                                         maxval=max(self.nnz, N))\n",
      "\u001b[0;32mC:\\Users\\kenne\\Anaconda3\\lib\\site-packages\\scipy\\sparse\\coo.py\u001b[0m in \u001b[0;36msum_duplicates\u001b[0;34m(self)\u001b[0m\n\u001b[1;32m    454\u001b[0m         \u001b[1;32mif\u001b[0m \u001b[0mself\u001b[0m\u001b[1;33m.\u001b[0m\u001b[0mhas_canonical_format\u001b[0m\u001b[1;33m:\u001b[0m\u001b[1;33m\u001b[0m\u001b[0m\n\u001b[1;32m    455\u001b[0m             \u001b[1;32mreturn\u001b[0m\u001b[1;33m\u001b[0m\u001b[0m\n\u001b[0;32m--> 456\u001b[0;31m         \u001b[0msummed\u001b[0m \u001b[1;33m=\u001b[0m \u001b[0mself\u001b[0m\u001b[1;33m.\u001b[0m\u001b[0m_sum_duplicates\u001b[0m\u001b[1;33m(\u001b[0m\u001b[0mself\u001b[0m\u001b[1;33m.\u001b[0m\u001b[0mrow\u001b[0m\u001b[1;33m,\u001b[0m \u001b[0mself\u001b[0m\u001b[1;33m.\u001b[0m\u001b[0mcol\u001b[0m\u001b[1;33m,\u001b[0m \u001b[0mself\u001b[0m\u001b[1;33m.\u001b[0m\u001b[0mdata\u001b[0m\u001b[1;33m)\u001b[0m\u001b[1;33m\u001b[0m\u001b[0m\n\u001b[0m\u001b[1;32m    457\u001b[0m         \u001b[0mself\u001b[0m\u001b[1;33m.\u001b[0m\u001b[0mrow\u001b[0m\u001b[1;33m,\u001b[0m \u001b[0mself\u001b[0m\u001b[1;33m.\u001b[0m\u001b[0mcol\u001b[0m\u001b[1;33m,\u001b[0m \u001b[0mself\u001b[0m\u001b[1;33m.\u001b[0m\u001b[0mdata\u001b[0m \u001b[1;33m=\u001b[0m \u001b[0msummed\u001b[0m\u001b[1;33m\u001b[0m\u001b[0m\n\u001b[1;32m    458\u001b[0m         \u001b[0mself\u001b[0m\u001b[1;33m.\u001b[0m\u001b[0mhas_canonical_format\u001b[0m \u001b[1;33m=\u001b[0m \u001b[1;32mTrue\u001b[0m\u001b[1;33m\u001b[0m\u001b[0m\n",
      "\u001b[0;32mC:\\Users\\kenne\\Anaconda3\\lib\\site-packages\\scipy\\sparse\\coo.py\u001b[0m in \u001b[0;36m_sum_duplicates\u001b[0;34m(self, row, col, data)\u001b[0m\n\u001b[1;32m    470\u001b[0m         \u001b[0munique_mask\u001b[0m \u001b[1;33m=\u001b[0m \u001b[0mnp\u001b[0m\u001b[1;33m.\u001b[0m\u001b[0mappend\u001b[0m\u001b[1;33m(\u001b[0m\u001b[1;32mTrue\u001b[0m\u001b[1;33m,\u001b[0m \u001b[0munique_mask\u001b[0m\u001b[1;33m)\u001b[0m\u001b[1;33m\u001b[0m\u001b[0m\n\u001b[1;32m    471\u001b[0m         \u001b[0mrow\u001b[0m \u001b[1;33m=\u001b[0m \u001b[0mrow\u001b[0m\u001b[1;33m[\u001b[0m\u001b[0munique_mask\u001b[0m\u001b[1;33m]\u001b[0m\u001b[1;33m\u001b[0m\u001b[0m\n\u001b[0;32m--> 472\u001b[0;31m         \u001b[0mcol\u001b[0m \u001b[1;33m=\u001b[0m \u001b[0mcol\u001b[0m\u001b[1;33m[\u001b[0m\u001b[0munique_mask\u001b[0m\u001b[1;33m]\u001b[0m\u001b[1;33m\u001b[0m\u001b[0m\n\u001b[0m\u001b[1;32m    473\u001b[0m         \u001b[0munique_inds\u001b[0m\u001b[1;33m,\u001b[0m \u001b[1;33m=\u001b[0m \u001b[0mnp\u001b[0m\u001b[1;33m.\u001b[0m\u001b[0mnonzero\u001b[0m\u001b[1;33m(\u001b[0m\u001b[0munique_mask\u001b[0m\u001b[1;33m)\u001b[0m\u001b[1;33m\u001b[0m\u001b[0m\n\u001b[1;32m    474\u001b[0m         \u001b[0mdata\u001b[0m \u001b[1;33m=\u001b[0m \u001b[0mnp\u001b[0m\u001b[1;33m.\u001b[0m\u001b[0madd\u001b[0m\u001b[1;33m.\u001b[0m\u001b[0mreduceat\u001b[0m\u001b[1;33m(\u001b[0m\u001b[0mdata\u001b[0m\u001b[1;33m,\u001b[0m \u001b[0munique_inds\u001b[0m\u001b[1;33m,\u001b[0m \u001b[0mdtype\u001b[0m\u001b[1;33m=\u001b[0m\u001b[0mself\u001b[0m\u001b[1;33m.\u001b[0m\u001b[0mdtype\u001b[0m\u001b[1;33m)\u001b[0m\u001b[1;33m\u001b[0m\u001b[0m\n",
      "\u001b[0;31mKeyboardInterrupt\u001b[0m: "
     ]
    }
   ],
   "source": [
    "#CV\n",
    "from sklearn.feature_selection import SelectKBest, chi2, mutual_info_classif\n",
    "chi2 = SelectKBest(mutual_info_classif, k=1000)\n",
    "X_train_chi2_dtm = chi2.fit_transform(X_train_dtm, Y_train)\n",
    "X_test_chi2_dtm = chi2.transform(X_test_dtm)\n",
    "nb = MultinomialNB()\n",
    "nb.fit(X_train_chi2_dtm, Y_train)\n",
    "y_pred = nb.predict(X_test_chi2_dtm)\n",
    "print(np.mean(y_pred == Y_test))"
   ]
  },
  {
   "cell_type": "code",
   "execution_count": 117,
   "metadata": {
    "collapsed": false
   },
   "outputs": [
    {
     "name": "stderr",
     "output_type": "stream",
     "text": [
      "C:\\Users\\kenne\\Anaconda3\\lib\\site-packages\\sklearn\\feature_extraction\\text.py:1059: FutureWarning: Conversion of the second argument of issubdtype from `float` to `np.floating` is deprecated. In future, it will be treated as `np.float64 == np.dtype(float).type`.\n",
      "  if hasattr(X, 'dtype') and np.issubdtype(X.dtype, np.float):\n"
     ]
    }
   ],
   "source": [
    "vect = TfidfVectorizer(min_df=5, max_df=0.3, stop_words='english', analyzer='word', token_pattern=u'(?ui)\\\\b\\\\w*[a-z]+\\\\w*\\\\b')\n",
    "vect.fit(X_train)\n",
    "X_train_dtm = vect.transform(X_train)\n",
    "X_test_dtm = vect.transform(X_test)"
   ]
  },
  {
   "cell_type": "code",
   "execution_count": 118,
   "metadata": {
    "collapsed": false
   },
   "outputs": [
    {
     "name": "stdout",
     "output_type": "stream",
     "text": [
      "0.5158280205598818\n"
     ]
    }
   ],
   "source": [
    "nb = MultinomialNB()\n",
    "nb.fit(X_train_dtm, Y_train)\n",
    "y_pred = nb.predict(X_test_dtm)\n",
    "print(np.mean(y_pred == Y_test))"
   ]
  },
  {
   "cell_type": "code",
   "execution_count": 119,
   "metadata": {
    "collapsed": false
   },
   "outputs": [
    {
     "name": "stdout",
     "output_type": "stream",
     "text": [
      "             precision    recall  f1-score   support\n",
      "\n",
      "      14-16       0.63      0.60      0.62     13100\n",
      "      24-26       0.47      0.89      0.62     17297\n",
      "      34-36       0.07      0.00      0.01      2584\n",
      "      44-46       0.00      0.00      0.00       551\n",
      "          ?       0.00      0.00      0.00     11799\n",
      "\n",
      "avg / total       0.37      0.52      0.41     45331\n",
      "\n"
     ]
    },
    {
     "name": "stderr",
     "output_type": "stream",
     "text": [
      "C:\\Users\\kenne\\Anaconda3\\lib\\site-packages\\sklearn\\metrics\\classification.py:1113: UndefinedMetricWarning: Precision and F-score are ill-defined and being set to 0.0 in labels with no predicted samples.\n",
      "  'precision', 'predicted', average, warn_for)\n"
     ]
    }
   ],
   "source": [
    "from sklearn.metrics import classification_report\n",
    "print(classification_report(Y_test,y_pred))"
   ]
  },
  {
   "cell_type": "code",
   "execution_count": 126,
   "metadata": {
    "collapsed": false
   },
   "outputs": [
    {
     "name": "stdout",
     "output_type": "stream",
     "text": [
      "[[ 7925  5165     8     2     0]\n",
      " [ 1800 15451    42     4     0]\n",
      " [   56  2520     7     1     0]\n",
      " [   17   531     3     0     0]\n",
      " [ 2765  8985    46     3     0]]\n"
     ]
    }
   ],
   "source": [
    "print(confusion_matrix(Y_test,y_pred))"
   ]
  },
  {
   "cell_type": "code",
   "execution_count": 54,
   "metadata": {
    "collapsed": false
   },
   "outputs": [
    {
     "name": "stdout",
     "output_type": "stream",
     "text": [
      "0.5160927400675035\n"
     ]
    }
   ],
   "source": [
    "logreg = LogisticRegression()\n",
    "logreg.fit(X_train_dtm, Y_train)\n",
    "y_pred_class = logreg.predict(X_test_dtm)\n",
    "print(np.mean(y_pred == Y_test))"
   ]
  },
  {
   "cell_type": "code",
   "execution_count": 252,
   "metadata": {
    "collapsed": false
   },
   "outputs": [
    {
     "data": {
      "text/plain": [
       "{'days': 121339,\n",
       " 'suppose': 546391,\n",
       " 'compared': 96980,\n",
       " 'companies': 96632,\n",
       " 'pretty': 435565,\n",
       " 'snappy': 518076,\n",
       " 'service': 499880,\n",
       " 'dsl': 145378,\n",
       " 'days suppose': 122142,\n",
       " 'companies s': 96667,\n",
       " 's pretty': 479093,\n",
       " 'service s': 500048,\n",
       " 's days': 475550,\n",
       " 'crap': 108137,\n",
       " 'ordered': 400688,\n",
       " 'new': 381868,\n",
       " 'citizen': 85932,\n",
       " 'kane': 282060,\n",
       " 'dvd': 146662,\n",
       " 'urllink': 605010,\n",
       " 'place': 421498,\n",
       " 'day': 118995,\n",
       " 'today': 582010,\n",
       " 'bucks': 62394,\n",
       " 'cheaper': 80415,\n",
       " 'ordered new': 400721,\n",
       " 'citizen kane': 85935,\n",
       " 'dvd urllink': 146757,\n",
       " 'urllink place': 608021,\n",
       " 'place day': 421677,\n",
       " 'day today': 121041,\n",
       " 'today bucks': 582243,\n",
       " 'bucks cheaper': 62400,\n",
       " 'cheaper urllink': 80428,\n",
       " 'cbc': 76001,\n",
       " '50th': 1619,\n",
       " 'anniversary': 17026,\n",
       " 'specials': 525779,\n",
       " 'wish': 641756,\n",
       " 'd': 113655,\n",
       " 'start': 530051,\n",
       " 'cable': 66894,\n",
       " 'channel': 79284,\n",
       " 'stuff': 540307,\n",
       " '50s': 1616,\n",
       " '60s': 1767,\n",
       " '70s': 1860,\n",
       " '80s': 1964,\n",
       " 'cbc s': 76006,\n",
       " 's urllink': 481131,\n",
       " '50th anniversary': 1620,\n",
       " 'wish d': 641840,\n",
       " 'd start': 114617,\n",
       " 'cable channel': 66902,\n",
       " '50s 60s': 1617,\n",
       " '60s 70s': 1768,\n",
       " '70s 80s': 1861,\n",
       " 'case': 73737,\n",
       " 'sitting': 512521,\n",
       " 'edge': 150399,\n",
       " 'site': 511899,\n",
       " 'rest': 463435,\n",
       " 'assured': 25794,\n",
       " 'mindjack': 358364,\n",
       " 'relaunch': 459506,\n",
       " 'track': 589789,\n",
       " 'monday': 363177,\n",
       " 'word': 645287,\n",
       " 'case s': 73970,\n",
       " 's sitting': 480072,\n",
       " 'sitting edge': 512611,\n",
       " 'rest assured': 463448,\n",
       " 'track monday': 589847,\n",
       " 'reinvented': 458924,\n",
       " 'culture': 111506,\n",
       " 'way': 628556,\n",
       " 'wanted': 623717,\n",
       " 'great': 219195,\n",
       " 'big': 44465,\n",
       " 'shoes': 504874,\n",
       " 'david': 118795,\n",
       " 'bowie': 56670,\n",
       " 'writes': 653053,\n",
       " 'glam': 205308,\n",
       " 'guardian': 222782,\n",
       " 'culture way': 111576,\n",
       " 'way wanted': 630416,\n",
       " 'wanted great': 623964,\n",
       " 'great big': 219297,\n",
       " 'big shoes': 45121,\n",
       " 'david bowie': 118806,\n",
       " 'today s': 583462,\n",
       " 's guardian': 476830,\n",
       " 'article': 22522,\n",
       " 'william': 640154,\n",
       " 'gibson': 202609,\n",
       " 'observer': 392349,\n",
       " 'special': 525489,\n",
       " 'japan': 272076,\n",
       " 'issue': 270341,\n",
       " 'urllink s': 608386,\n",
       " 's great': 476788,\n",
       " 'great article': 219248,\n",
       " 'william gibson': 640158,\n",
       " 'observer s': 392350,\n",
       " 'urllink special': 608668,\n",
       " 'left': 301393,\n",
       " 'corner': 104148,\n",
       " 'cory': 104524,\n",
       " 'doctorow': 136980,\n",
       " 'blogs': 50956,\n",
       " 'page': 403893,\n",
       " 'excuse': 162750,\n",
       " 'haven': 235587,\n",
       " 'posting': 431768,\n",
       " 'blog': 49488,\n",
       " 'lately': 296260,\n",
       " 'll': 320393,\n",
       " 'try': 594274,\n",
       " 'kick': 284198,\n",
       " 'pants': 405560,\n",
       " 'x': 655008,\n",
       " 'mas': 346737,\n",
       " 'break': 58509,\n",
       " 'thing': 566512,\n",
       " 'going': 207791,\n",
       " 'm left': 336696,\n",
       " 'left corner': 301564,\n",
       " 'cory doctorow': 104525,\n",
       " 'doctorow s': 136981,\n",
       " 'urllink blogs': 605453,\n",
       " 'blogs page': 51047,\n",
       " 'excuse haven': 162781,\n",
       " 'haven t': 235603,\n",
       " 't posting': 553111,\n",
       " 'posting blog': 431774,\n",
       " 'blog lately': 49957,\n",
       " 'lately ll': 296354,\n",
       " 'll try': 321815,\n",
       " 'try kick': 594619,\n",
       " 'kick pants': 284251,\n",
       " 'x mas': 655132,\n",
       " 'break thing': 58855,\n",
       " 'thing going': 567024,\n",
       " 've': 613292,\n",
       " 'started': 530847,\n",
       " 'film': 178119,\n",
       " 'ca': 66818,\n",
       " 'movies': 368924,\n",
       " 'promises': 440404,\n",
       " 'post': 430693,\n",
       " 'reviews': 464946,\n",
       " 've started': 614524,\n",
       " 'blog urllink': 50411,\n",
       " 'promises ll': 440420,\n",
       " 'll post': 321384,\n",
       " 'post try': 431430,\n",
       " 'roadtrip': 468895,\n",
       " 'mark': 345644,\n",
       " 'magazine': 338989,\n",
       " 'half': 228484,\n",
       " 'century': 77025,\n",
       " 'ago': 9967,\n",
       " 'streets': 538225,\n",
       " 'southern': 524308,\n",
       " 'california': 67343,\n",
       " 'filled': 177944,\n",
       " 'flamboyant': 181765,\n",
       " 'towers': 589316,\n",
       " 'consumerism': 101048,\n",
       " 'obelisks': 392169,\n",
       " 'beacons': 37402,\n",
       " 'transmitting': 590754,\n",
       " 'neon': 381254,\n",
       " 'fortified': 187033,\n",
       " 'messages': 354820,\n",
       " 'optimism': 400053,\n",
       " 'families': 169185,\n",
       " 'riding': 465971,\n",
       " 'cars': 73521,\n",
       " 'space': 524481,\n",
       " 'age': 9511,\n",
       " 'life': 305762,\n",
       " 'good': 211586,\n",
       " 'marvels': 346647,\n",
       " 'modern': 361602,\n",
       " 'science': 492847,\n",
       " 'making': 342312,\n",
       " 'world': 649327,\n",
       " 'tomorrow': 585395,\n",
       " 'urllink great': 606673,\n",
       " 'half century': 228545,\n",
       " 'century ago': 77026,\n",
       " 'southern california': 524321,\n",
       " 'riding cars': 465981,\n",
       " 'space age': 524483,\n",
       " 'life good': 306407,\n",
       " 'modern science': 361635,\n",
       " 'making world': 342849,\n",
       " 'world new': 649974,\n",
       " 'new tomorrow': 383465,\n",
       " 'daily': 115736,\n",
       " 'relay': 459652,\n",
       " 'finally': 178729,\n",
       " 'using': 611188,\n",
       " 'blogger': 50550,\n",
       " 'interim': 267996,\n",
       " 'solution': 519625,\n",
       " 'probably': 437351,\n",
       " 'switch': 549936,\n",
       " 'pro': 437271,\n",
       " 'moveable': 367819,\n",
       " 'type': 598576,\n",
       " 'problems': 438610,\n",
       " 'sorted': 523294,\n",
       " 'urllink daily': 605970,\n",
       " 'daily relay': 115826,\n",
       " 'using blogger': 611210,\n",
       " 'probably switch': 438023,\n",
       " 'switch blogger': 549937,\n",
       " 'blogger pro': 50669,\n",
       " 'moveable type': 367821,\n",
       " 'type problems': 598783,\n",
       " 'problems sorted': 438825,\n",
       " 'slashdot': 514311,\n",
       " 'effect': 150903,\n",
       " 'looks': 327262,\n",
       " 'looks like': 327400,\n",
       " 'home': 248137,\n",
       " 'underdogs': 601402,\n",
       " 'amazing': 14419,\n",
       " 'resource': 462996,\n",
       " 'loves': 333081,\n",
       " 'computer': 98169,\n",
       " 'games': 198019,\n",
       " 'hundreds': 256991,\n",
       " 'download': 141229,\n",
       " 'longer': 324850,\n",
       " 'available': 28021,\n",
       " 'wealth': 630857,\n",
       " 'information': 264563,\n",
       " 'entirely': 157150,\n",
       " 'legal': 302481,\n",
       " 'think': 569535,\n",
       " 'public': 441734,\n",
       " 'better': 42897,\n",
       " 'favorite': 172277,\n",
       " 'gabriel': 196898,\n",
       " 'knight': 288584,\n",
       " 'urllink home': 606825,\n",
       " 'computer games': 98325,\n",
       " 'longer available': 324865,\n",
       " 'wealth information': 630859,\n",
       " 'games s': 198233,\n",
       " 's entirely': 476090,\n",
       " 'legal think': 302526,\n",
       " 'think s': 571391,\n",
       " 'great public': 220060,\n",
       " 'public service': 441880,\n",
       " 's better': 474458,\n",
       " 'better favorite': 43243,\n",
       " 'favorite games': 172399,\n",
       " 'games urllink': 198286,\n",
       " 'mikel': 356947,\n",
       " 'org': 400831,\n",
       " 'pointed': 427821,\n",
       " 'rumor': 472317,\n",
       " 'automatic': 27943,\n",
       " 'media': 351587,\n",
       " 'trouble': 592835,\n",
       " 'company': 96687,\n",
       " 'consists': 100711,\n",
       " 'feed': 173336,\n",
       " 'suck': 542793,\n",
       " 'plastic': 423772,\n",
       " 'hopefully': 251429,\n",
       " 'rumour': 472333,\n",
       " 'hopefully just': 251536,\n",
       " 'incredible': 263522,\n",
       " 'scientists': 493013,\n",
       " 'discovered': 135393,\n",
       " 'colossal': 92271,\n",
       " 'squid': 528342,\n",
       " 'bigger': 45312,\n",
       " 'previous': 436402,\n",
       " 'biggest': 45397,\n",
       " 'giant': 202550,\n",
       " 'fully': 194195,\n",
       " 'grown': 222376,\n",
       " 'deep': 125244,\n",
       " 'sea': 494130,\n",
       " 'exploration': 164605,\n",
       " 'nearly': 378308,\n",
       " 'fascinating': 171151,\n",
       " 'imagine': 261453,\n",
       " 'seen': 496371,\n",
       " 'alive': 13022,\n",
       " 'interesting': 267433,\n",
       " 'notes': 389872,\n",
       " 'funding': 195446,\n",
       " 'research': 462641,\n",
       " 'discovery': 135475,\n",
       " 'scientists discovered': 493015,\n",
       " 'giant squid': 202577,\n",
       " 'squid s': 528344,\n",
       " 's fully': 476584,\n",
       " 'fully grown': 194237,\n",
       " 'deep sea': 125371,\n",
       " 'space exploration': 524532,\n",
       " 'just imagine': 279275,\n",
       " 'imagine s': 261585,\n",
       " 's like': 477803,\n",
       " 'like seen': 312318,\n",
       " 'alive s': 13098,\n",
       " 's interesting': 477373,\n",
       " 'interesting article': 267449,\n",
       " 'article notes': 22638,\n",
       " 'funding research': 195449,\n",
       " 'discovery channel': 135476,\n",
       " 'channel s': 79318,\n",
       " 'great s': 220129,\n",
       " 's funding': 476590,\n",
       " 'available just': 28063,\n",
       " 'just space': 280642,\n",
       " 'little': 316949,\n",
       " 'chinese': 83042,\n",
       " 'grocery': 221359,\n",
       " 'street': 537953,\n",
       " 'apartment': 19324,\n",
       " 'tried': 591682,\n",
       " 'iron': 269796,\n",
       " 'buddha': 62481,\n",
       " 'tea': 559369,\n",
       " 'really': 453251,\n",
       " 'great little': 219829,\n",
       " 'little chinese': 317209,\n",
       " 'street apartment': 537956,\n",
       " 'apartment ve': 19483,\n",
       " 've tried': 614656,\n",
       " 'tried today': 592037,\n",
       " 'tea s': 559439,\n",
       " 's really': 479371,\n",
       " 'really good': 453961,\n",
       " 'good tea': 213453,\n",
       " 'tea try': 559455,\n",
       " 'thought': 573224,\n",
       " 'mattel': 347738,\n",
       " 'classic': 87492,\n",
       " 'electronic': 151920,\n",
       " 'football': 185119,\n",
       " 'used': 610293,\n",
       " 'things': 567972,\n",
       " 'got': 214294,\n",
       " 'atari': 25921,\n",
       " 'd thought': 114689,\n",
       " 'classic urllink': 87528,\n",
       " 'urllink electronic': 606239,\n",
       " 'football games': 185140,\n",
       " 'games used': 198288,\n",
       " 'used think': 610887,\n",
       " 'think amazing': 569612,\n",
       " 'amazing things': 14663,\n",
       " 'things got': 568514,\n",
       " 'posted': 431545,\n",
       " 'remix': 461390,\n",
       " 'took': 586908,\n",
       " 'trip': 592211,\n",
       " 'gemini': 200009,\n",
       " 'spaceship': 524706,\n",
       " 'website': 631826,\n",
       " 'original': 401028,\n",
       " 'worth': 651363,\n",
       " 'listen': 315964,\n",
       " 'realaudio': 452323,\n",
       " 'link': 314962,\n",
       " 'bowie s': 56673,\n",
       " 's took': 480871,\n",
       " 'took trip': 587562,\n",
       " 'website good': 631897,\n",
       " 'good original': 212872,\n",
       " 'worth listen': 651490,\n",
       " 'listen urllink': 316240,\n",
       " 'come': 92962,\n",
       " 'urllink mindjack': 607564,\n",
       " 'mindjack s': 358366,\n",
       " 's come': 475132,\n",
       " 'man': 343327,\n",
       " 'uninstalled': 602676,\n",
       " 'mcafee': 349489,\n",
       " 'twice': 598239,\n",
       " 'fast': 171246,\n",
       " 'virus': 616558,\n",
       " 'scanner': 490450,\n",
       " 'memory': 353316,\n",
       " 'appetite': 20100,\n",
       " 'computer twice': 98637,\n",
       " 'twice fast': 598265,\n",
       " 'virus scanner': 616576,\n",
       " 'smart': 516834,\n",
       " 'mobs': 361451,\n",
       " 'applied': 20266,\n",
       " 'meatspace': 351532,\n",
       " 'zeitgeist': 662965,\n",
       " 'minded': 358337,\n",
       " 'souls': 523549,\n",
       " 'don': 139674,\n",
       " 'know': 288793,\n",
       " 'meet': 351931,\n",
       " 'pop': 429337,\n",
       " 'white': 638821,\n",
       " 'noise': 388397,\n",
       " 'balance': 33600,\n",
       " 'atomic': 26370,\n",
       " 'viewpoints': 616142,\n",
       " 'speak': 525054,\n",
       " 'voice': 617196,\n",
       " 'roaring': 468916,\n",
       " 'righteous': 467691,\n",
       " 'yes': 660079,\n",
       " 'adamant': 6952,\n",
       " 'organizers': 400959,\n",
       " 'leaders': 299258,\n",
       " 'forethought': 185672,\n",
       " 'depth': 127907,\n",
       " 'look': 325217,\n",
       " 'internet': 268143,\n",
       " 'archive': 21032,\n",
       " 'doug': 141151,\n",
       " 'roberts': 469060,\n",
       " 'tucked': 596151,\n",
       " 'away': 28703,\n",
       " 'neighborhoods': 381121,\n",
       " 'san': 484882,\n",
       " 'francisco': 187871,\n",
       " 'roomful': 470913,\n",
       " 'computers': 98704,\n",
       " 'terabyte': 563294,\n",
       " 'data': 118114,\n",
       " 'stored': 536330,\n",
       " 'stairs': 528885,\n",
       " 'lead': 299067,\n",
       " 'intimidating': 268721,\n",
       " 'hallway': 229151,\n",
       " 'opens': 399479,\n",
       " 'room': 470182,\n",
       " 'foot': 185014,\n",
       " 'ceilings': 76457,\n",
       " 'hip': 245565,\n",
       " 'ceiling': 76442,\n",
       " 'right': 466064,\n",
       " 'storage': 536028,\n",
       " 'area': 21092,\n",
       " 'single': 510572,\n",
       " 'desk': 128565,\n",
       " 'baker': 33557,\n",
       " 'racks': 447063,\n",
       " 'tightly': 576078,\n",
       " 'packed': 403677,\n",
       " 'shelf': 503092,\n",
       " 'hp': 255577,\n",
       " 'desktop': 128677,\n",
       " 'machines': 338483,\n",
       " 'turned': 597090,\n",
       " 'maximize': 348362,\n",
       " 'fan': 170016,\n",
       " 'squeaking': 528310,\n",
       " 'painfully': 404865,\n",
       " 'walking': 620790,\n",
       " 'echoey': 150166,\n",
       " 'warm': 625294,\n",
       " 'warehouse': 625263,\n",
       " 'easy': 148866,\n",
       " 'underwhelmed': 602111,\n",
       " 'realize': 452607,\n",
       " 'looking': 326573,\n",
       " 'spinning': 527005,\n",
       " 'copy': 103872,\n",
       " 'urllink reviews': 608299,\n",
       " 'new mindjack': 382846,\n",
       " 'like minded': 311185,\n",
       " 'souls don': 523553,\n",
       " 'don t': 139711,\n",
       " 't know': 552399,\n",
       " 'know meet': 290280,\n",
       " 'white noise': 639015,\n",
       " 'speak voice': 525242,\n",
       " 'depth look': 127916,\n",
       " 'look urllink': 326145,\n",
       " 'urllink internet': 606967,\n",
       " 'internet archive': 268159,\n",
       " 'tucked away': 596152,\n",
       " 'san francisco': 484893,\n",
       " 'just hip': 279184,\n",
       " 'storage area': 536029,\n",
       " 'desk left': 128605,\n",
       " 'baker s': 33559,\n",
       " 'tightly packed': 576081,\n",
       " 'turned s': 597329,\n",
       " 'space s': 524636,\n",
       " 's easy': 475955,\n",
       " 'realize looking': 452744,\n",
       " 'away computers': 28875,\n",
       " 'internet today': 268406,\n",
       " 'trailer': 590231,\n",
       " 'steven': 534285,\n",
       " 'soderbergh': 519101,\n",
       " 'solaris': 519391,\n",
       " 'forward': 187158,\n",
       " 'fall': 168622,\n",
       " 'release': 459665,\n",
       " 'tarkovsky': 558618,\n",
       " 'russian': 473539,\n",
       " 'cinema': 85701,\n",
       " 'council': 105159,\n",
       " 'short': 505616,\n",
       " 'hope': 250614,\n",
       " 'review': 464832,\n",
       " 'released': 459727,\n",
       " 'urllink new': 607739,\n",
       " 'new trailer': 383484,\n",
       " 'steven soderbergh': 534298,\n",
       " 'today movies': 583146,\n",
       " 'movies m': 369081,\n",
       " 'm looking': 336756,\n",
       " 'looking forward': 326776,\n",
       " 'forward fall': 187214,\n",
       " 'fall got': 168709,\n",
       " 'got copy': 214816,\n",
       " 'copy great': 103894,\n",
       " 'great dvd': 219506,\n",
       " 'dvd release': 146730,\n",
       " 'urllink original': 607858,\n",
       " 'original film': 401059,\n",
       " 'film urllink': 178364,\n",
       " 'urllink russian': 608382,\n",
       " 'short ago': 505618,\n",
       " 'ago hope': 10181,\n",
       " 'new film': 382431,\n",
       " 'film s': 178307,\n",
       " 's released': 479452,\n",
       " 'redesigned': 457769,\n",
       " 'screwy': 493923,\n",
       " 'crashing': 108624,\n",
       " 'mouse': 367598,\n",
       " 'stuttering': 541999,\n",
       " 'mp3s': 369565,\n",
       " 'skipping': 513835,\n",
       " 'didn': 131663,\n",
       " 'slows': 516207,\n",
       " 'crawl': 108678,\n",
       " 'nagging': 373352,\n",
       " 'feeling': 174497,\n",
       " 'complete': 97399,\n",
       " 'format': 186846,\n",
       " 'reinstall': 458907,\n",
       " 'windows': 640949,\n",
       " 'want': 621920,\n",
       " 's going': 476722,\n",
       " 'going computer': 208236,\n",
       " 'computer things': 98616,\n",
       " 'didn t': 131665,\n",
       " 't just': 552353,\n",
       " 've got': 613859,\n",
       " 'nagging feeling': 373353,\n",
       " 'feeling m': 174801,\n",
       " 'm going': 336313,\n",
       " 'going complete': 208234,\n",
       " 'format reinstall': 186861,\n",
       " 'reinstall windows': 458908,\n",
       " 'windows really': 641018,\n",
       " 'really don': 453717,\n",
       " 't want': 554315,\n",
       " 'jason': 272253,\n",
       " 'kottke': 292658,\n",
       " 'pictures': 419544,\n",
       " 'louvre': 330560,\n",
       " 'great pictures': 220007,\n",
       " 'news': 383791,\n",
       " 'yahoo': 656343,\n",
       " 'later': 296471,\n",
       " 'urllink looks': 607357,\n",
       " 'like s': 312206,\n",
       " 's big': 474468,\n",
       " 'big news': 44977,\n",
       " 'news yahoo': 384304,\n",
       " 'later today': 297050,\n",
       " 'online': 398306,\n",
       " 'featuring': 173172,\n",
       " 'live': 318796,\n",
       " 'concert': 99011,\n",
       " 'photos': 417906,\n",
       " 'new issue': 382664,\n",
       " 'issue urllink': 270471,\n",
       " 'live concert': 318915,\n",
       " 'gotten': 217372,\n",
       " 'gig': 202781,\n",
       " 'eff': 150897,\n",
       " 'reminds': 461301,\n",
       " 'march': 345336,\n",
       " 'decided': 124212,\n",
       " 'donate': 139739,\n",
       " 'shirt': 503696,\n",
       " 'sold': 519393,\n",
       " 's favorite': 476310,\n",
       " 'gotten urllink': 217554,\n",
       " 'new gig': 382501,\n",
       " 'reminds haven': 461326,\n",
       " 'march ve': 345410,\n",
       " 've decided': 613624,\n",
       " 'decided donate': 124350,\n",
       " 'donate urllink': 139748,\n",
       " 't shirt': 553633,\n",
       " 'sold urllink': 519444,\n",
       " 'urllink eff': 606228,\n",
       " 'kicking': 284361,\n",
       " 'missing': 360598,\n",
       " 'bbc': 36998,\n",
       " 'radio': 447115,\n",
       " 'able': 2564,\n",
       " 'couple': 105901,\n",
       " 'songs': 520861,\n",
       " 'brothers': 61533,\n",
       " 'm kicking': 336638,\n",
       " 'missing urllink': 360727,\n",
       " 'urllink david': 606009,\n",
       " 'bowie concert': 56671,\n",
       " 'bbc radio': 37002,\n",
       " 'radio today': 447239,\n",
       " 'today able': 582036,\n",
       " 'able couple': 2676,\n",
       " 'couple songs': 106150,\n",
       " 'songs urllink': 521140,\n",
       " 'justin': 281350,\n",
       " 'stories': 536378,\n",
       " 'justin s': 281375,\n",
       " 'urllink japan': 607015,\n",
       " 'stories pictures': 536486,\n",
       " 'advertising': 8473,\n",
       " 'director': 134728,\n",
       " 'sales': 484496,\n",
       " 'experience': 163895,\n",
       " 'willing': 640221,\n",
       " 'work': 646223,\n",
       " 'commission': 96164,\n",
       " 'contract': 101771,\n",
       " 'job': 274018,\n",
       " 'interested': 267270,\n",
       " 'email': 152448,\n",
       " 'donald': 139730,\n",
       " 'com': 92381,\n",
       " 'attachments': 26438,\n",
       " 'constantly': 100816,\n",
       " 'writers': 653026,\n",
       " 'write': 652362,\n",
       " 'drop': 144459,\n",
       " 'willing work': 640330,\n",
       " 'work commission': 646531,\n",
       " 'contract job': 101778,\n",
       " 'job home': 274286,\n",
       " 'interested email': 267308,\n",
       " 'email urllink': 152714,\n",
       " 'urllink donald': 606135,\n",
       " 'mindjack com': 358365,\n",
       " 'constantly looking': 100856,\n",
       " 'looking great': 326812,\n",
       " 'great new': 219935,\n",
       " 'new writers': 383622,\n",
       " 'want write': 623695,\n",
       " 'drop email': 144489,\n",
       " 'sign': 508685,\n",
       " 'cnn': 90315,\n",
       " 'needs': 380583,\n",
       " 'sense': 498290,\n",
       " 'slapped': 514288,\n",
       " 'election': 151764,\n",
       " 'republicans': 462412,\n",
       " 'taken': 555033,\n",
       " 'control': 101876,\n",
       " 'senate': 497836,\n",
       " 'dick': 129954,\n",
       " 'gephardt': 200742,\n",
       " 'stepping': 534095,\n",
       " 'house': 254242,\n",
       " 'minority': 358688,\n",
       " 'leader': 299208,\n",
       " 'larry': 295627,\n",
       " 'king': 287268,\n",
       " 'talking': 557298,\n",
       " 'winona': 641409,\n",
       " 'ryder': 473710,\n",
       " 'verdict': 615160,\n",
       " 'breaking': 59085,\n",
       " 'graphic': 218902,\n",
       " 'sign urllink': 508874,\n",
       " 'urllink cnn': 605798,\n",
       " 's day': 475548,\n",
       " 'day election': 119599,\n",
       " 'taken control': 555070,\n",
       " 'dick gephardt': 129966,\n",
       " 'house minority': 254878,\n",
       " 'minority leader': 358693,\n",
       " 'larry king': 295638,\n",
       " 'winona ryder': 641410,\n",
       " 'breaking news': 59117,\n",
       " 'idea': 258797,\n",
       " 'funny': 195620,\n",
       " 'does': 137125,\n",
       " 'unless': 603092,\n",
       " 'idea funny': 258946,\n",
       " 'funny thing': 196137,\n",
       " 'thing does': 566843,\n",
       " 'does unless': 137849,\n",
       " 'times': 579804,\n",
       " 'reports': 462247,\n",
       " 'coffee': 90746,\n",
       " 'machine': 338374,\n",
       " 'webcam': 631746,\n",
       " 'offline': 393993,\n",
       " 'year': 657968,\n",
       " 'pot': 432143,\n",
       " 'museum': 370918,\n",
       " 'urllink times': 608954,\n",
       " 'times reports': 580337,\n",
       " 'reports urllink': 462268,\n",
       " 'room coffee': 470284,\n",
       " 'coffee machine': 90868,\n",
       " 'going offline': 209261,\n",
       " 'good later': 212606,\n",
       " 'later year': 297135,\n",
       " 'proper': 440596,\n",
       " 'time': 576630,\n",
       " 'bit': 46572,\n",
       " 'slow': 515918,\n",
       " 'month': 364407,\n",
       " 'lengthy': 302917,\n",
       " 'lawrence': 298338,\n",
       " 'lessig': 303117,\n",
       " 'bryan': 62097,\n",
       " 'alexander': 12797,\n",
       " 'plus': 426353,\n",
       " 'neat': 378450,\n",
       " 'l': 293147,\n",
       " 'digital': 133676,\n",
       " 'camera': 69680,\n",
       " 'spread': 527916,\n",
       " 's proper': 479181,\n",
       " 'time bit': 576902,\n",
       " 'bit slow': 47303,\n",
       " 'slow start': 516047,\n",
       " 'start month': 530492,\n",
       " 'month ve': 364732,\n",
       " 'lawrence lessig': 298342,\n",
       " 'issue plus': 270433,\n",
       " 'neat little': 378470,\n",
       " 'little l': 317835,\n",
       " 'digital camera': 133684,\n",
       " 'spread word': 527953,\n",
       " 'interview': 268553,\n",
       " 'simon': 509585,\n",
       " 'singh': 510438,\n",
       " 'author': 27794,\n",
       " 'code': 90612,\n",
       " 'book': 53283,\n",
       " 'got urllink': 216880,\n",
       " 'great interview': 219749,\n",
       " 'code book': 90619,\n",
       " 'book new': 53682,\n",
       " 'issue mindjack': 270418,\n",
       " 'amazon': 14740,\n",
       " 'plain': 422701,\n",
       " 'eerie': 150878,\n",
       " 'amazon com': 14744,\n",
       " 'com just': 92590,\n",
       " 'just plain': 279966,\n",
       " 'gave': 198987,\n",
       " 'official': 393837,\n",
       " 'foreseeable': 185631,\n",
       " 'future': 196379,\n",
       " 'goes': 207156,\n",
       " 'continuing': 101735,\n",
       " 'years': 658958,\n",
       " 'excellent': 162014,\n",
       " 'pull': 442157,\n",
       " 'funk': 195520,\n",
       " 'form': 186636,\n",
       " 'months': 364779,\n",
       " 'urllink feed': 606406,\n",
       " 'official word': 393885,\n",
       " 'word today': 645629,\n",
       " 'foreseeable future': 185632,\n",
       " 'goes urllink': 207588,\n",
       " 'urllink suck': 608794,\n",
       " 'like urllink': 313213,\n",
       " 'urllink plastic': 608032,\n",
       " 'online years': 398666,\n",
       " 'years excellent': 659138,\n",
       " 'hopefully pull': 251602,\n",
       " 'come form': 93351,\n",
       " 'yesterday': 660849,\n",
       " 'tim': 576560,\n",
       " 'ceo': 77051,\n",
       " 'miss': 359822,\n",
       " 'forecasts': 185534,\n",
       " 'quarter': 443982,\n",
       " 'stock': 534760,\n",
       " 'tumbled': 596448,\n",
       " 'yahoo news': 656378,\n",
       " 'news yesterday': 384309,\n",
       " 'yesterday tim': 661431,\n",
       " 'll miss': 321239,\n",
       " 'urllink today': 608967,\n",
       " 'watched': 626898,\n",
       " 'maps': 345259,\n",
       " 'territories': 563718,\n",
       " 'night': 385950,\n",
       " 'documentary': 137034,\n",
       " 'neale': 378096,\n",
       " 'kind': 286023,\n",
       " 'send': 497890,\n",
       " 'running': 472922,\n",
       " 'perks': 414983,\n",
       " 'limo': 314358,\n",
       " 'musing': 371852,\n",
       " 'cyberspace': 113541,\n",
       " 'religion': 459925,\n",
       " 'doing': 138453,\n",
       " 'weeks': 634387,\n",
       " 'watched urllink': 627313,\n",
       " 'night great': 386560,\n",
       " 'great documentary': 219488,\n",
       " 'director mark': 134756,\n",
       " 'kind send': 286589,\n",
       " 'send running': 498068,\n",
       " 'magazine s': 339037,\n",
       " 's perks': 478814,\n",
       " 'religion ll': 459969,\n",
       " 'll doing': 320775,\n",
       " 'doing review': 139102,\n",
       " 'couple weeks': 106185,\n",
       " 'matt': 347606,\n",
       " 'k': 281607,\n",
       " 'illustrations': 260403,\n",
       " 'synapse': 550221,\n",
       " 'join': 275376,\n",
       " 'k urllink': 281771,\n",
       " 'illustrations urllink': 260404,\n",
       " 'join urllink': 275476,\n",
       " 'came': 68736,\n",
       " 'british': 60518,\n",
       " 'columbia': 92332,\n",
       " 'art': 22278,\n",
       " 'objects': 392247,\n",
       " 'robots': 469117,\n",
       " 'net': 381542,\n",
       " 'came british': 68832,\n",
       " 'british columbia': 60527,\n",
       " 'columbia urllink': 92343,\n",
       " 'great space': 220223,\n",
       " 'objects urllink': 392254,\n",
       " 'urllink robots': 608330,\n",
       " 'coltrane': 92324,\n",
       " 'myths': 372237,\n",
       " 'york': 661816,\n",
       " 'new york': 383637,\n",
       " 'york times': 661902,\n",
       " 'absence': 3271,\n",
       " 'called': 67457,\n",
       " 'sure': 547033,\n",
       " 'common': 96276,\n",
       " 'threads': 574667,\n",
       " 's s': 479705,\n",
       " 's absence': 473834,\n",
       " 'absence ve': 3283,\n",
       " 've discovered': 613661,\n",
       " 'discovered great': 135410,\n",
       " 'started called': 530927,\n",
       " 'called m': 67879,\n",
       " 'm sure': 337742,\n",
       " 'sure urllink': 547893,\n",
       " 'urllink common': 605836,\n",
       " 'common threads': 96357,\n",
       " 'covering': 107513,\n",
       " 'supernova': 546018,\n",
       " 'blogging': 50771,\n",
       " 'mindjack urllink': 358367,\n",
       " 'urllink blogging': 605448,\n",
       " 'overlap': 402644,\n",
       " 'writing': 653083,\n",
       " 'fiction': 176760,\n",
       " 'makes': 341784,\n",
       " 'unique': 602727,\n",
       " 'combination': 92907,\n",
       " 'launching': 297889,\n",
       " 'sells': 497616,\n",
       " 'neural': 381788,\n",
       " 'plugs': 426315,\n",
       " 'stim': 534626,\n",
       " 'sims': 510113,\n",
       " 'great urllink': 220363,\n",
       " 'urllink interview': 606969,\n",
       " 'day job': 120043,\n",
       " 'night job': 386698,\n",
       " 'job writing': 274723,\n",
       " 'writing fiction': 653213,\n",
       " 'makes unique': 342235,\n",
       " 'unique combination': 602734,\n",
       " 'combination s': 92920,\n",
       " 'like william': 313411,\n",
       " 'company sells': 96892,\n",
       " 'anybody': 18161,\n",
       " 'pay': 410156,\n",
       " 'got start': 216591,\n",
       " 'start writing': 530835,\n",
       " 'anybody want': 18246,\n",
       " 'want pay': 623028,\n",
       " 'reasons': 455933,\n",
       " 'vegetarian': 614870,\n",
       " 'washingtonpost': 625786,\n",
       " 'urllink reasons': 608238,\n",
       " 'reasons m': 456013,\n",
       " 'm vegetarian': 337968,\n",
       " 'washingtonpost com': 625787,\n",
       " 'contributor': 101866,\n",
       " 'game': 197248,\n",
       " 'reviewer': 464942,\n",
       " 'hall': 229010,\n",
       " 'written': 653544,\n",
       " 'ethics': 159369,\n",
       " 'video': 615699,\n",
       " 'journalism': 276249,\n",
       " 'print': 436905,\n",
       " 'founded': 187524,\n",
       " 'describes': 128062,\n",
       " 'early': 147729,\n",
       " 'recent': 456450,\n",
       " 'extent': 164891,\n",
       " 'cheerleaders': 81185,\n",
       " 'industry': 264163,\n",
       " 'loved': 332630,\n",
       " 'changed': 78835,\n",
       " 'past': 409025,\n",
       " 'publications': 441926,\n",
       " 'web': 631603,\n",
       " 'sites': 512400,\n",
       " 'employ': 153476,\n",
       " 'low': 333345,\n",
       " 'paid': 404304,\n",
       " 'hobbyists': 247108,\n",
       " 'targets': 558609,\n",
       " 'lavish': 298134,\n",
       " 'marketing': 345901,\n",
       " 'events': 160114,\n",
       " 'encourage': 153726,\n",
       " 'inappropriate': 262910,\n",
       " 'ties': 575945,\n",
       " 'makers': 341782,\n",
       " 'critics': 110373,\n",
       " 'justin hall': 281358,\n",
       " 'written great': 653622,\n",
       " 'article urllink': 22713,\n",
       " 'video game': 615752,\n",
       " 'online journalism': 398452,\n",
       " 'journalism review': 276254,\n",
       " 'print magazine': 436923,\n",
       " 'video games': 615753,\n",
       " 'early days': 147807,\n",
       " 'days recent': 122013,\n",
       " 'recent interview': 456498,\n",
       " 'games wanted': 198296,\n",
       " 'wanted wanted': 624376,\n",
       " 'wanted writing': 624405,\n",
       " 'changed past': 78988,\n",
       " 'past years': 409383,\n",
       " 'years game': 659184,\n",
       " 'web sites': 631709,\n",
       " 'low paid': 333442,\n",
       " 'easy targets': 149134,\n",
       " 'game makers': 197617,\n",
       " 'best': 41775,\n",
       " 'spam': 524756,\n",
       " 'dear': 123178,\n",
       " 'sir': 510993,\n",
       " 'madam': 338835,\n",
       " 'supply': 546124,\n",
       " 'high': 244483,\n",
       " 'quality': 443870,\n",
       " 'flying': 183288,\n",
       " 'let': 303331,\n",
       " 'walk': 620103,\n",
       " 'normally': 389173,\n",
       " 'slide': 515555,\n",
       " 'sort': 522938,\n",
       " 'fashionable': 171231,\n",
       " 'product': 439204,\n",
       " 'fob': 183418,\n",
       " 'price': 436527,\n",
       " 'usd': 609469,\n",
       " 'pair': 405056,\n",
       " 'welcome': 635541,\n",
       " 'order': 400353,\n",
       " ...}"
      ]
     },
     "execution_count": 252,
     "metadata": {},
     "output_type": "execute_result"
    }
   ],
   "source": [
    "vect.vocabulary_"
   ]
  },
  {
   "cell_type": "code",
   "execution_count": 253,
   "metadata": {
    "collapsed": false
   },
   "outputs": [
    {
     "name": "stdout",
     "output_type": "stream",
     "text": [
      "0.5158280205598818\n"
     ]
    }
   ],
   "source": [
    "logreg = LogisticRegression()\n",
    "logreg.fit(X_train_dtm, Y_train)\n",
    "y_pred_class = logreg.predict(X_test_dtm)\n",
    "print(np.mean(y_pred == Y_test))"
   ]
  },
  {
   "cell_type": "code",
   "execution_count": 129,
   "metadata": {
    "collapsed": false
   },
   "outputs": [
    {
     "name": "stdout",
     "output_type": "stream",
     "text": [
      "             precision    recall  f1-score   support\n",
      "\n",
      "      14-16       0.63      0.60      0.62     13100\n",
      "      24-26       0.47      0.89      0.62     17297\n",
      "      34-36       0.07      0.00      0.01      2584\n",
      "      44-46       0.00      0.00      0.00       551\n",
      "          ?       0.00      0.00      0.00     11799\n",
      "\n",
      "avg / total       0.37      0.52      0.41     45331\n",
      "\n"
     ]
    },
    {
     "name": "stderr",
     "output_type": "stream",
     "text": [
      "C:\\Users\\kenne\\Anaconda3\\lib\\site-packages\\sklearn\\metrics\\classification.py:1113: UndefinedMetricWarning: Precision and F-score are ill-defined and being set to 0.0 in labels with no predicted samples.\n",
      "  'precision', 'predicted', average, warn_for)\n"
     ]
    }
   ],
   "source": [
    "print(classification_report(Y_test,y_pred))"
   ]
  },
  {
   "cell_type": "code",
   "execution_count": 130,
   "metadata": {
    "collapsed": false
   },
   "outputs": [
    {
     "name": "stdout",
     "output_type": "stream",
     "text": [
      "[[ 7925  5165     8     2     0]\n",
      " [ 1800 15451    42     4     0]\n",
      " [   56  2520     7     1     0]\n",
      " [   17   531     3     0     0]\n",
      " [ 2765  8985    46     3     0]]\n"
     ]
    }
   ],
   "source": [
    "print(confusion_matrix(Y_test,y_pred))"
   ]
  },
  {
   "cell_type": "code",
   "execution_count": null,
   "metadata": {
    "collapsed": true
   },
   "outputs": [],
   "source": []
  },
  {
   "cell_type": "code",
   "execution_count": 128,
   "metadata": {
    "collapsed": false
   },
   "outputs": [
    {
     "ename": "TypeError",
     "evalue": "'<' not supported between instances of 'str' and 'int'",
     "output_type": "error",
     "traceback": [
      "\u001b[0;31m---------------------------------------------------------------------------\u001b[0m",
      "\u001b[0;31mTypeError\u001b[0m                                 Traceback (most recent call last)",
      "\u001b[0;32mC:\\Users\\kenne\\Anaconda3\\lib\\site-packages\\numpy\\core\\fromnumeric.py\u001b[0m in \u001b[0;36m_wrapfunc\u001b[0;34m(obj, method, *args, **kwds)\u001b[0m\n\u001b[1;32m     51\u001b[0m     \u001b[1;32mtry\u001b[0m\u001b[1;33m:\u001b[0m\u001b[1;33m\u001b[0m\u001b[0m\n\u001b[0;32m---> 52\u001b[0;31m         \u001b[1;32mreturn\u001b[0m \u001b[0mgetattr\u001b[0m\u001b[1;33m(\u001b[0m\u001b[0mobj\u001b[0m\u001b[1;33m,\u001b[0m \u001b[0mmethod\u001b[0m\u001b[1;33m)\u001b[0m\u001b[1;33m(\u001b[0m\u001b[1;33m*\u001b[0m\u001b[0margs\u001b[0m\u001b[1;33m,\u001b[0m \u001b[1;33m**\u001b[0m\u001b[0mkwds\u001b[0m\u001b[1;33m)\u001b[0m\u001b[1;33m\u001b[0m\u001b[0m\n\u001b[0m\u001b[1;32m     53\u001b[0m \u001b[1;33m\u001b[0m\u001b[0m\n",
      "\u001b[0;31mTypeError\u001b[0m: '<' not supported between instances of 'str' and 'int'",
      "\nDuring handling of the above exception, another exception occurred:\n",
      "\u001b[0;31mTypeError\u001b[0m                                 Traceback (most recent call last)",
      "\u001b[0;32m<ipython-input-128-35198fa438f9>\u001b[0m in \u001b[0;36m<module>\u001b[0;34m()\u001b[0m\n\u001b[1;32m      1\u001b[0m \u001b[0mclf\u001b[0m \u001b[1;33m=\u001b[0m \u001b[0msvm\u001b[0m\u001b[1;33m.\u001b[0m\u001b[0mLinearSVC\u001b[0m\u001b[1;33m(\u001b[0m\u001b[0mloss\u001b[0m\u001b[1;33m=\u001b[0m\u001b[1;34m'hinge'\u001b[0m\u001b[1;33m,\u001b[0m \u001b[0mclass_weight\u001b[0m \u001b[1;33m=\u001b[0m \u001b[1;33m{\u001b[0m\u001b[1;36m1\u001b[0m\u001b[1;33m:\u001b[0m\u001b[1;36m2.27\u001b[0m\u001b[1;33m,\u001b[0m \u001b[1;36m2\u001b[0m\u001b[1;33m:\u001b[0m\u001b[1;36m10.6\u001b[0m\u001b[1;33m,\u001b[0m \u001b[1;36m3\u001b[0m\u001b[1;33m:\u001b[0m\u001b[1;36m0.7\u001b[0m\u001b[1;33m,\u001b[0m \u001b[1;36m4\u001b[0m\u001b[1;33m:\u001b[0m\u001b[1;36m0.48\u001b[0m\u001b[1;33m}\u001b[0m\u001b[1;33m,\u001b[0m \u001b[0mC\u001b[0m\u001b[1;33m=\u001b[0m\u001b[1;36m0.4\u001b[0m\u001b[1;33m)\u001b[0m\u001b[1;33m\u001b[0m\u001b[0m\n\u001b[0;32m----> 2\u001b[0;31m \u001b[0mclf\u001b[0m\u001b[1;33m.\u001b[0m\u001b[0mfit\u001b[0m\u001b[1;33m(\u001b[0m\u001b[0mX_train_dtm\u001b[0m\u001b[1;33m,\u001b[0m \u001b[0mY_train\u001b[0m\u001b[1;33m)\u001b[0m\u001b[1;33m\u001b[0m\u001b[0m\n\u001b[0m\u001b[1;32m      3\u001b[0m \u001b[0my_pred\u001b[0m \u001b[1;33m=\u001b[0m \u001b[0mclf\u001b[0m\u001b[1;33m.\u001b[0m\u001b[0mpredict\u001b[0m\u001b[1;33m(\u001b[0m\u001b[0mX_test_dtm\u001b[0m\u001b[1;33m)\u001b[0m\u001b[1;33m\u001b[0m\u001b[0m\n\u001b[1;32m      4\u001b[0m \u001b[0mnp\u001b[0m\u001b[1;33m.\u001b[0m\u001b[0mmean\u001b[0m\u001b[1;33m(\u001b[0m\u001b[0my_pred\u001b[0m \u001b[1;33m==\u001b[0m \u001b[0mY_test\u001b[0m\u001b[1;33m)\u001b[0m\u001b[1;33m\u001b[0m\u001b[0m\n",
      "\u001b[0;32mC:\\Users\\kenne\\Anaconda3\\lib\\site-packages\\sklearn\\svm\\classes.py\u001b[0m in \u001b[0;36mfit\u001b[0;34m(self, X, y, sample_weight)\u001b[0m\n\u001b[1;32m    213\u001b[0m             \u001b[0mself\u001b[0m\u001b[1;33m.\u001b[0m\u001b[0mclass_weight\u001b[0m\u001b[1;33m,\u001b[0m \u001b[0mself\u001b[0m\u001b[1;33m.\u001b[0m\u001b[0mpenalty\u001b[0m\u001b[1;33m,\u001b[0m \u001b[0mself\u001b[0m\u001b[1;33m.\u001b[0m\u001b[0mdual\u001b[0m\u001b[1;33m,\u001b[0m \u001b[0mself\u001b[0m\u001b[1;33m.\u001b[0m\u001b[0mverbose\u001b[0m\u001b[1;33m,\u001b[0m\u001b[1;33m\u001b[0m\u001b[0m\n\u001b[1;32m    214\u001b[0m             \u001b[0mself\u001b[0m\u001b[1;33m.\u001b[0m\u001b[0mmax_iter\u001b[0m\u001b[1;33m,\u001b[0m \u001b[0mself\u001b[0m\u001b[1;33m.\u001b[0m\u001b[0mtol\u001b[0m\u001b[1;33m,\u001b[0m \u001b[0mself\u001b[0m\u001b[1;33m.\u001b[0m\u001b[0mrandom_state\u001b[0m\u001b[1;33m,\u001b[0m \u001b[0mself\u001b[0m\u001b[1;33m.\u001b[0m\u001b[0mmulti_class\u001b[0m\u001b[1;33m,\u001b[0m\u001b[1;33m\u001b[0m\u001b[0m\n\u001b[0;32m--> 215\u001b[0;31m             self.loss, sample_weight=sample_weight)\n\u001b[0m\u001b[1;32m    216\u001b[0m \u001b[1;33m\u001b[0m\u001b[0m\n\u001b[1;32m    217\u001b[0m         \u001b[1;32mif\u001b[0m \u001b[0mself\u001b[0m\u001b[1;33m.\u001b[0m\u001b[0mmulti_class\u001b[0m \u001b[1;33m==\u001b[0m \u001b[1;34m\"crammer_singer\"\u001b[0m \u001b[1;32mand\u001b[0m \u001b[0mlen\u001b[0m\u001b[1;33m(\u001b[0m\u001b[0mself\u001b[0m\u001b[1;33m.\u001b[0m\u001b[0mclasses_\u001b[0m\u001b[1;33m)\u001b[0m \u001b[1;33m==\u001b[0m \u001b[1;36m2\u001b[0m\u001b[1;33m:\u001b[0m\u001b[1;33m\u001b[0m\u001b[0m\n",
      "\u001b[0;32mC:\\Users\\kenne\\Anaconda3\\lib\\site-packages\\sklearn\\svm\\base.py\u001b[0m in \u001b[0;36m_fit_liblinear\u001b[0;34m(X, y, C, fit_intercept, intercept_scaling, class_weight, penalty, dual, verbose, max_iter, tol, random_state, multi_class, loss, epsilon, sample_weight)\u001b[0m\n\u001b[1;32m    875\u001b[0m                              \" class: %r\" % classes_[0])\n\u001b[1;32m    876\u001b[0m \u001b[1;33m\u001b[0m\u001b[0m\n\u001b[0;32m--> 877\u001b[0;31m         \u001b[0mclass_weight_\u001b[0m \u001b[1;33m=\u001b[0m \u001b[0mcompute_class_weight\u001b[0m\u001b[1;33m(\u001b[0m\u001b[0mclass_weight\u001b[0m\u001b[1;33m,\u001b[0m \u001b[0mclasses_\u001b[0m\u001b[1;33m,\u001b[0m \u001b[0my\u001b[0m\u001b[1;33m)\u001b[0m\u001b[1;33m\u001b[0m\u001b[0m\n\u001b[0m\u001b[1;32m    878\u001b[0m     \u001b[1;32melse\u001b[0m\u001b[1;33m:\u001b[0m\u001b[1;33m\u001b[0m\u001b[0m\n\u001b[1;32m    879\u001b[0m         \u001b[0mclass_weight_\u001b[0m \u001b[1;33m=\u001b[0m \u001b[0mnp\u001b[0m\u001b[1;33m.\u001b[0m\u001b[0mempty\u001b[0m\u001b[1;33m(\u001b[0m\u001b[1;36m0\u001b[0m\u001b[1;33m,\u001b[0m \u001b[0mdtype\u001b[0m\u001b[1;33m=\u001b[0m\u001b[0mnp\u001b[0m\u001b[1;33m.\u001b[0m\u001b[0mfloat64\u001b[0m\u001b[1;33m)\u001b[0m\u001b[1;33m\u001b[0m\u001b[0m\n",
      "\u001b[0;32mC:\\Users\\kenne\\Anaconda3\\lib\\site-packages\\sklearn\\utils\\class_weight.py\u001b[0m in \u001b[0;36mcompute_class_weight\u001b[0;34m(class_weight, classes, y)\u001b[0m\n\u001b[1;32m     75\u001b[0m                              \" got: %r\" % class_weight)\n\u001b[1;32m     76\u001b[0m         \u001b[1;32mfor\u001b[0m \u001b[0mc\u001b[0m \u001b[1;32min\u001b[0m \u001b[0mclass_weight\u001b[0m\u001b[1;33m:\u001b[0m\u001b[1;33m\u001b[0m\u001b[0m\n\u001b[0;32m---> 77\u001b[0;31m             \u001b[0mi\u001b[0m \u001b[1;33m=\u001b[0m \u001b[0mnp\u001b[0m\u001b[1;33m.\u001b[0m\u001b[0msearchsorted\u001b[0m\u001b[1;33m(\u001b[0m\u001b[0mclasses\u001b[0m\u001b[1;33m,\u001b[0m \u001b[0mc\u001b[0m\u001b[1;33m)\u001b[0m\u001b[1;33m\u001b[0m\u001b[0m\n\u001b[0m\u001b[1;32m     78\u001b[0m             \u001b[1;32mif\u001b[0m \u001b[0mi\u001b[0m \u001b[1;33m>=\u001b[0m \u001b[0mlen\u001b[0m\u001b[1;33m(\u001b[0m\u001b[0mclasses\u001b[0m\u001b[1;33m)\u001b[0m \u001b[1;32mor\u001b[0m \u001b[0mclasses\u001b[0m\u001b[1;33m[\u001b[0m\u001b[0mi\u001b[0m\u001b[1;33m]\u001b[0m \u001b[1;33m!=\u001b[0m \u001b[0mc\u001b[0m\u001b[1;33m:\u001b[0m\u001b[1;33m\u001b[0m\u001b[0m\n\u001b[1;32m     79\u001b[0m                 \u001b[1;32mraise\u001b[0m \u001b[0mValueError\u001b[0m\u001b[1;33m(\u001b[0m\u001b[1;34m\"Class label %d not present.\"\u001b[0m \u001b[1;33m%\u001b[0m \u001b[0mc\u001b[0m\u001b[1;33m)\u001b[0m\u001b[1;33m\u001b[0m\u001b[0m\n",
      "\u001b[0;32mC:\\Users\\kenne\\Anaconda3\\lib\\site-packages\\numpy\\core\\fromnumeric.py\u001b[0m in \u001b[0;36msearchsorted\u001b[0;34m(a, v, side, sorter)\u001b[0m\n\u001b[1;32m   1122\u001b[0m \u001b[1;33m\u001b[0m\u001b[0m\n\u001b[1;32m   1123\u001b[0m     \"\"\"\n\u001b[0;32m-> 1124\u001b[0;31m     \u001b[1;32mreturn\u001b[0m \u001b[0m_wrapfunc\u001b[0m\u001b[1;33m(\u001b[0m\u001b[0ma\u001b[0m\u001b[1;33m,\u001b[0m \u001b[1;34m'searchsorted'\u001b[0m\u001b[1;33m,\u001b[0m \u001b[0mv\u001b[0m\u001b[1;33m,\u001b[0m \u001b[0mside\u001b[0m\u001b[1;33m=\u001b[0m\u001b[0mside\u001b[0m\u001b[1;33m,\u001b[0m \u001b[0msorter\u001b[0m\u001b[1;33m=\u001b[0m\u001b[0msorter\u001b[0m\u001b[1;33m)\u001b[0m\u001b[1;33m\u001b[0m\u001b[0m\n\u001b[0m\u001b[1;32m   1125\u001b[0m \u001b[1;33m\u001b[0m\u001b[0m\n\u001b[1;32m   1126\u001b[0m \u001b[1;33m\u001b[0m\u001b[0m\n",
      "\u001b[0;32mC:\\Users\\kenne\\Anaconda3\\lib\\site-packages\\numpy\\core\\fromnumeric.py\u001b[0m in \u001b[0;36m_wrapfunc\u001b[0;34m(obj, method, *args, **kwds)\u001b[0m\n\u001b[1;32m     60\u001b[0m     \u001b[1;31m# a downstream library like 'pandas'.\u001b[0m\u001b[1;33m\u001b[0m\u001b[1;33m\u001b[0m\u001b[0m\n\u001b[1;32m     61\u001b[0m     \u001b[1;32mexcept\u001b[0m \u001b[1;33m(\u001b[0m\u001b[0mAttributeError\u001b[0m\u001b[1;33m,\u001b[0m \u001b[0mTypeError\u001b[0m\u001b[1;33m)\u001b[0m\u001b[1;33m:\u001b[0m\u001b[1;33m\u001b[0m\u001b[0m\n\u001b[0;32m---> 62\u001b[0;31m         \u001b[1;32mreturn\u001b[0m \u001b[0m_wrapit\u001b[0m\u001b[1;33m(\u001b[0m\u001b[0mobj\u001b[0m\u001b[1;33m,\u001b[0m \u001b[0mmethod\u001b[0m\u001b[1;33m,\u001b[0m \u001b[1;33m*\u001b[0m\u001b[0margs\u001b[0m\u001b[1;33m,\u001b[0m \u001b[1;33m**\u001b[0m\u001b[0mkwds\u001b[0m\u001b[1;33m)\u001b[0m\u001b[1;33m\u001b[0m\u001b[0m\n\u001b[0m\u001b[1;32m     63\u001b[0m \u001b[1;33m\u001b[0m\u001b[0m\n\u001b[1;32m     64\u001b[0m \u001b[1;33m\u001b[0m\u001b[0m\n",
      "\u001b[0;32mC:\\Users\\kenne\\Anaconda3\\lib\\site-packages\\numpy\\core\\fromnumeric.py\u001b[0m in \u001b[0;36m_wrapit\u001b[0;34m(obj, method, *args, **kwds)\u001b[0m\n\u001b[1;32m     40\u001b[0m     \u001b[1;32mexcept\u001b[0m \u001b[0mAttributeError\u001b[0m\u001b[1;33m:\u001b[0m\u001b[1;33m\u001b[0m\u001b[0m\n\u001b[1;32m     41\u001b[0m         \u001b[0mwrap\u001b[0m \u001b[1;33m=\u001b[0m \u001b[1;32mNone\u001b[0m\u001b[1;33m\u001b[0m\u001b[0m\n\u001b[0;32m---> 42\u001b[0;31m     \u001b[0mresult\u001b[0m \u001b[1;33m=\u001b[0m \u001b[0mgetattr\u001b[0m\u001b[1;33m(\u001b[0m\u001b[0masarray\u001b[0m\u001b[1;33m(\u001b[0m\u001b[0mobj\u001b[0m\u001b[1;33m)\u001b[0m\u001b[1;33m,\u001b[0m \u001b[0mmethod\u001b[0m\u001b[1;33m)\u001b[0m\u001b[1;33m(\u001b[0m\u001b[1;33m*\u001b[0m\u001b[0margs\u001b[0m\u001b[1;33m,\u001b[0m \u001b[1;33m**\u001b[0m\u001b[0mkwds\u001b[0m\u001b[1;33m)\u001b[0m\u001b[1;33m\u001b[0m\u001b[0m\n\u001b[0m\u001b[1;32m     43\u001b[0m     \u001b[1;32mif\u001b[0m \u001b[0mwrap\u001b[0m\u001b[1;33m:\u001b[0m\u001b[1;33m\u001b[0m\u001b[0m\n\u001b[1;32m     44\u001b[0m         \u001b[1;32mif\u001b[0m \u001b[1;32mnot\u001b[0m \u001b[0misinstance\u001b[0m\u001b[1;33m(\u001b[0m\u001b[0mresult\u001b[0m\u001b[1;33m,\u001b[0m \u001b[0mmu\u001b[0m\u001b[1;33m.\u001b[0m\u001b[0mndarray\u001b[0m\u001b[1;33m)\u001b[0m\u001b[1;33m:\u001b[0m\u001b[1;33m\u001b[0m\u001b[0m\n",
      "\u001b[0;31mTypeError\u001b[0m: '<' not supported between instances of 'str' and 'int'"
     ]
    }
   ],
   "source": [
    "clf = svm.LinearSVC(loss='hinge', class_weight = {1:2.27, 2:10.6, 3:0.7, 4:0.48}, C=0.4)\n",
    "clf.fit(X_train_dtm, Y_train)\n",
    "y_pred = clf.predict(X_test_dtm)\n",
    "np.mean(y_pred == Y_test)\n"
   ]
  },
  {
   "cell_type": "code",
   "execution_count": 28,
   "metadata": {
    "collapsed": false
   },
   "outputs": [
    {
     "data": {
      "text/plain": [
       "0.49844477289272243"
      ]
     },
     "execution_count": 28,
     "metadata": {},
     "output_type": "execute_result"
    }
   ],
   "source": [
    "from sklearn import svm\n",
    "clf = svm.LinearSVC(loss='hinge', class_weight = {1:2.27, 2:10.6, 3:0.7, 4:0.48}, C=0.4)\n",
    "clf.fit(X_train_dtm, Y_train)\n",
    "y_pred = clf.predict(X_test_dtm)\n",
    "np.mean(y_pred == Y_test)\n"
   ]
  },
  {
   "cell_type": "code",
   "execution_count": null,
   "metadata": {
    "collapsed": true
   },
   "outputs": [],
   "source": []
  },
  {
   "cell_type": "code",
   "execution_count": null,
   "metadata": {
    "collapsed": true
   },
   "outputs": [],
   "source": []
  },
  {
   "cell_type": "code",
   "execution_count": null,
   "metadata": {
    "collapsed": true
   },
   "outputs": [],
   "source": []
  },
  {
   "cell_type": "code",
   "execution_count": 192,
   "metadata": {
    "collapsed": false
   },
   "outputs": [],
   "source": [
    "from sklearn.decomposition import NMF, LatentDirichletAllocation, PCA\n",
    "nmf = NMF(n_components=4)\n",
    "nmf_x=nmf.fit_transform(X_train_dtm)\n",
    "nmf_test_dtm = nmf.transform(X_test_dtm)"
   ]
  },
  {
   "cell_type": "code",
   "execution_count": 194,
   "metadata": {
    "collapsed": false
   },
   "outputs": [
    {
     "data": {
      "text/plain": [
       "0.38243144867750545"
      ]
     },
     "execution_count": 194,
     "metadata": {},
     "output_type": "execute_result"
    }
   ],
   "source": [
    "clf = svm.LinearSVC(class_weight = {1:2.27, 2:10.6, 3:0.7, 4:0.48}, C=0.4)\n",
    "clf.fit(nmf_x, Y_train)\n",
    "y_pred = clf.predict(nmf_test_dtm)\n",
    "np.mean(y_pred == Y_test)"
   ]
  },
  {
   "cell_type": "code",
   "execution_count": 186,
   "metadata": {
    "collapsed": false
   },
   "outputs": [
    {
     "data": {
      "text/plain": [
       "0.41141823476208333"
      ]
     },
     "execution_count": 186,
     "metadata": {},
     "output_type": "execute_result"
    }
   ],
   "source": [
    "clf = svm.LinearSVC(loss='hinge', class_weight = {1:2.27, 2:10.6, 3:0.7, 4:0.48}, C=0.4)\n",
    "clf.fit(nmf_x, Y_train)\n",
    "y_pred = clf.predict(nmf_test_dtm)\n",
    "np.mean(y_pred == Y_test)"
   ]
  },
  {
   "cell_type": "code",
   "execution_count": 181,
   "metadata": {
    "collapsed": false
   },
   "outputs": [
    {
     "data": {
      "text/plain": [
       "0.4033663497385895"
      ]
     },
     "execution_count": 181,
     "metadata": {},
     "output_type": "execute_result"
    }
   ],
   "source": [
    "clf = svm.LinearSVC(loss='hinge', class_weight = {1:2.27, 2:10.6, 3:0.7, 4:0.48}, C=0.4)\n",
    "clf.fit(nmf_x, Y_train)\n",
    "y_pred = clf.predict(nmf_test_dtm)\n",
    "np.mean(y_pred == Y_test)"
   ]
  },
  {
   "cell_type": "code",
   "execution_count": null,
   "metadata": {
    "collapsed": true
   },
   "outputs": [],
   "source": []
  },
  {
   "cell_type": "code",
   "execution_count": 172,
   "metadata": {
    "collapsed": false
   },
   "outputs": [
    {
     "data": {
      "text/plain": [
       "0.4698550660695771"
      ]
     },
     "execution_count": 172,
     "metadata": {},
     "output_type": "execute_result"
    }
   ],
   "source": [
    "vect = CountVectorizer(min_df=5,stop_words='english', analyzer='word')\n",
    "vect.fit(X_train)\n",
    "X_train_dtm = vect.transform(X_train)\n",
    "X_test_dtm = vect.transform(X_test)\n",
    "nb = MultinomialNB()\n",
    "nb.fit(X_train_dtm, Y_train)\n",
    "y_pred = nb.predict(X_test_dtm)\n",
    "np.mean(y_pred == Y_test)"
   ]
  },
  {
   "cell_type": "code",
   "execution_count": 171,
   "metadata": {
    "collapsed": false
   },
   "outputs": [
    {
     "data": {
      "text/plain": [
       "0.4698550660695771"
      ]
     },
     "execution_count": 171,
     "metadata": {},
     "output_type": "execute_result"
    }
   ],
   "source": [
    "vect = CountVectorizer(max_df=0.9, min_df=5,stop_words='english', analyzer='word')\n",
    "vect.fit(X_train)\n",
    "X_train_dtm = vect.transform(X_train)\n",
    "X_test_dtm = vect.transform(X_test)\n",
    "nb = MultinomialNB()\n",
    "nb.fit(X_train_dtm, Y_train)\n",
    "y_pred = nb.predict(X_test_dtm)\n",
    "np.mean(y_pred == Y_test)"
   ]
  },
  {
   "cell_type": "code",
   "execution_count": null,
   "metadata": {
    "collapsed": true
   },
   "outputs": [],
   "source": [
    "def plot_scikit_lda(X, title):\n",
    "\n",
    "    ax = plt.subplot(111)\n",
    "    for label,marker,color in zip(\n",
    "        range(1,4),('^', 's', 'o'),('blue', 'red', 'green')):\n",
    "\n",
    "        plt.scatter(x=X[:,0][y == label],\n",
    "                    y=X[:,1][y == label] * -1, # flip the figure\n",
    "                    marker=marker,\n",
    "                    color=color,\n",
    "                    alpha=0.5,\n",
    "                    label=label_dict[label])\n",
    "\n",
    "    plt.xlabel('LD1')\n",
    "    plt.ylabel('LD2')\n",
    "\n",
    "    leg = plt.legend(loc='upper right', fancybox=True)\n",
    "    leg.get_frame().set_alpha(0.5)\n",
    "    plt.title(title)\n",
    "\n",
    "    # hide axis ticks\n",
    "    plt.tick_params(axis=\"both\", which=\"both\", bottom=\"off\", top=\"off\",  \n",
    "            labelbottom=\"on\", left=\"off\", right=\"off\", labelleft=\"on\")\n",
    "\n",
    "    # remove axis spines\n",
    "    ax.spines[\"top\"].set_visible(False)  \n",
    "    ax.spines[\"right\"].set_visible(False)\n",
    "    ax.spines[\"bottom\"].set_visible(False)\n",
    "    ax.spines[\"left\"].set_visible(False)    \n",
    "\n",
    "    plt.grid()\n",
    "    plt.tight_layout\n",
    "    plt.show()"
   ]
  },
  {
   "cell_type": "code",
   "execution_count": null,
   "metadata": {
    "collapsed": true
   },
   "outputs": [],
   "source": [
    "plot_step_lda()\n",
    "plot_scikit_lda(X_lda_sklearn, title='Default LDA via scikit-learn')"
   ]
  },
  {
   "cell_type": "code",
   "execution_count": null,
   "metadata": {
    "collapsed": true
   },
   "outputs": [],
   "source": []
  },
  {
   "cell_type": "code",
   "execution_count": null,
   "metadata": {
    "collapsed": true
   },
   "outputs": [],
   "source": []
  },
  {
   "cell_type": "code",
   "execution_count": 104,
   "metadata": {
    "collapsed": false
   },
   "outputs": [],
   "source": [
    "Y_Train[Y_Train == '?'] = 5\n",
    "Y_Train = Y_Train.astype(int)"
   ]
  },
  {
   "cell_type": "code",
   "execution_count": 101,
   "metadata": {
    "collapsed": false
   },
   "outputs": [
    {
     "data": {
      "text/plain": [
       "array([2, 2, 2, ..., 1, 1, 2])"
      ]
     },
     "execution_count": 101,
     "metadata": {},
     "output_type": "execute_result"
    }
   ],
   "source": []
  },
  {
   "cell_type": "code",
   "execution_count": 31,
   "metadata": {
    "collapsed": false
   },
   "outputs": [],
   "source": [
    "Test = pd.read_csv('test_raw.csv', header=None)\n",
    "Test.columns = ['User_ID', 'Gender', 'Age', 'Occupation', 'Star_Sign', 'Date', 'Text']\n",
    "X_Test = Test['Text']\n"
   ]
  },
  {
   "cell_type": "code",
   "execution_count": 128,
   "metadata": {
    "collapsed": false
   },
   "outputs": [
    {
     "name": "stderr",
     "output_type": "stream",
     "text": [
      "C:\\Users\\kenne\\Anaconda3\\lib\\site-packages\\sklearn\\feature_extraction\\text.py:1059: FutureWarning: Conversion of the second argument of issubdtype from `float` to `np.floating` is deprecated. In future, it will be treated as `np.float64 == np.dtype(float).type`.\n",
      "  if hasattr(X, 'dtype') and np.issubdtype(X.dtype, np.float):\n"
     ]
    }
   ],
   "source": [
    "from sklearn.feature_extraction.text import TfidfVectorizer\n",
    "tfidf = TfidfVectorizer(sublinear_tf=True, max_df=0.3, min_df=5, norm='l2', stop_words='english', analyzer='word')\n",
    "tfidf.fit(X_train)\n",
    "X_train_dtm = tfidf.transform(X_train)\n",
    "X_test_dtm = tfidf.transform(X_Test)\n"
   ]
  },
  {
   "cell_type": "code",
   "execution_count": 115,
   "metadata": {
    "collapsed": false
   },
   "outputs": [],
   "source": [
    "nb = MultinomialNB()\n",
    "nb.fit(X_train_dtm, Y_train)\n",
    "y_pred = nb.predict(X_test_dtm)"
   ]
  },
  {
   "cell_type": "code",
   "execution_count": 40,
   "metadata": {
    "collapsed": false
   },
   "outputs": [
    {
     "name": "stderr",
     "output_type": "stream",
     "text": [
      "C:\\Users\\kenne\\Anaconda3\\lib\\site-packages\\sklearn\\feature_extraction\\text.py:1059: FutureWarning: Conversion of the second argument of issubdtype from `float` to `np.floating` is deprecated. In future, it will be treated as `np.float64 == np.dtype(float).type`.\n",
      "  if hasattr(X, 'dtype') and np.issubdtype(X.dtype, np.float):\n"
     ]
    },
    {
     "ename": "ValueError",
     "evalue": "blocks[0,:] has incompatible row dimensions",
     "output_type": "error",
     "traceback": [
      "\u001b[0;31m---------------------------------------------------------------------------\u001b[0m",
      "\u001b[0;31mValueError\u001b[0m                                Traceback (most recent call last)",
      "\u001b[0;32m<ipython-input-40-6350612d7290>\u001b[0m in \u001b[0;36m<module>\u001b[0;34m()\u001b[0m\n\u001b[1;32m      4\u001b[0m \u001b[0mX_test_dtm\u001b[0m \u001b[1;33m=\u001b[0m \u001b[0mvect\u001b[0m\u001b[1;33m.\u001b[0m\u001b[0mtransform\u001b[0m\u001b[1;33m(\u001b[0m\u001b[0mX_Test\u001b[0m\u001b[1;33m)\u001b[0m\u001b[1;33m\u001b[0m\u001b[0m\n\u001b[1;32m      5\u001b[0m \u001b[0mX_train_dtm\u001b[0m \u001b[1;33m=\u001b[0m \u001b[0mhstack\u001b[0m\u001b[1;33m(\u001b[0m\u001b[1;33m(\u001b[0m\u001b[0mX_train_dtm\u001b[0m\u001b[1;33m,\u001b[0m\u001b[0mnp\u001b[0m\u001b[1;33m.\u001b[0m\u001b[0marray\u001b[0m\u001b[1;33m(\u001b[0m\u001b[0mtrain\u001b[0m\u001b[1;33m[\u001b[0m\u001b[1;34m'Word_len'\u001b[0m\u001b[1;33m]\u001b[0m\u001b[1;33m)\u001b[0m\u001b[1;33m[\u001b[0m\u001b[1;33m:\u001b[0m\u001b[1;33m,\u001b[0m\u001b[1;32mNone\u001b[0m\u001b[1;33m]\u001b[0m\u001b[1;33m)\u001b[0m\u001b[1;33m)\u001b[0m\u001b[1;33m\u001b[0m\u001b[0m\n\u001b[0;32m----> 6\u001b[0;31m \u001b[0mX_test_dtm\u001b[0m \u001b[1;33m=\u001b[0m \u001b[0mhstack\u001b[0m\u001b[1;33m(\u001b[0m\u001b[1;33m(\u001b[0m\u001b[0mX_test_dtm\u001b[0m\u001b[1;33m,\u001b[0m\u001b[0mnp\u001b[0m\u001b[1;33m.\u001b[0m\u001b[0marray\u001b[0m\u001b[1;33m(\u001b[0m\u001b[0mtest\u001b[0m\u001b[1;33m[\u001b[0m\u001b[1;34m'Word_len'\u001b[0m\u001b[1;33m]\u001b[0m\u001b[1;33m)\u001b[0m\u001b[1;33m[\u001b[0m\u001b[1;33m:\u001b[0m\u001b[1;33m,\u001b[0m\u001b[1;32mNone\u001b[0m\u001b[1;33m]\u001b[0m\u001b[1;33m)\u001b[0m\u001b[1;33m)\u001b[0m\u001b[1;33m\u001b[0m\u001b[0m\n\u001b[0m\u001b[1;32m      7\u001b[0m \u001b[0mclf\u001b[0m \u001b[1;33m=\u001b[0m \u001b[0msvm\u001b[0m\u001b[1;33m.\u001b[0m\u001b[0mLinearSVC\u001b[0m\u001b[1;33m(\u001b[0m\u001b[0mloss\u001b[0m\u001b[1;33m=\u001b[0m\u001b[1;34m'hinge'\u001b[0m\u001b[1;33m,\u001b[0m \u001b[0mclass_weight\u001b[0m \u001b[1;33m=\u001b[0m \u001b[1;33m{\u001b[0m\u001b[1;36m1\u001b[0m\u001b[1;33m:\u001b[0m\u001b[1;36m2.27\u001b[0m\u001b[1;33m,\u001b[0m \u001b[1;36m2\u001b[0m\u001b[1;33m:\u001b[0m\u001b[1;36m10.6\u001b[0m\u001b[1;33m,\u001b[0m \u001b[1;36m3\u001b[0m\u001b[1;33m:\u001b[0m\u001b[1;36m0.7\u001b[0m\u001b[1;33m,\u001b[0m \u001b[1;36m4\u001b[0m\u001b[1;33m:\u001b[0m\u001b[1;36m0.48\u001b[0m\u001b[1;33m}\u001b[0m\u001b[1;33m,\u001b[0m \u001b[0mC\u001b[0m\u001b[1;33m=\u001b[0m\u001b[1;36m0.4\u001b[0m\u001b[1;33m)\u001b[0m\u001b[1;33m\u001b[0m\u001b[0m\n\u001b[1;32m      8\u001b[0m \u001b[0mclf\u001b[0m\u001b[1;33m.\u001b[0m\u001b[0mfit\u001b[0m\u001b[1;33m(\u001b[0m\u001b[0mX_train_dtm\u001b[0m\u001b[1;33m,\u001b[0m \u001b[0mY_train\u001b[0m\u001b[1;33m)\u001b[0m\u001b[1;33m\u001b[0m\u001b[0m\n",
      "\u001b[0;32mC:\\Users\\kenne\\Anaconda3\\lib\\site-packages\\scipy\\sparse\\construct.py\u001b[0m in \u001b[0;36mhstack\u001b[0;34m(blocks, format, dtype)\u001b[0m\n\u001b[1;32m    462\u001b[0m \u001b[1;33m\u001b[0m\u001b[0m\n\u001b[1;32m    463\u001b[0m     \"\"\"\n\u001b[0;32m--> 464\u001b[0;31m     \u001b[1;32mreturn\u001b[0m \u001b[0mbmat\u001b[0m\u001b[1;33m(\u001b[0m\u001b[1;33m[\u001b[0m\u001b[0mblocks\u001b[0m\u001b[1;33m]\u001b[0m\u001b[1;33m,\u001b[0m \u001b[0mformat\u001b[0m\u001b[1;33m=\u001b[0m\u001b[0mformat\u001b[0m\u001b[1;33m,\u001b[0m \u001b[0mdtype\u001b[0m\u001b[1;33m=\u001b[0m\u001b[0mdtype\u001b[0m\u001b[1;33m)\u001b[0m\u001b[1;33m\u001b[0m\u001b[0m\n\u001b[0m\u001b[1;32m    465\u001b[0m \u001b[1;33m\u001b[0m\u001b[0m\n\u001b[1;32m    466\u001b[0m \u001b[1;33m\u001b[0m\u001b[0m\n",
      "\u001b[0;32mC:\\Users\\kenne\\Anaconda3\\lib\\site-packages\\scipy\\sparse\\construct.py\u001b[0m in \u001b[0;36mbmat\u001b[0;34m(blocks, format, dtype)\u001b[0m\n\u001b[1;32m    579\u001b[0m                 \u001b[1;32melif\u001b[0m \u001b[0mbrow_lengths\u001b[0m\u001b[1;33m[\u001b[0m\u001b[0mi\u001b[0m\u001b[1;33m]\u001b[0m \u001b[1;33m!=\u001b[0m \u001b[0mA\u001b[0m\u001b[1;33m.\u001b[0m\u001b[0mshape\u001b[0m\u001b[1;33m[\u001b[0m\u001b[1;36m0\u001b[0m\u001b[1;33m]\u001b[0m\u001b[1;33m:\u001b[0m\u001b[1;33m\u001b[0m\u001b[0m\n\u001b[1;32m    580\u001b[0m                     raise ValueError('blocks[%d,:] has incompatible '\n\u001b[0;32m--> 581\u001b[0;31m                                      'row dimensions' % i)\n\u001b[0m\u001b[1;32m    582\u001b[0m \u001b[1;33m\u001b[0m\u001b[0m\n\u001b[1;32m    583\u001b[0m                 \u001b[1;32mif\u001b[0m \u001b[0mbcol_lengths\u001b[0m\u001b[1;33m[\u001b[0m\u001b[0mj\u001b[0m\u001b[1;33m]\u001b[0m \u001b[1;33m==\u001b[0m \u001b[1;36m0\u001b[0m\u001b[1;33m:\u001b[0m\u001b[1;33m\u001b[0m\u001b[0m\n",
      "\u001b[0;31mValueError\u001b[0m: blocks[0,:] has incompatible row dimensions"
     ]
    }
   ],
   "source": [
    "vect = TfidfVectorizer(min_df=5, max_df = 0.3, stop_words='english', analyzer='word', token_pattern=u'(?ui)\\\\b\\\\w*[a-z]+\\\\w*\\\\b', ngram_range=(1,2))\n",
    "vect.fit(X_train)\n",
    "X_train_dtm = vect.transform(X_train)\n",
    "X_test_dtm = vect.transform(X_Test)\n",
    "X_train_dtm = hstack((X_train_dtm,np.array(train['Word_len'])[:,None]))\n"
   ]
  },
  {
   "cell_type": "code",
   "execution_count": 45,
   "metadata": {
    "collapsed": false
   },
   "outputs": [],
   "source": [
    "X_test_dtm = hstack((X_test_dtm,np.array(Test['Word_len'])[:,None]))\n",
    "clf = svm.LinearSVC(loss='hinge', class_weight = {1:2.27, 2:10.6, 3:0.7, 4:0.48}, C=0.4)\n",
    "clf.fit(X_train_dtm, Y_train)\n",
    "y_pred = clf.predict(X_test_dtm)"
   ]
  },
  {
   "cell_type": "code",
   "execution_count": 46,
   "metadata": {
    "collapsed": false
   },
   "outputs": [],
   "source": [
    "id_list = []\n",
    "for i in range(1,len(Test)+1):\n",
    "    idd = \"3\"+str(i)\n",
    "    id_list.append(int(idd))"
   ]
  },
  {
   "cell_type": "code",
   "execution_count": 47,
   "metadata": {
    "collapsed": true
   },
   "outputs": [],
   "source": [
    "results = pd.DataFrame(id_list, columns=[\"Id\"])"
   ]
  },
  {
   "cell_type": "code",
   "execution_count": 48,
   "metadata": {
    "collapsed": false
   },
   "outputs": [],
   "source": [
    "results['Prediction']=y_pred"
   ]
  },
  {
   "cell_type": "code",
   "execution_count": 49,
   "metadata": {
    "collapsed": false
   },
   "outputs": [],
   "source": [
    "results['Prediction'] =  results.Prediction.map({2:'24-26', 1:'14-16', 3:'34-36',4:'44-46'})"
   ]
  },
  {
   "cell_type": "code",
   "execution_count": 50,
   "metadata": {
    "collapsed": false
   },
   "outputs": [],
   "source": [
    "results.to_csv('svc_td.csv',index=False,header=['Id','Prediction'])"
   ]
  },
  {
   "cell_type": "code",
   "execution_count": 51,
   "metadata": {
    "collapsed": false
   },
   "outputs": [
    {
     "data": {
      "text/html": [
       "<div>\n",
       "<style scoped>\n",
       "    .dataframe tbody tr th:only-of-type {\n",
       "        vertical-align: middle;\n",
       "    }\n",
       "\n",
       "    .dataframe tbody tr th {\n",
       "        vertical-align: top;\n",
       "    }\n",
       "\n",
       "    .dataframe thead th {\n",
       "        text-align: right;\n",
       "    }\n",
       "</style>\n",
       "<table border=\"1\" class=\"dataframe\">\n",
       "  <thead>\n",
       "    <tr style=\"text-align: right;\">\n",
       "      <th></th>\n",
       "      <th>Id</th>\n",
       "      <th>Prediction</th>\n",
       "    </tr>\n",
       "  </thead>\n",
       "  <tbody>\n",
       "    <tr>\n",
       "      <th>0</th>\n",
       "      <td>31</td>\n",
       "      <td>24-26</td>\n",
       "    </tr>\n",
       "    <tr>\n",
       "      <th>1</th>\n",
       "      <td>32</td>\n",
       "      <td>24-26</td>\n",
       "    </tr>\n",
       "    <tr>\n",
       "      <th>2</th>\n",
       "      <td>33</td>\n",
       "      <td>24-26</td>\n",
       "    </tr>\n",
       "    <tr>\n",
       "      <th>3</th>\n",
       "      <td>34</td>\n",
       "      <td>24-26</td>\n",
       "    </tr>\n",
       "    <tr>\n",
       "      <th>4</th>\n",
       "      <td>35</td>\n",
       "      <td>24-26</td>\n",
       "    </tr>\n",
       "    <tr>\n",
       "      <th>5</th>\n",
       "      <td>36</td>\n",
       "      <td>24-26</td>\n",
       "    </tr>\n",
       "    <tr>\n",
       "      <th>6</th>\n",
       "      <td>37</td>\n",
       "      <td>24-26</td>\n",
       "    </tr>\n",
       "    <tr>\n",
       "      <th>7</th>\n",
       "      <td>38</td>\n",
       "      <td>24-26</td>\n",
       "    </tr>\n",
       "    <tr>\n",
       "      <th>8</th>\n",
       "      <td>39</td>\n",
       "      <td>24-26</td>\n",
       "    </tr>\n",
       "    <tr>\n",
       "      <th>9</th>\n",
       "      <td>310</td>\n",
       "      <td>24-26</td>\n",
       "    </tr>\n",
       "    <tr>\n",
       "      <th>10</th>\n",
       "      <td>311</td>\n",
       "      <td>24-26</td>\n",
       "    </tr>\n",
       "    <tr>\n",
       "      <th>11</th>\n",
       "      <td>312</td>\n",
       "      <td>24-26</td>\n",
       "    </tr>\n",
       "    <tr>\n",
       "      <th>12</th>\n",
       "      <td>313</td>\n",
       "      <td>24-26</td>\n",
       "    </tr>\n",
       "    <tr>\n",
       "      <th>13</th>\n",
       "      <td>314</td>\n",
       "      <td>24-26</td>\n",
       "    </tr>\n",
       "    <tr>\n",
       "      <th>14</th>\n",
       "      <td>315</td>\n",
       "      <td>24-26</td>\n",
       "    </tr>\n",
       "    <tr>\n",
       "      <th>15</th>\n",
       "      <td>316</td>\n",
       "      <td>24-26</td>\n",
       "    </tr>\n",
       "    <tr>\n",
       "      <th>16</th>\n",
       "      <td>317</td>\n",
       "      <td>24-26</td>\n",
       "    </tr>\n",
       "    <tr>\n",
       "      <th>17</th>\n",
       "      <td>318</td>\n",
       "      <td>24-26</td>\n",
       "    </tr>\n",
       "    <tr>\n",
       "      <th>18</th>\n",
       "      <td>319</td>\n",
       "      <td>24-26</td>\n",
       "    </tr>\n",
       "    <tr>\n",
       "      <th>19</th>\n",
       "      <td>320</td>\n",
       "      <td>24-26</td>\n",
       "    </tr>\n",
       "    <tr>\n",
       "      <th>20</th>\n",
       "      <td>321</td>\n",
       "      <td>24-26</td>\n",
       "    </tr>\n",
       "    <tr>\n",
       "      <th>21</th>\n",
       "      <td>322</td>\n",
       "      <td>24-26</td>\n",
       "    </tr>\n",
       "    <tr>\n",
       "      <th>22</th>\n",
       "      <td>323</td>\n",
       "      <td>24-26</td>\n",
       "    </tr>\n",
       "    <tr>\n",
       "      <th>23</th>\n",
       "      <td>324</td>\n",
       "      <td>24-26</td>\n",
       "    </tr>\n",
       "    <tr>\n",
       "      <th>24</th>\n",
       "      <td>325</td>\n",
       "      <td>24-26</td>\n",
       "    </tr>\n",
       "    <tr>\n",
       "      <th>25</th>\n",
       "      <td>326</td>\n",
       "      <td>24-26</td>\n",
       "    </tr>\n",
       "    <tr>\n",
       "      <th>26</th>\n",
       "      <td>327</td>\n",
       "      <td>24-26</td>\n",
       "    </tr>\n",
       "    <tr>\n",
       "      <th>27</th>\n",
       "      <td>328</td>\n",
       "      <td>24-26</td>\n",
       "    </tr>\n",
       "    <tr>\n",
       "      <th>28</th>\n",
       "      <td>329</td>\n",
       "      <td>24-26</td>\n",
       "    </tr>\n",
       "    <tr>\n",
       "      <th>29</th>\n",
       "      <td>330</td>\n",
       "      <td>24-26</td>\n",
       "    </tr>\n",
       "    <tr>\n",
       "      <th>...</th>\n",
       "      <td>...</td>\n",
       "      <td>...</td>\n",
       "    </tr>\n",
       "    <tr>\n",
       "      <th>42984</th>\n",
       "      <td>342985</td>\n",
       "      <td>24-26</td>\n",
       "    </tr>\n",
       "    <tr>\n",
       "      <th>42985</th>\n",
       "      <td>342986</td>\n",
       "      <td>24-26</td>\n",
       "    </tr>\n",
       "    <tr>\n",
       "      <th>42986</th>\n",
       "      <td>342987</td>\n",
       "      <td>24-26</td>\n",
       "    </tr>\n",
       "    <tr>\n",
       "      <th>42987</th>\n",
       "      <td>342988</td>\n",
       "      <td>24-26</td>\n",
       "    </tr>\n",
       "    <tr>\n",
       "      <th>42988</th>\n",
       "      <td>342989</td>\n",
       "      <td>24-26</td>\n",
       "    </tr>\n",
       "    <tr>\n",
       "      <th>42989</th>\n",
       "      <td>342990</td>\n",
       "      <td>24-26</td>\n",
       "    </tr>\n",
       "    <tr>\n",
       "      <th>42990</th>\n",
       "      <td>342991</td>\n",
       "      <td>24-26</td>\n",
       "    </tr>\n",
       "    <tr>\n",
       "      <th>42991</th>\n",
       "      <td>342992</td>\n",
       "      <td>24-26</td>\n",
       "    </tr>\n",
       "    <tr>\n",
       "      <th>42992</th>\n",
       "      <td>342993</td>\n",
       "      <td>24-26</td>\n",
       "    </tr>\n",
       "    <tr>\n",
       "      <th>42993</th>\n",
       "      <td>342994</td>\n",
       "      <td>24-26</td>\n",
       "    </tr>\n",
       "    <tr>\n",
       "      <th>42994</th>\n",
       "      <td>342995</td>\n",
       "      <td>24-26</td>\n",
       "    </tr>\n",
       "    <tr>\n",
       "      <th>42995</th>\n",
       "      <td>342996</td>\n",
       "      <td>14-16</td>\n",
       "    </tr>\n",
       "    <tr>\n",
       "      <th>42996</th>\n",
       "      <td>342997</td>\n",
       "      <td>24-26</td>\n",
       "    </tr>\n",
       "    <tr>\n",
       "      <th>42997</th>\n",
       "      <td>342998</td>\n",
       "      <td>24-26</td>\n",
       "    </tr>\n",
       "    <tr>\n",
       "      <th>42998</th>\n",
       "      <td>342999</td>\n",
       "      <td>24-26</td>\n",
       "    </tr>\n",
       "    <tr>\n",
       "      <th>42999</th>\n",
       "      <td>343000</td>\n",
       "      <td>24-26</td>\n",
       "    </tr>\n",
       "    <tr>\n",
       "      <th>43000</th>\n",
       "      <td>343001</td>\n",
       "      <td>24-26</td>\n",
       "    </tr>\n",
       "    <tr>\n",
       "      <th>43001</th>\n",
       "      <td>343002</td>\n",
       "      <td>24-26</td>\n",
       "    </tr>\n",
       "    <tr>\n",
       "      <th>43002</th>\n",
       "      <td>343003</td>\n",
       "      <td>24-26</td>\n",
       "    </tr>\n",
       "    <tr>\n",
       "      <th>43003</th>\n",
       "      <td>343004</td>\n",
       "      <td>24-26</td>\n",
       "    </tr>\n",
       "    <tr>\n",
       "      <th>43004</th>\n",
       "      <td>343005</td>\n",
       "      <td>24-26</td>\n",
       "    </tr>\n",
       "    <tr>\n",
       "      <th>43005</th>\n",
       "      <td>343006</td>\n",
       "      <td>24-26</td>\n",
       "    </tr>\n",
       "    <tr>\n",
       "      <th>43006</th>\n",
       "      <td>343007</td>\n",
       "      <td>24-26</td>\n",
       "    </tr>\n",
       "    <tr>\n",
       "      <th>43007</th>\n",
       "      <td>343008</td>\n",
       "      <td>24-26</td>\n",
       "    </tr>\n",
       "    <tr>\n",
       "      <th>43008</th>\n",
       "      <td>343009</td>\n",
       "      <td>24-26</td>\n",
       "    </tr>\n",
       "    <tr>\n",
       "      <th>43009</th>\n",
       "      <td>343010</td>\n",
       "      <td>24-26</td>\n",
       "    </tr>\n",
       "    <tr>\n",
       "      <th>43010</th>\n",
       "      <td>343011</td>\n",
       "      <td>24-26</td>\n",
       "    </tr>\n",
       "    <tr>\n",
       "      <th>43011</th>\n",
       "      <td>343012</td>\n",
       "      <td>24-26</td>\n",
       "    </tr>\n",
       "    <tr>\n",
       "      <th>43012</th>\n",
       "      <td>343013</td>\n",
       "      <td>24-26</td>\n",
       "    </tr>\n",
       "    <tr>\n",
       "      <th>43013</th>\n",
       "      <td>343014</td>\n",
       "      <td>24-26</td>\n",
       "    </tr>\n",
       "  </tbody>\n",
       "</table>\n",
       "<p>43014 rows × 2 columns</p>\n",
       "</div>"
      ],
      "text/plain": [
       "           Id Prediction\n",
       "0          31      24-26\n",
       "1          32      24-26\n",
       "2          33      24-26\n",
       "3          34      24-26\n",
       "4          35      24-26\n",
       "5          36      24-26\n",
       "6          37      24-26\n",
       "7          38      24-26\n",
       "8          39      24-26\n",
       "9         310      24-26\n",
       "10        311      24-26\n",
       "11        312      24-26\n",
       "12        313      24-26\n",
       "13        314      24-26\n",
       "14        315      24-26\n",
       "15        316      24-26\n",
       "16        317      24-26\n",
       "17        318      24-26\n",
       "18        319      24-26\n",
       "19        320      24-26\n",
       "20        321      24-26\n",
       "21        322      24-26\n",
       "22        323      24-26\n",
       "23        324      24-26\n",
       "24        325      24-26\n",
       "25        326      24-26\n",
       "26        327      24-26\n",
       "27        328      24-26\n",
       "28        329      24-26\n",
       "29        330      24-26\n",
       "...       ...        ...\n",
       "42984  342985      24-26\n",
       "42985  342986      24-26\n",
       "42986  342987      24-26\n",
       "42987  342988      24-26\n",
       "42988  342989      24-26\n",
       "42989  342990      24-26\n",
       "42990  342991      24-26\n",
       "42991  342992      24-26\n",
       "42992  342993      24-26\n",
       "42993  342994      24-26\n",
       "42994  342995      24-26\n",
       "42995  342996      14-16\n",
       "42996  342997      24-26\n",
       "42997  342998      24-26\n",
       "42998  342999      24-26\n",
       "42999  343000      24-26\n",
       "43000  343001      24-26\n",
       "43001  343002      24-26\n",
       "43002  343003      24-26\n",
       "43003  343004      24-26\n",
       "43004  343005      24-26\n",
       "43005  343006      24-26\n",
       "43006  343007      24-26\n",
       "43007  343008      24-26\n",
       "43008  343009      24-26\n",
       "43009  343010      24-26\n",
       "43010  343011      24-26\n",
       "43011  343012      24-26\n",
       "43012  343013      24-26\n",
       "43013  343014      24-26\n",
       "\n",
       "[43014 rows x 2 columns]"
      ]
     },
     "execution_count": 51,
     "metadata": {},
     "output_type": "execute_result"
    }
   ],
   "source": [
    "results"
   ]
  },
  {
   "cell_type": "code",
   "execution_count": 133,
   "metadata": {
    "collapsed": false
   },
   "outputs": [
    {
     "data": {
      "text/plain": [
       "0            31\n",
       "1            32\n",
       "2            33\n",
       "3            34\n",
       "4            35\n",
       "5            36\n",
       "6            37\n",
       "7            38\n",
       "8            39\n",
       "9           310\n",
       "10          311\n",
       "11          312\n",
       "12          313\n",
       "13          314\n",
       "14          315\n",
       "15          316\n",
       "16          317\n",
       "17          318\n",
       "18          319\n",
       "19          320\n",
       "20          321\n",
       "21          322\n",
       "22          323\n",
       "23          324\n",
       "24          325\n",
       "25          326\n",
       "26          327\n",
       "27          328\n",
       "28          329\n",
       "29          330\n",
       "          ...  \n",
       "42984    342985\n",
       "42985    342986\n",
       "42986    342987\n",
       "42987    342988\n",
       "42988    342989\n",
       "42989    342990\n",
       "42990    342991\n",
       "42991    342992\n",
       "42992    342993\n",
       "42993    342994\n",
       "42994    342995\n",
       "42995    342996\n",
       "42996    342997\n",
       "42997    342998\n",
       "42998    342999\n",
       "42999    343000\n",
       "43000    343001\n",
       "43001    343002\n",
       "43002    343003\n",
       "43003    343004\n",
       "43004    343005\n",
       "43005    343006\n",
       "43006    343007\n",
       "43007    343008\n",
       "43008    343009\n",
       "43009    343010\n",
       "43010    343011\n",
       "43011    343012\n",
       "43012    343013\n",
       "43013    343014\n",
       "Name: Id, Length: 43014, dtype: int32"
      ]
     },
     "execution_count": 133,
     "metadata": {},
     "output_type": "execute_result"
    }
   ],
   "source": [
    "results[results.columns[0]].astype(int)"
   ]
  },
  {
   "cell_type": "code",
   "execution_count": 93,
   "metadata": {
    "collapsed": false
   },
   "outputs": [],
   "source": [
    "results.loc[43013] = [343014,\"24-26\"]"
   ]
  },
  {
   "cell_type": "code",
   "execution_count": 181,
   "metadata": {
    "collapsed": false
   },
   "outputs": [],
   "source": [
    "results['Id']=results['Id'].astype(int)"
   ]
  },
  {
   "cell_type": "code",
   "execution_count": 185,
   "metadata": {
    "collapsed": false
   },
   "outputs": [
    {
     "name": "stderr",
     "output_type": "stream",
     "text": [
      "C:\\Users\\kenne\\Anaconda3\\lib\\site-packages\\ipykernel\\__main__.py:1: FutureWarning: specifying 'categories' or 'ordered' in .astype() is deprecated; pass a CategoricalDtype instead\n",
      "  if __name__ == '__main__':\n"
     ]
    }
   ],
   "source": [
    "results['Prediction']=results['Prediction'].astype('category', categories=[\"14-16\", \"24-26\", '34-36','44-46'])"
   ]
  },
  {
   "cell_type": "code",
   "execution_count": 1,
   "metadata": {
    "collapsed": false
   },
   "outputs": [
    {
     "ename": "NameError",
     "evalue": "name 'results' is not defined",
     "output_type": "error",
     "traceback": [
      "\u001b[0;31m---------------------------------------------------------------------------\u001b[0m",
      "\u001b[0;31mNameError\u001b[0m                                 Traceback (most recent call last)",
      "\u001b[0;32m<ipython-input-1-9c8f460a1fe6>\u001b[0m in \u001b[0;36m<module>\u001b[0;34m()\u001b[0m\n\u001b[0;32m----> 1\u001b[0;31m \u001b[0mresults\u001b[0m\u001b[1;33m.\u001b[0m\u001b[0mindex\u001b[0m\u001b[1;33m\u001b[0m\u001b[0m\n\u001b[0m",
      "\u001b[0;31mNameError\u001b[0m: name 'results' is not defined"
     ]
    }
   ],
   "source": [
    "results.index"
   ]
  },
  {
   "cell_type": "code",
   "execution_count": 49,
   "metadata": {
    "collapsed": false
   },
   "outputs": [
    {
     "data": {
      "text/plain": [
       "43013"
      ]
     },
     "execution_count": 49,
     "metadata": {},
     "output_type": "execute_result"
    }
   ],
   "source": [
    "len(results['Id'])"
   ]
  },
  {
   "cell_type": "code",
   "execution_count": 43,
   "metadata": {
    "collapsed": false
   },
   "outputs": [
    {
     "data": {
      "text/plain": [
       "43008                           Humans have always want...\n",
       "43009           Parking in major cities is a big proble...\n",
       "43010           Put simply, Voice over wireless network...\n",
       "43011           Recently many schemes have been propose...\n",
       "43012           Will discuss Spy Fly which is being dev...\n",
       "Name: Text, dtype: object"
      ]
     },
     "execution_count": 43,
     "metadata": {},
     "output_type": "execute_result"
    }
   ],
   "source": [
    "X_Test.tail(5)"
   ]
  },
  {
   "cell_type": "code",
   "execution_count": null,
   "metadata": {
    "collapsed": true
   },
   "outputs": [],
   "source": []
  }
 ],
 "metadata": {
  "kernelspec": {
   "display_name": "Python 3",
   "language": "python",
   "name": "python3"
  },
  "language_info": {
   "codemirror_mode": {
    "name": "ipython",
    "version": 3
   },
   "file_extension": ".py",
   "mimetype": "text/x-python",
   "name": "python",
   "nbconvert_exporter": "python",
   "pygments_lexer": "ipython3",
   "version": "3.6.0"
  }
 },
 "nbformat": 4,
 "nbformat_minor": 2
}
